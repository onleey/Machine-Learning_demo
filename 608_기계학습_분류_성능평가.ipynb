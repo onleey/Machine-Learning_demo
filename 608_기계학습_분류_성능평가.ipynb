{
  "nbformat": 4,
  "nbformat_minor": 0,
  "metadata": {
    "colab": {
      "provenance": [],
      "authorship_tag": "ABX9TyO4N6UhnHIFQ8OIbTuVqAJv",
      "include_colab_link": true
    },
    "kernelspec": {
      "name": "python3",
      "display_name": "Python 3"
    },
    "language_info": {
      "name": "python"
    }
  },
  "cells": [
    {
      "cell_type": "markdown",
      "metadata": {
        "id": "view-in-github",
        "colab_type": "text"
      },
      "source": [
        "<a href=\"https://colab.research.google.com/github/onleey/Machine-Learning_demo/blob/master/608_%EA%B8%B0%EA%B3%84%ED%95%99%EC%8A%B5_%EB%B6%84%EB%A5%98_%EC%84%B1%EB%8A%A5%ED%8F%89%EA%B0%80.ipynb\" target=\"_parent\"><img src=\"https://colab.research.google.com/assets/colab-badge.svg\" alt=\"Open In Colab\"/></a>"
      ]
    },
    {
      "cell_type": "code",
      "execution_count": 14,
      "metadata": {
        "colab": {
          "base_uri": "https://localhost:8080/"
        },
        "id": "8pCS5gypu1dm",
        "outputId": "84bf15df-a227-4393-9c99-e6fc9b63eb52"
      },
      "outputs": [
        {
          "output_type": "stream",
          "name": "stdout",
          "text": [
            "Drive already mounted at /content/drive; to attempt to forcibly remount, call drive.mount(\"/content/drive\", force_remount=True).\n",
            "/content/drive/MyDrive/001\n"
          ]
        }
      ],
      "source": [
        "from google.colab import drive\n",
        "drive.mount('/content/drive')\n",
        "\n",
        "%cd '/content/drive/MyDrive/001'"
      ]
    },
    {
      "cell_type": "markdown",
      "source": [
        "- 분류의 평가방법은 실제 결과 데이터와 예측 결과 데이터가 얼마나 정확하고 오류가 적게 발생하는가에 기반하지만, 단순히 정확도만 가지고 판단했다가는 잘못된 평가 결과게 빠질 수 있다.\n",
        "\n",
        "- 0 또는 1, 긍정 또는 부정을 판단하는 이진 분류에서는 정확도보다는 다른 성능 평가 지표가 더 중요시 되는 경우가 많다.  \n",
        "\n",
        "- 분류의 성능 평가 지표  \n",
        "① 정확도(Accuracy)  \n",
        "② 오차행렬(Confusion Matrix)  \n",
        "③ 정밀도(Precision)  \n",
        "④ 재현율(Recall)  \n",
        "⑤ F1 스코어  \n",
        "⑥ ROC AUC"
      ],
      "metadata": {
        "id": "6ITGGNA3UhZY"
      }
    },
    {
      "cell_type": "markdown",
      "source": [
        "### 1. 정확도 (Accuracy)  \n",
        "$정확도(Accuracy) = \\frac{예측 결과가 동일한 데이터 건수 }{전체 예측데이터 건수}$\n",
        "\n",
        "- 정확도는 직관적으로 모델 예측 성능을 나타내는 평가 지표이다.  \n",
        "- 하지만 이진 분류의 경우 데이터의 구성에 따라 ML모델의 성능을 왜곡할 수 있기 때문에 정확도 수치 하나만 가지고 성능을 평가하지 않는다."
      ],
      "metadata": {
        "id": "tGTqmWbRUxMv"
      }
    },
    {
      "cell_type": "markdown",
      "source": [
        "단순히 Sex 피처가 1이면 0, 그렇지않으면 1로 예측하는 단순한 Classifier이다."
      ],
      "metadata": {
        "id": "MD55XOqgU9fv"
      }
    },
    {
      "cell_type": "code",
      "source": [
        "import numpy as np\n",
        "from sklearn.base import BaseEstimator\n",
        "\n",
        "class MyDummyClassifier(BaseEstimator):\n",
        "\n",
        "  #fit()메소드는 아무것도 학습하지 않음\n",
        "  def fit(self, X, y=None):\n",
        "    pass\n",
        "\n",
        "  #predict() 메소드는 단순히 sex Feature가 1이면 0, 그렇지않으면 1로 예측함\n",
        "  def predict(self,X):\n",
        "    pred = np.zeros((X.shape[0],1))\n",
        "\n",
        "    for i in range(X.shape[0],1):\n",
        "      if X ['Sex'].iloc[1] == 1:\n",
        "        pred[i] = 0\n",
        "      else:\n",
        "        pred[i] = 1\n",
        "\n",
        "    return pred"
      ],
      "metadata": {
        "id": "aVutvrsAUj9g"
      },
      "execution_count": 15,
      "outputs": []
    },
    {
      "cell_type": "markdown",
      "source": [
        "앞에 타이타닉 예시에서 했던 전처리와 동일하게 처리"
      ],
      "metadata": {
        "id": "ypuxfY19WVH4"
      }
    },
    {
      "cell_type": "code",
      "source": [
        "import pandas as pd\n",
        "from sklearn.preprocessing import LabelEncoder\n",
        "\n",
        "# Null 처리 함수\n",
        "def fillna(df):\n",
        "    df['Age'].fillna(df['Age'].mean(),inplace=True)\n",
        "    df['Cabin'].fillna('N',inplace=True)\n",
        "    df['Embarked'].fillna('N',inplace=True)\n",
        "    df['Fare'].fillna(0,inplace=True)\n",
        "    return df\n",
        "\n",
        "# 머신러닝 알고리즘에 불필요한 속성 제거\n",
        "def drop_features(df):\n",
        "    df.drop(['PassengerId','Name','Ticket'],axis=1,inplace=True)\n",
        "    return df\n",
        "\n",
        "# 레이블 인코딩 수행.\n",
        "def format_features(df):\n",
        "    df['Cabin'] = df['Cabin'].str[:1]\n",
        "    features = ['Cabin','Sex','Embarked']\n",
        "    for feature in features:\n",
        "        le = LabelEncoder()\n",
        "        le = le.fit(df[feature])\n",
        "        df[feature] = le.transform(df[feature])\n",
        "    return df\n",
        "\n",
        "# 앞에서 설정한 Data Preprocessing 함수 호출\n",
        "def transform_features(df):\n",
        "    df = fillna(df)\n",
        "    df = drop_features(df)\n",
        "    df = format_features(df)\n",
        "    return df"
      ],
      "metadata": {
        "id": "v8AL5FaHWYIW"
      },
      "execution_count": 16,
      "outputs": []
    },
    {
      "cell_type": "markdown",
      "source": [
        "정확도 측정"
      ],
      "metadata": {
        "id": "mix9r4jAWdEe"
      }
    },
    {
      "cell_type": "code",
      "source": [
        "import pandas as pd\n",
        "from sklearn.model_selection import train_test_split\n",
        "from sklearn.metrics import accuracy_score\n",
        "\n",
        "titanic_df = pd.read_csv('./datasets/titanic/titanic/train.csv')\n",
        "#print(titanic_df.head(3))\n",
        "\n",
        "\n",
        "y_titanic_df = titanic_df['Survived']\n",
        "X_titanic_df = titanic_df.drop ('Survived', axis = 1)\n",
        "print(X_titanic_df.columns)\n",
        "\n",
        "X_train, X_test, y_train, y_test = train_test_split(X_titanic_df, y_titanic_df, test_size = 0.2, random_state=0)\n",
        "\n",
        "print('X_test:{}'.format(X_test.shape))\n",
        "#직접구현한 Mydummyclassifier로 학습/에측/평가 수행\n",
        "myclf = MyDummyClassifier()\n",
        "myclf.fit(X_train, y_train)\n",
        "\n",
        "mypredictions= myclf.predict(X_test)\n",
        "print('Dummy Classifier의 정확도는 : {0:.4f}'.format(accuracy_score(y_test, mypredictions)))\n",
        "\n",
        "\n",
        "\n"
      ],
      "metadata": {
        "colab": {
          "base_uri": "https://localhost:8080/"
        },
        "id": "ZievcXNYWeDa",
        "outputId": "48c7add0-2315-40f8-f572-74a934bcc320"
      },
      "execution_count": 18,
      "outputs": [
        {
          "output_type": "stream",
          "name": "stdout",
          "text": [
            "Index(['PassengerId', 'Pclass', 'Name', 'Sex', 'Age', 'SibSp', 'Parch',\n",
            "       'Ticket', 'Fare', 'Cabin', 'Embarked'],\n",
            "      dtype='object')\n",
            "X_test:(179, 11)\n",
            "Dummy Classifier의 정확도는 : 0.6145\n"
          ]
        }
      ]
    },
    {
      "cell_type": "markdown",
      "source": [
        "불균형한 이진 분류로 만들기 위해 숫자 '7'만 True 나머지 숫자는 False로 설정\n",
        "\n",
        "- 마찬가지로 fit은 아무것도 하지 않음\n",
        "- predict에서는 무조건 0을 반환함\n",
        "- 모든 예측을 다 0으로 하는 것! (모두 7이 아닌 다른 숫자라고 예측)\n",
        "- 당연히 모델로서 말이 안 되는데 이것의 정확도를 측정"
      ],
      "metadata": {
        "id": "KlJO9nzGshcx"
      }
    },
    {
      "cell_type": "code",
      "source": [
        "from sklearn.datasets import load_digits\n",
        "from sklearn.model_selection import train_test_split\n",
        "from sklearn.base import BaseEstimator\n",
        "from sklearn.metrics import confusion_matrix\n",
        "from sklearn.metrics import accuracy_score\n",
        "import numpy as np\n",
        "import pandas as pd\n",
        "\n",
        "class MyFakeClassifier(BaseEstimator):\n",
        "    def fit(self,X,y):\n",
        "        pass\n",
        "\n",
        "    # 입력값으로 들어오는 X 데이터 셋의 크기만큼 모두 0값으로 만들어서 반환\n",
        "    def predict(self,X):\n",
        "        return np.zeros( (len(X), 1) , dtype=bool)\n",
        "\n",
        "# 사이킷런의 내장 데이터 셋인 load_digits( )를 이용하여 MNIST 데이터 로딩\n",
        "digits = load_digits()\n",
        "\n",
        "print(digits.data)\n",
        "print(\"### digits.data.shape:\", digits.data.shape)\n",
        "print(digits.target)\n",
        "print(\"### digits.target.shape:\", digits.target.shape)\n",
        "\n",
        "\n"
      ],
      "metadata": {
        "colab": {
          "base_uri": "https://localhost:8080/"
        },
        "id": "SAkAfJN5sTA-",
        "outputId": "6a1d0cd0-de82-4027-ca9c-2abdba43f679"
      },
      "execution_count": 24,
      "outputs": [
        {
          "output_type": "stream",
          "name": "stdout",
          "text": [
            "[[ 0.  0.  5. ...  0.  0.  0.]\n",
            " [ 0.  0.  0. ... 10.  0.  0.]\n",
            " [ 0.  0.  0. ... 16.  9.  0.]\n",
            " ...\n",
            " [ 0.  0.  1. ...  6.  0.  0.]\n",
            " [ 0.  0.  2. ... 12.  0.  0.]\n",
            " [ 0.  0. 10. ... 12.  1.  0.]]\n",
            "### digits.data.shape: (1797, 64)\n",
            "[0 1 2 ... 8 9 8]\n",
            "### digits.target.shape: (1797,)\n"
          ]
        }
      ]
    },
    {
      "cell_type": "markdown",
      "source": [
        "정확도"
      ],
      "metadata": {
        "id": "0lBEkxHZtQ_c"
      }
    },
    {
      "cell_type": "code",
      "source": [
        "print(digits.target)\n",
        "# 숫자가 7인경우 True이고 나머지는 False이므로 이를 1과 0으로 변환하기 위해서 astype(int로)한것이다.\n",
        "y= (digits.target == 7). astype(int)\n",
        "print(y)\n",
        "\n",
        "X_train, X_test, y_train, y_test = train_test_split(digits.data, y, random_state=11)\n",
        "print(pd.Series(y_train).value_counts())\n",
        "print(pd.Series(y_test).value_counts())\n",
        "\n",
        "#MyFakeClassifier로 학습/예측/정확도 평가\n",
        "fakeclf = MyFakeClassifier()\n",
        "fakeclf.fit(X_train, y_train)\n",
        "\n",
        "\n",
        "fakepred = fakeclf.predict(X_test)\n",
        "print('모든 예측을 0으로 하여도 정확도는 : {:.3f}'.format(accuracy_score(y_test, fakepred)))\n",
        "\n",
        "\n",
        "cf= confusion_matrix(y_test, fakepred)\n",
        "print('confusion_matrix')\n",
        "print(cf)\n",
        "\n"
      ],
      "metadata": {
        "colab": {
          "base_uri": "https://localhost:8080/"
        },
        "id": "Al6hhfEttS3T",
        "outputId": "2d34bdbc-12fa-4730-880d-e3eb9df9cd87"
      },
      "execution_count": 36,
      "outputs": [
        {
          "output_type": "stream",
          "name": "stdout",
          "text": [
            "[0 1 2 ... 8 9 8]\n",
            "[0 0 0 ... 0 0 0]\n",
            "0    1213\n",
            "1     134\n",
            "dtype: int64\n",
            "0    405\n",
            "1     45\n",
            "dtype: int64\n",
            "모든 예측을 0으로 하여도 정확도는 : 0.900\n",
            "confusion_matrix\n",
            "[[405   0]\n",
            " [ 45   0]]\n"
          ]
        }
      ]
    },
    {
      "cell_type": "markdown",
      "source": [
        "- 모든 예측을 0으로 했지만, 0 (7이 아닌 숫자)이 1 (숫자 7)보다 훨씬 많은 불균형 데이터였기 때문에, 정확도가 무려 90%가 나왔다.\n",
        "\n",
        "- 이렇게 두 가지 예제로 불균형 데이터에서 정확도의 성능 평가지표로서 한계를 보였다"
      ],
      "metadata": {
        "id": "zgXpR5etygU7"
      }
    },
    {
      "cell_type": "markdown",
      "source": [
        "### 2 오차행렬 = 오분류표=혼동행렬\n",
        "- 이진 분류에서 성능 지표로 오차행렬(confusion matrix, 혼동 행렬)은 학습된 분류 모델이 예측을 수행하면서 얼마나 헷갈리고(confused) 있는지도 함께 보여주는 지표이다.\n",
        "\n",
        "\n",
        "![confusion](https://velog.velcdn.com/images/gangjoo/post/c6d9396b-15b1-4325-b429-50ca9fc3210c/image.png)\n",
        "\n",
        "\n",
        "- TN는 예측값을 Negative 값 0으로 예측했고 실제값 역시 Negative 값 0\n",
        "- FP는 예측값을 Positive 값 1로 예측했는데 실제 값은 Negative 값 0\n",
        "- FN은 예측값을 Negative 값 0으로 예측했는데 실제 값은 Positive 값 1\n",
        "- TP는 예측값을 Positive갑 1로 예측했는데 실제 값 역시 Positive 값 1\n",
        "\n",
        "\n",
        "- False Positive는 1종 오류\n",
        "- False Negative는 2종 오류\n",
        "\n",
        "1종 오류와 2종 오류 중에서 어떤 것이 더 중요한지는, 의사결정자의 판단에 따라 다르다.\n",
        "\n",
        "\n",
        "정확도(Accuracy) = 예측  결과와 실제 값이 동일한 건수 / 전체 데이터수 = (TN + TP ) / (TN + FP + FN + TP)"
      ],
      "metadata": {
        "id": "osE2-cpSy5Py"
      }
    },
    {
      "cell_type": "code",
      "source": [
        "from sklearn.metrics import confusion_matrix\n",
        "import seaborn as sns\n",
        "sns.heatmap(confusion_matrix(y_test, fakepred), annot=True, fmt='2.0f', cmap='summer_r')"
      ],
      "metadata": {
        "colab": {
          "base_uri": "https://localhost:8080/",
          "height": 449
        },
        "id": "PwwNFJMUtR8E",
        "outputId": "2d89e9eb-8181-4b15-bb13-bed01268fbbd"
      },
      "execution_count": 37,
      "outputs": [
        {
          "output_type": "execute_result",
          "data": {
            "text/plain": [
              "<Axes: >"
            ]
          },
          "metadata": {},
          "execution_count": 37
        },
        {
          "output_type": "display_data",
          "data": {
            "text/plain": [
              "<Figure size 640x480 with 2 Axes>"
            ],
            "image/png": "[encoded data removed]"
          },
          "metadata": {}
        }
      ]
    },
    {
      "cell_type": "markdown",
      "source": [
        "정밀도(Precision) = TP  / (FP + TP)  \n",
        "재현율(Recall) = TP / (FN + TP)  \n",
        "재현율(Recall)=민감도(Sensitivity)=TPR(True Positive Rate)\n",
        "\n",
        "\n",
        "- 불균형한 데이터 세트에서 정확도만으로는 모델 신뢰도가 떨어질 수 있다.\n",
        "- 재현율이 상대적으로 더 중요한 지표인 경우는 실제 Positive 양성인 데이터 예측을 Negative로 잘못 판단하게 되면 업무상 큰 영향이 발생하는 경우 ex) 암 판단 모델, 보험 사기등의 금융 사기 적발 모델이다.\n",
        "- 정밀도가 상대적으로 더 중요한 지표인 경우는 실제 Negative 음성인 데이터 예측을 Positive로 잘못 판단하게 되면 업무상 큰 영향이 발생하는 경우 ex) 스팸 메일 여부를 판단하는 모델이다.\n",
        "-재현율과 정밀도 모두 TP를 높이는데 초점을 맞추지만, 재현율은 FN을 낮추는데, 정밀도는 FP를 낮추는데 초점을 맞춘다.\n",
        "- 사이킷런은 정밀도 계산을 위해 precision_score(), 재현율 계산을 위해 recall_score()를 API로 제공한다."
      ],
      "metadata": {
        "id": "w6upIlS60dwq"
      }
    },
    {
      "cell_type": "markdown",
      "source": [
        "평가를 간편하게 적용하기 위해서 confusion matrix, accuracy, precision, recall등의 평가를 한번에 호출하는 get_clf_eval()함수를 만들고 타이타닉 데이터를 가공해 로지스틱 회귀로 분류를 수행"
      ],
      "metadata": {
        "id": "VYGSp_4H6p1P"
      }
    },
    {
      "cell_type": "code",
      "source": [
        "from sklearn.metrics import precision_score, recall_score\n",
        "\n",
        "def get_clf_eval(y_test, pred):\n",
        "    confusion = confusion_matrix(y_test, pred)\n",
        "    accuracy = accuracy_score(y_test, pred)\n",
        "    precision = precision_score(y_test, pred)\n",
        "    recall = recall_score(y_test, pred)\n",
        "    sns.heatmap(confusion, annot=True, fmt='2.0f', cmap='summer_r')\n",
        "    print('정확도: {0:.4f}, 정밀도: {1:.4f}, 재현율: {2:.4f}'.format(accuracy, precision, recall))"
      ],
      "metadata": {
        "id": "0krVaFvg5mHG"
      },
      "execution_count": 38,
      "outputs": []
    },
    {
      "cell_type": "code",
      "source": [
        "from sklearn.linear_model import LogisticRegression\n",
        "\n",
        "titanic_df = pd.read_csv('./datasets/titanic/titanic/train.csv')\n",
        "y_titanic_df = titanic_df['Survived']\n",
        "X_titanic_df = titanic_df.drop('Survived', axis=1)\n",
        "X_titanic_df = transform_features(X_titanic_df)\n",
        "\n",
        "print(X_titanic_df.shape)\n",
        "X_train, X_test, y_train, y_test = train_test_split(X_titanic_df, y_titanic_df, test_size=0.20, random_state=11)\n",
        "print(X_train.shape)\n",
        "print(X_test.shape)\n",
        "lr_clf = LogisticRegression(max_iter=500)\n",
        "lr_clf.fit(X_train, y_train)\n",
        "pred = lr_clf.predict(X_test)\n",
        "get_clf_eval(y_test, pred)"
      ],
      "metadata": {
        "colab": {
          "base_uri": "https://localhost:8080/",
          "height": 504
        },
        "id": "N-4e-TNsy7ua",
        "outputId": "4cdb4246-ed04-4435-a8d1-b63b2a1c193f"
      },
      "execution_count": 40,
      "outputs": [
        {
          "output_type": "stream",
          "name": "stdout",
          "text": [
            "(891, 8)\n",
            "(712, 8)\n",
            "(179, 8)\n",
            "정확도: 0.8492, 정밀도: 0.7742, 재현율: 0.7869\n"
          ]
        },
        {
          "output_type": "display_data",
          "data": {
            "text/plain": [
              "<Figure size 640x480 with 2 Axes>"
            ],
            "image/png": "[encoded data removed]"
          },
          "metadata": {}
        }
      ]
    },
    {
      "cell_type": "code",
      "source": [
        "pred_proba = lr_clf.predict_proba(X_test)\n",
        "pred = lr_clf.predict(X_test)\n",
        "print(f'pred_proba() 결과 shape: {pred_proba.shape}')\n",
        "print(f'pred_proba array에서 앞 3개만 샘플로 추출:\\n{pred_proba[:3]}')\n",
        "\n",
        "# 예측 확률 array와 예측 결괏값 array를 병합해 예측 확률과 결과값을 한눈에 확인\n",
        "pred_proba_result = np.concatenate([pred_proba, pred.reshape(-1, 1)], axis=1)\n",
        "print(f'두 개의 class중에서 더 큰 확률을 클래스 값으로 예측:\\n{pred_proba_result[:3]}')"
      ],
      "metadata": {
        "colab": {
          "base_uri": "https://localhost:8080/"
        },
        "id": "2q2V92hY_Cic",
        "outputId": "225f1db8-f51d-463e-83e7-706fd67f9e5c"
      },
      "execution_count": 41,
      "outputs": [
        {
          "output_type": "stream",
          "name": "stdout",
          "text": [
            "pred_proba() 결과 shape: (179, 2)\n",
            "pred_proba array에서 앞 3개만 샘플로 추출:\n",
            "[[0.4621693  0.5378307 ]\n",
            " [0.87879062 0.12120938]\n",
            " [0.87724729 0.12275271]]\n",
            "두 개의 class중에서 더 큰 확률을 클래스 값으로 예측:\n",
            "[[0.4621693  0.5378307  1.        ]\n",
            " [0.87879062 0.12120938 0.        ]\n",
            " [0.87724729 0.12275271 0.        ]]\n"
          ]
        }
      ]
    },
    {
      "cell_type": "markdown",
      "source": [
        "사이킷런의 predict()는 predict_proba() 메서드가 반환하는 확률 값을 가진 ndarray에서 정해진 임곗값(위의 예제는 0.5)을 만족하는 ndarray의 칼럼 위치를 최종 예측 클래스로 결정한다. 사이킷런의 Binarizer 클래스를 이용해서 이 로직을 구현한다."
      ],
      "metadata": {
        "id": "wlALNZ3b_6eP"
      }
    },
    {
      "cell_type": "code",
      "source": [
        "# 이해를 돕기위한 Binarizer 예제\n",
        "from sklearn.preprocessing import Binarizer\n",
        "\n",
        "X = [[1, -1, 2],\n",
        "    [2, 0 , 0],\n",
        "    [0, 1.1, 1.2]]\n",
        "\n",
        "# X의 개별 원소들이 threshold 값보다 같거나 작으면 0, 크면 1\n",
        "binarizer = Binarizer(threshold=1.1)\n",
        "print(binarizer.fit_transform(X))"
      ],
      "metadata": {
        "colab": {
          "base_uri": "https://localhost:8080/"
        },
        "id": "7zA9ixhL_4G1",
        "outputId": "bbc07e5c-e3ff-4bea-905a-662f6f879cd9"
      },
      "execution_count": 42,
      "outputs": [
        {
          "output_type": "stream",
          "name": "stdout",
          "text": [
            "[[0. 0. 1.]\n",
            " [1. 0. 0.]\n",
            " [0. 0. 1.]]\n"
          ]
        }
      ]
    },
    {
      "cell_type": "code",
      "source": [
        "custom_threshold = 0.5\n",
        "\n",
        "# predict_proba() 반환값의 두 번째 칼럼, 즉 positive 클래스 칼럼 하나만 추출해 Binarizer를 적용\n",
        "pred_proba_1 = pred_proba[:, 1].reshape(-1, 1)\n",
        "binarizer = Binarizer(threshold=custom_threshold).fit(pred_proba_1)\n",
        "custom_predict = binarizer.transform(pred_proba_1)\n",
        "\n",
        "get_clf_eval(y_test, custom_predict)"
      ],
      "metadata": {
        "colab": {
          "base_uri": "https://localhost:8080/",
          "height": 448
        },
        "id": "HAmQapFaARl8",
        "outputId": "dca777a5-807a-4b81-bca5-1b76da6f0431"
      },
      "execution_count": 43,
      "outputs": [
        {
          "output_type": "stream",
          "name": "stdout",
          "text": [
            "정확도: 0.8492, 정밀도: 0.7742, 재현율: 0.7869\n"
          ]
        },
        {
          "output_type": "display_data",
          "data": {
            "text/plain": [
              "<Figure size 640x480 with 2 Axes>"
            ],
            "image/png": "[encoded data removed]"
          },
          "metadata": {}
        }
      ]
    }
  ]
}