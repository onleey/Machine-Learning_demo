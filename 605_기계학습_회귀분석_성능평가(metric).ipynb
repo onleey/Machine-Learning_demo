{
  "nbformat": 4,
  "nbformat_minor": 0,
  "metadata": {
    "colab": {
      "provenance": [],
      "authorship_tag": "ABX9TyPZsYEl7eyi4lBCLowwjkIs",
      "include_colab_link": true
    },
    "kernelspec": {
      "name": "python3",
      "display_name": "Python 3"
    },
    "language_info": {
      "name": "python"
    }
  },
  "cells": [
    {
      "cell_type": "markdown",
      "metadata": {
        "id": "view-in-github",
        "colab_type": "text"
      },
      "source": [
        "<a href=\"https://colab.research.google.com/github/onleey/Machine-Learning_demo/blob/master/605_%EA%B8%B0%EA%B3%84%ED%95%99%EC%8A%B5_%ED%9A%8C%EA%B7%80%EB%B6%84%EC%84%9D_%EC%84%B1%EB%8A%A5%ED%8F%89%EA%B0%80(metric).ipynb\" target=\"_parent\"><img src=\"https://colab.research.google.com/assets/colab-badge.svg\" alt=\"Open In Colab\"/></a>"
      ]
    },
    {
      "cell_type": "markdown",
      "source": [
        "【모델 예측 성능평가】\n",
        "- 모델 예측 성능평가하는 학습모델이 실제값을 얼마나 정확하게 맞추었는지를  나타내는 것이다.\n",
        "- 머신러닝 모델은 여러가지 방법으로 예측 성능을 평가할 수 있다.\n",
        "- 이를 성능평가지표(Evaluation Metric)라 하며, 일반적으로 분석 알고리즘이 회귀분석인지 분류분석인지에 따라 여러 종류가 있다.\n",
        "-  회귀분석 성능평가 종류\n",
        "\n",
        "|종류\t|\t잔차 계산 |\t이상치 영향|\n",
        "|---|---|---|\n",
        "|MAE\t(Mean Absolute Error) |\tAbsolute Value|\tYes|\n",
        "|MSE\t(Mean Squared Error)\t|Square|\tNo|\n",
        "|RMSE\t(Root Mean Squared Error) |\tSquare|\tNo|\n",
        "|MAPE\t(Mean Absolute Percentage Error)\t| Absolute Value|\t Yes|\n",
        "|MPE\t(Mean Percentage Error)\t|N/A\t|Yes|"
      ],
      "metadata": {
        "id": "Cz75tg9ZVnMp"
      }
    },
    {
      "cell_type": "markdown",
      "source": [
        "### 1. 평균 절대 오차 (MAE : Mean Absolute Error)\n",
        "- 실제 값과 예측 값의 차이(Error)를 절대값으로 변환해 평균한다.\n",
        "- MAE는 에러에 절대값을 취하기 때문에 에러의 크기 그대로 반영된다.\n",
        "- 에러에 따른 손실이 선형적으로 올라갈 때 적합하다.\n",
        "- 0에 가까울수록 좋은 모델이라고 할 수 있다.\n",
        "- 이상치에 영향을 받는다.\n",
        "- 회귀평가를 위한 지표로 주로 쓰인다\n",
        "\n",
        " $$ MAE = \\frac{1}{n}\\sum_{i=1}^{n} |Y_i-\\hat{Y_i}|$$"
      ],
      "metadata": {
        "id": "j0uNP86pVnBi"
      }
    },
    {
      "cell_type": "markdown",
      "source": [
        "python으로 MAE 구현"
      ],
      "metadata": {
        "id": "4KOqQ2e4WlLK"
      }
    },
    {
      "cell_type": "code",
      "execution_count": 6,
      "metadata": {
        "colab": {
          "base_uri": "https://localhost:8080/"
        },
        "id": "RIR_7rTjVkiU",
        "outputId": "19e4f0b3-0cd7-456a-93de-c07c2df34d4e"
      },
      "outputs": [
        {
          "output_type": "stream",
          "name": "stdout",
          "text": [
            "[-0.1 -0.3 -0.2]\n",
            "0.20000000000000004\n"
          ]
        }
      ],
      "source": [
        "import numpy as np\n",
        "\n",
        "testVal = np.array([1, 1.7, 1.5]) # 실제값\n",
        "predVal = np.array ([1.1, 2, 1.7]) # 예측값\n",
        "print(testVal-predVal)\n",
        "\n",
        "mae = sum (np.abs(testVal -predVal)) /len (predVal)\n",
        "print(mae)"
      ]
    },
    {
      "cell_type": "markdown",
      "source": [
        "sklearn의 mean_absolute_error()로 계산"
      ],
      "metadata": {
        "id": "MutSeCXsXyap"
      }
    },
    {
      "cell_type": "code",
      "source": [
        "from sklearn.metrics import mean_absolute_error\n",
        "testVal = np.array([1, 1.7, 1.5])\n",
        "predVal = np.array([1.1,2,1.7])\n",
        "mean_absolute_error(testVal, predVal)"
      ],
      "metadata": {
        "colab": {
          "base_uri": "https://localhost:8080/"
        },
        "id": "WXi8JihrXtpc",
        "outputId": "6920c7dd-f717-408f-ab3b-cf1ff6990e6b"
      },
      "execution_count": 8,
      "outputs": [
        {
          "output_type": "execute_result",
          "data": {
            "text/plain": [
              "0.20000000000000004"
            ]
          },
          "metadata": {},
          "execution_count": 8
        }
      ]
    },
    {
      "cell_type": "markdown",
      "source": [
        "### 2 평균 제곱 오차(MSE : Mean Squared Error)\n",
        "\n",
        "- 실제값과 예측값의 차이를 제곱해 평균한다.\n",
        "- 예측값과 실제값 차이의 면적의 평균과 같다.\n",
        "- 이상값(특이값)이 존재하면 수치가 많이 늘어난다.\n",
        "- MSE가 0에 가까울수록 추측한 값이 원본에 가까운 것이기 때문에 정확도가 높다고 할 수 있다.\n",
        "\n",
        "\n",
        " $$ MSE = \\frac{1}{n}\\sum_{i=1}^{n} (Y_i-\\hat{Y_i})^2$$"
      ],
      "metadata": {
        "id": "zwluc4xeVmoK"
      }
    },
    {
      "cell_type": "markdown",
      "source": [
        "python 으로 mse 구현"
      ],
      "metadata": {
        "id": "dxtztFYiYvkA"
      }
    },
    {
      "cell_type": "code",
      "source": [
        "import numpy as np\n",
        "\n",
        "testVal = np.array ([1, 1.7, 1.5])\n",
        "predVal = np.array ([1.1 , 2, 1.7])\n",
        "\n",
        "mse = sum ((testVal - predVal)** 2) /len(predVal)\n",
        "print (mse)"
      ],
      "metadata": {
        "colab": {
          "base_uri": "https://localhost:8080/"
        },
        "id": "hdbDmZjeYyw_",
        "outputId": "7fbb6646-38f8-46b8-a708-afa623e04c44"
      },
      "execution_count": 12,
      "outputs": [
        {
          "output_type": "stream",
          "name": "stdout",
          "text": [
            "0.04666666666666667\n"
          ]
        }
      ]
    },
    {
      "cell_type": "markdown",
      "source": [
        "sklearn의 mean_squared_error()로 계산"
      ],
      "metadata": {
        "id": "zSEC5Q-mZbOf"
      }
    },
    {
      "cell_type": "code",
      "source": [
        "from sklearn.metrics import mean_squared_error\n",
        "testVal = np.array ([1, 1.7, 1.5])\n",
        "predVal = np.array ([1.1,2,1.7])\n",
        "#squared : defalt = True\n",
        "#If True returns MSLE (mean squared log error) value.\n",
        "#If False returns RMSLE (rooe mean squared log error)\n",
        "\n",
        "mean_squared_error(testVal, predVal, squared= True)"
      ],
      "metadata": {
        "colab": {
          "base_uri": "https://localhost:8080/"
        },
        "id": "HiosxtCJZa-v",
        "outputId": "51ab5d9e-c745-4458-9f6e-af765c1d40f3"
      },
      "execution_count": 14,
      "outputs": [
        {
          "output_type": "execute_result",
          "data": {
            "text/plain": [
              "0.04666666666666667"
            ]
          },
          "metadata": {},
          "execution_count": 14
        }
      ]
    },
    {
      "cell_type": "markdown",
      "source": [
        "### 3 루트 평균 제곱근 오차(RMSE)\n",
        "\n",
        "- 실제값과 예측값의 차이를 제곱해 평균한 것에 루트를 씌운다\n",
        "- 에러에 제곱을 하면 에러가 클수록 그에 따른 가중치가 높이 반영된다.\n",
        "- 이때, 손실이 기하급수적으로 증가하는 상황에서 실제 오류평균보다 값이 더 커지지 않도록 하기 위해 사용한다.\n",
        "\n",
        "\n",
        " $$ RMSE = \\sqrt{\\frac{1}{n}\\sum_{i=1}^{n} (Y_i-\\hat{Y_i})^2}$$"
      ],
      "metadata": {
        "id": "C6vuGKI0adyA"
      }
    },
    {
      "cell_type": "markdown",
      "source": [
        "python으로 rmse 구현"
      ],
      "metadata": {
        "id": "twmh5Q6-aut_"
      }
    },
    {
      "cell_type": "code",
      "source": [
        "import numpy as np\n",
        "\n",
        "testVal = np.array ([1, 1.7, 1.5])\n",
        "predVal = np.array ([1.1, 2, 1.7])\n",
        "\n",
        "rmse = np.sqrt(sum((testVal - predVal)**2)/len(predVal))\n",
        "print(rmse)"
      ],
      "metadata": {
        "colab": {
          "base_uri": "https://localhost:8080/"
        },
        "id": "otb9xn9tZXPR",
        "outputId": "fc77d953-1266-4a15-b6cf-34bfd4205e3f"
      },
      "execution_count": 16,
      "outputs": [
        {
          "output_type": "stream",
          "name": "stdout",
          "text": [
            "0.21602468994692867\n"
          ]
        }
      ]
    },
    {
      "cell_type": "markdown",
      "source": [
        "sklearn 의 mean_squared_error() 로 계산"
      ],
      "metadata": {
        "id": "zKMZP8E8baha"
      }
    },
    {
      "cell_type": "code",
      "source": [
        "from sklearn.metrics import mean_squared_error\n",
        "testVal = np.array ([1, 1.7, 1.5])\n",
        "predVal = np.array ([1.1,2,1.7])\n",
        "#squared : defalt = True\n",
        "#If True returns MSLE (mean squared log error) value.\n",
        "#If False returns RMSLE (rooe mean squared log error)\n",
        "\n",
        "mean_squared_error(testVal, predVal, squared= False)"
      ],
      "metadata": {
        "colab": {
          "base_uri": "https://localhost:8080/"
        },
        "id": "UnU6yHHfah20",
        "outputId": "02c39d3d-1508-409d-cbdf-d8fae0dc76f9"
      },
      "execution_count": 17,
      "outputs": [
        {
          "output_type": "execute_result",
          "data": {
            "text/plain": [
              "0.21602468994692867"
            ]
          },
          "metadata": {},
          "execution_count": 17
        }
      ]
    },
    {
      "cell_type": "code",
      "source": [
        "### 4 평균 제곱 로그 오차 (MSLE : Mean Squared Log Error)\n",
        "\n",
        "- 실제값과 예측값의 차이를 제곱해 평균한 것에 로그를 적용한다.\n",
        "- RMSE와 같이 손실이 기하급수적으로 증가하는 상황에서 실제 오류평균보다 값이 더 커지지 않도록 해준다.\n",
        " $$ MSLE = \\log(\\frac{1}{n}\\sum_{i=1}^{n} (Y_i-\\hat{Y_i})^2)$$"
      ],
      "metadata": {
        "id": "h7Ar8JyKby0f"
      },
      "execution_count": null,
      "outputs": []
    },
    {
      "cell_type": "markdown",
      "source": [
        "python으로 msle 구현"
      ],
      "metadata": {
        "id": "kfPNNrdYcB_m"
      }
    },
    {
      "cell_type": "code",
      "source": [
        "import numpy as np\n",
        "\n",
        "testVal = np.array([1,2,3,2,3,4,2,6,5,6,7])\n",
        "predVal = np.array([1,1,2,2,3,4,4,5,5,7,7])\n",
        "\n",
        "msle =np.log(sum((testVal - predVal)** 2)/ len (predVal))\n",
        "print (msle)"
      ],
      "metadata": {
        "colab": {
          "base_uri": "https://localhost:8080/"
        },
        "id": "AAr4QCQZcD_6",
        "outputId": "3c17bfd6-f4df-46f3-c672-984410c7c790"
      },
      "execution_count": 19,
      "outputs": [
        {
          "output_type": "stream",
          "name": "stdout",
          "text": [
            "-0.3184537311185346\n"
          ]
        }
      ]
    },
    {
      "cell_type": "markdown",
      "source": [
        "sklearn의 mean_squared_log_error()로 구현_ pytho으로 구현과 값의 차이가 있음"
      ],
      "metadata": {
        "id": "nCmFPYBMctAe"
      }
    },
    {
      "cell_type": "code",
      "source": [
        "from sklearn. metrics import mean_squared_log_error\n",
        "\n",
        "testVal = np.array([1,2,3,2,3,5,4,6,5,6,7])\n",
        "predVal = np.array([1,1,2,2,3,4,4,5,5,7,7])\n",
        "\n",
        "mean_squared_log_error(testVal, predVal, squared = True)"
      ],
      "metadata": {
        "colab": {
          "base_uri": "https://localhost:8080/"
        },
        "id": "xW1XBz4WcsA3",
        "outputId": "bc0e8622-0350-40cc-b6f1-1d31f02dac90"
      },
      "execution_count": 21,
      "outputs": [
        {
          "output_type": "execute_result",
          "data": {
            "text/plain": [
              "0.029272467607503513"
            ]
          },
          "metadata": {},
          "execution_count": 21
        }
      ]
    }
  ]
}