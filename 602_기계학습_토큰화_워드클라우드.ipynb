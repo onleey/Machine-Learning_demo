{
  "nbformat": 4,
  "nbformat_minor": 0,
  "metadata": {
    "colab": {
      "provenance": [],
      "authorship_tag": "ABX9TyNVP0SBbZHmEjP4T5mXDiNT",
      "include_colab_link": true
    },
    "kernelspec": {
      "name": "python3",
      "display_name": "Python 3"
    },
    "language_info": {
      "name": "python"
    }
  },
  "cells": [
    {
      "cell_type": "markdown",
      "metadata": {
        "id": "view-in-github",
        "colab_type": "text"
      },
      "source": [
        "<a href=\"https://colab.research.google.com/github/onleey/Machine-Learning_demo/blob/master/602_%EA%B8%B0%EA%B3%84%ED%95%99%EC%8A%B5_%ED%86%A0%ED%81%B0%ED%99%94_%EC%9B%8C%EB%93%9C%ED%81%B4%EB%9D%BC%EC%9A%B0%EB%93%9C.ipynb\" target=\"_parent\"><img src=\"https://colab.research.google.com/assets/colab-badge.svg\" alt=\"Open In Colab\"/></a>"
      ]
    },
    {
      "cell_type": "markdown",
      "source": [
        "JPype설치"
      ],
      "metadata": {
        "id": "H2t0a9E3_i7Q"
      }
    },
    {
      "cell_type": "markdown",
      "source": [
        "-python에서 java라이브러리를 이용할 수 있도록 설치한다."
      ],
      "metadata": {
        "id": "l3r89JaE_oqa"
      }
    },
    {
      "cell_type": "code",
      "source": [
        "!sudo apt-get install -y fonts-nanum\n",
        "!sudo fc-cache -fv\n",
        "!rm ~/.cache/matplotlib -rf"
      ],
      "metadata": {
        "colab": {
          "base_uri": "https://localhost:8080/"
        },
        "id": "UE_cFcwFNk05",
        "outputId": "5e11e4b6-5840-4604-9465-62deacfe67c5"
      },
      "execution_count": 1,
      "outputs": [
        {
          "output_type": "stream",
          "name": "stdout",
          "text": [
            "Reading package lists... Done\n",
            "Building dependency tree... Done\n",
            "Reading state information... Done\n",
            "fonts-nanum is already the newest version (20200506-1).\n",
            "0 upgraded, 0 newly installed, 0 to remove and 15 not upgraded.\n",
            "/usr/share/fonts: caching, new cache contents: 0 fonts, 1 dirs\n",
            "/usr/share/fonts/truetype: caching, new cache contents: 0 fonts, 3 dirs\n",
            "/usr/share/fonts/truetype/humor-sans: caching, new cache contents: 1 fonts, 0 dirs\n",
            "/usr/share/fonts/truetype/liberation: caching, new cache contents: 16 fonts, 0 dirs\n",
            "/usr/share/fonts/truetype/nanum: caching, new cache contents: 12 fonts, 0 dirs\n",
            "/usr/local/share/fonts: caching, new cache contents: 0 fonts, 0 dirs\n",
            "/root/.local/share/fonts: skipping, no such directory\n",
            "/root/.fonts: skipping, no such directory\n",
            "/usr/share/fonts/truetype: skipping, looped directory detected\n",
            "/usr/share/fonts/truetype/humor-sans: skipping, looped directory detected\n",
            "/usr/share/fonts/truetype/liberation: skipping, looped directory detected\n",
            "/usr/share/fonts/truetype/nanum: skipping, looped directory detected\n",
            "/var/cache/fontconfig: cleaning cache directory\n",
            "/root/.cache/fontconfig: not cleaning non-existent cache directory\n",
            "/root/.fontconfig: not cleaning non-existent cache directory\n",
            "fc-cache: succeeded\n"
          ]
        }
      ]
    },
    {
      "cell_type": "code",
      "execution_count": 2,
      "metadata": {
        "colab": {
          "base_uri": "https://localhost:8080/"
        },
        "id": "sG0AiDD0_BQT",
        "outputId": "c285f07d-3907-4f4b-da57-18d87ebfee54"
      },
      "outputs": [
        {
          "output_type": "stream",
          "name": "stdout",
          "text": [
            "absl-py==1.4.0\n",
            "aiohttp==3.9.1\n",
            "aiosignal==1.3.1\n",
            "alabaster==0.7.13\n",
            "albumentations==1.3.1\n",
            "altair==4.2.2\n",
            "anyio==3.7.1\n",
            "appdirs==1.4.4\n",
            "argon2-cffi==23.1.0\n",
            "argon2-cffi-bindings==21.2.0\n",
            "array-record==0.5.0\n",
            "arviz==0.15.1\n",
            "astropy==5.3.4\n",
            "astunparse==1.6.3\n",
            "async-timeout==4.0.3\n",
            "atpublic==4.0\n",
            "attrs==23.1.0\n",
            "audioread==3.0.1\n",
            "autograd==1.6.2\n",
            "Babel==2.13.1\n",
            "backcall==0.2.0\n",
            "beautifulsoup4==4.11.2\n",
            "bidict==0.22.1\n",
            "bigframes==0.15.0\n",
            "bleach==6.1.0\n",
            "blinker==1.4\n",
            "blis==0.7.11\n",
            "blosc2==2.0.0\n",
            "bokeh==3.3.1\n",
            "bqplot==0.12.42\n",
            "branca==0.7.0\n",
            "build==1.0.3\n",
            "CacheControl==0.13.1\n",
            "cachetools==5.3.2\n",
            "catalogue==2.0.10\n",
            "certifi==2023.11.17\n",
            "cffi==1.16.0\n",
            "chardet==5.2.0\n",
            "charset-normalizer==3.3.2\n",
            "chex==0.1.7\n",
            "click==8.1.7\n",
            "click-plugins==1.1.1\n",
            "cligj==0.7.2\n",
            "cloudpickle==2.2.1\n",
            "cmake==3.27.7\n",
            "cmdstanpy==1.2.0\n",
            "colorcet==3.0.1\n",
            "colorlover==0.3.0\n",
            "colour==0.1.5\n",
            "community==1.0.0b1\n",
            "confection==0.1.4\n",
            "cons==0.4.6\n",
            "contextlib2==21.6.0\n",
            "contourpy==1.2.0\n",
            "cryptography==41.0.7\n",
            "cufflinks==0.17.3\n",
            "cupy-cuda11x==11.0.0\n",
            "cvxopt==1.3.2\n",
            "cvxpy==1.3.2\n",
            "cycler==0.12.1\n",
            "cymem==2.0.8\n",
            "Cython==3.0.6\n",
            "dask==2023.8.1\n",
            "datascience==0.17.6\n",
            "db-dtypes==1.1.1\n",
            "dbus-python==1.2.18\n",
            "debugpy==1.6.6\n",
            "decorator==4.4.2\n",
            "defusedxml==0.7.1\n",
            "diskcache==5.6.3\n",
            "distributed==2023.8.1\n",
            "distro==1.7.0\n",
            "dlib==19.24.2\n",
            "dm-tree==0.1.8\n",
            "docutils==0.18.1\n",
            "dopamine-rl==4.0.6\n",
            "duckdb==0.9.2\n",
            "earthengine-api==0.1.381\n",
            "easydict==1.11\n",
            "ecos==2.0.12\n",
            "editdistance==0.6.2\n",
            "eerepr==0.0.4\n",
            "en-core-web-sm @ https://github.com/explosion/spacy-models/releases/download/en_core_web_sm-3.6.0/en_core_web_sm-3.6.0-py3-none-any.whl#sha256=83276fc78a70045627144786b52e1f2728ad5e29e5e43916ec37ea9c26a11212\n",
            "entrypoints==0.4\n",
            "et-xmlfile==1.1.0\n",
            "etils==1.5.2\n",
            "etuples==0.3.9\n",
            "exceptiongroup==1.2.0\n",
            "fastai==2.7.13\n",
            "fastcore==1.5.29\n",
            "fastdownload==0.0.7\n",
            "fastjsonschema==2.19.0\n",
            "fastprogress==1.0.3\n",
            "fastrlock==0.8.2\n",
            "filelock==3.13.1\n",
            "fiona==1.9.5\n",
            "firebase-admin==5.3.0\n",
            "Flask==2.2.5\n",
            "flatbuffers==23.5.26\n",
            "flax==0.7.5\n",
            "folium==0.14.0\n",
            "fonttools==4.45.1\n",
            "frozendict==2.3.10\n",
            "frozenlist==1.4.0\n",
            "fsspec==2023.6.0\n",
            "future==0.18.3\n",
            "gast==0.5.4\n",
            "gcsfs==2023.6.0\n",
            "GDAL==3.4.3\n",
            "gdown==4.6.6\n",
            "geemap==0.28.2\n",
            "gensim==4.3.2\n",
            "geocoder==1.38.1\n",
            "geographiclib==2.0\n",
            "geopandas==0.13.2\n",
            "geopy==2.3.0\n",
            "gin-config==0.5.0\n",
            "glob2==0.7\n",
            "google==2.0.3\n",
            "google-ai-generativelanguage==0.3.3\n",
            "google-api-core==2.11.1\n",
            "google-api-python-client==2.84.0\n",
            "google-auth==2.17.3\n",
            "google-auth-httplib2==0.1.1\n",
            "google-auth-oauthlib==1.0.0\n",
            "google-cloud-aiplatform==1.36.4\n",
            "google-cloud-bigquery==3.12.0\n",
            "google-cloud-bigquery-connection==1.12.1\n",
            "google-cloud-bigquery-storage==2.23.0\n",
            "google-cloud-core==2.3.3\n",
            "google-cloud-datastore==2.15.2\n",
            "google-cloud-firestore==2.11.1\n",
            "google-cloud-functions==1.13.3\n",
            "google-cloud-iam==2.12.2\n",
            "google-cloud-language==2.9.1\n",
            "google-cloud-resource-manager==1.10.4\n",
            "google-cloud-storage==2.8.0\n",
            "google-cloud-translate==3.11.3\n",
            "google-colab @ file:///colabtools/dist/google-colab-1.0.0.tar.gz#sha256=1e49d2e09c34a7c1be521d9f01d40cea4094d4fa6fe403c41c5ff0b6e3a86211\n",
            "google-crc32c==1.5.0\n",
            "google-generativeai==0.2.2\n",
            "google-pasta==0.2.0\n",
            "google-resumable-media==2.6.0\n",
            "googleapis-common-protos==1.61.0\n",
            "googledrivedownloader==0.4\n",
            "graphviz==0.20.1\n",
            "greenlet==3.0.1\n",
            "grpc-google-iam-v1==0.12.7\n",
            "grpcio==1.59.3\n",
            "grpcio-status==1.48.2\n",
            "gspread==3.4.2\n",
            "gspread-dataframe==3.3.1\n",
            "gym==0.25.2\n",
            "gym-notices==0.0.8\n",
            "h5netcdf==1.3.0\n",
            "h5py==3.9.0\n",
            "holidays==0.37\n",
            "holoviews==1.17.1\n",
            "html5lib==1.1\n",
            "httpimport==1.3.1\n",
            "httplib2==0.22.0\n",
            "huggingface-hub==0.19.4\n",
            "humanize==4.7.0\n",
            "hyperopt==0.2.7\n",
            "ibis-framework==6.2.0\n",
            "idna==3.6\n",
            "imageio==2.31.6\n",
            "imageio-ffmpeg==0.4.9\n",
            "imagesize==1.4.1\n",
            "imbalanced-learn==0.10.1\n",
            "imgaug==0.4.0\n",
            "importlib-metadata==6.8.0\n",
            "importlib-resources==6.1.1\n",
            "imutils==0.5.4\n",
            "inflect==7.0.0\n",
            "iniconfig==2.0.0\n",
            "install==1.3.5\n",
            "intel-openmp==2023.2.0\n",
            "ipyevents==2.0.2\n",
            "ipyfilechooser==0.6.0\n",
            "ipykernel==5.5.6\n",
            "ipyleaflet==0.18.0\n",
            "ipython==7.34.0\n",
            "ipython-genutils==0.2.0\n",
            "ipython-sql==0.5.0\n",
            "ipytree==0.2.2\n",
            "ipywidgets==7.7.1\n",
            "itsdangerous==2.1.2\n",
            "jax==0.4.20\n",
            "jaxlib @ https://storage.googleapis.com/jax-releases/cuda11/jaxlib-0.4.20+cuda11.cudnn86-cp310-cp310-manylinux2014_x86_64.whl#sha256=01be66238133f884bf5adf15cd7eaaf8445f9d4b056c5c64df28a997a6aff2fe\n",
            "jeepney==0.7.1\n",
            "jieba==0.42.1\n",
            "Jinja2==3.1.2\n",
            "joblib==1.3.2\n",
            "JPype1==1.4.1\n",
            "jsonpickle==3.0.2\n",
            "jsonschema==4.19.2\n",
            "jsonschema-specifications==2023.11.2\n",
            "jupyter-client==6.1.12\n",
            "jupyter-console==6.1.0\n",
            "jupyter-server==1.24.0\n",
            "jupyter_core==5.5.0\n",
            "jupyterlab-widgets==3.0.9\n",
            "jupyterlab_pygments==0.3.0\n",
            "kaggle==1.5.16\n",
            "keras==2.14.0\n",
            "keyring==23.5.0\n",
            "kiwisolver==1.4.5\n",
            "konlpy==0.6.0\n",
            "langcodes==3.3.0\n",
            "launchpadlib==1.10.16\n",
            "lazr.restfulclient==0.14.4\n",
            "lazr.uri==1.0.6\n",
            "lazy_loader==0.3\n",
            "libclang==16.0.6\n",
            "librosa==0.10.1\n",
            "lida==0.0.10\n",
            "lightgbm==4.1.0\n",
            "linkify-it-py==2.0.2\n",
            "llmx==0.0.15a0\n",
            "llvmlite==0.41.1\n",
            "locket==1.0.0\n",
            "logical-unification==0.4.6\n",
            "lxml==4.9.3\n",
            "malloy==2023.1064\n",
            "Markdown==3.5.1\n",
            "markdown-it-py==3.0.0\n",
            "MarkupSafe==2.1.3\n",
            "matplotlib==3.7.1\n",
            "matplotlib-inline==0.1.6\n",
            "matplotlib-venn==0.11.9\n",
            "mdit-py-plugins==0.4.0\n",
            "mdurl==0.1.2\n",
            "miniKanren==1.0.3\n",
            "missingno==0.5.2\n",
            "mistune==0.8.4\n",
            "mizani==0.9.3\n",
            "mkl==2023.2.0\n",
            "ml-dtypes==0.2.0\n",
            "mlxtend==0.22.0\n",
            "more-itertools==10.1.0\n",
            "moviepy==1.0.3\n",
            "mpmath==1.3.0\n",
            "msgpack==1.0.7\n",
            "multidict==6.0.4\n",
            "multipledispatch==1.0.0\n",
            "multitasking==0.0.11\n",
            "murmurhash==1.0.10\n",
            "music21==9.1.0\n",
            "natsort==8.4.0\n",
            "nbclassic==1.0.0\n",
            "nbclient==0.9.0\n",
            "nbconvert==6.5.4\n",
            "nbformat==5.9.2\n",
            "nest-asyncio==1.5.8\n",
            "networkx==3.2.1\n",
            "nibabel==4.0.2\n",
            "nltk==3.8.1\n",
            "notebook==6.5.5\n",
            "notebook_shim==0.2.3\n",
            "numba==0.58.1\n",
            "numexpr==2.8.7\n",
            "numpy==1.23.5\n",
            "oauth2client==4.1.3\n",
            "oauthlib==3.2.2\n",
            "opencv-contrib-python==4.8.0.76\n",
            "opencv-python==4.8.0.76\n",
            "opencv-python-headless==4.8.1.78\n",
            "openpyxl==3.1.2\n",
            "opt-einsum==3.3.0\n",
            "optax==0.1.7\n",
            "orbax-checkpoint==0.4.3\n",
            "osqp==0.6.2.post8\n",
            "packaging==23.2\n",
            "pandas==1.5.3\n",
            "pandas-datareader==0.10.0\n",
            "pandas-gbq==0.17.9\n",
            "pandas-stubs==1.5.3.230304\n",
            "pandocfilters==1.5.0\n",
            "panel==1.3.4\n",
            "param==2.0.1\n",
            "parso==0.8.3\n",
            "parsy==2.1\n",
            "partd==1.4.1\n",
            "pathlib==1.0.1\n",
            "pathy==0.10.3\n",
            "patsy==0.5.3\n",
            "peewee==3.17.0\n",
            "pexpect==4.9.0\n",
            "pickleshare==0.7.5\n",
            "Pillow==9.4.0\n",
            "pip-tools==6.13.0\n",
            "platformdirs==4.0.0\n",
            "plotly==5.15.0\n",
            "plotnine==0.12.4\n",
            "pluggy==1.3.0\n",
            "polars==0.17.3\n",
            "pooch==1.8.0\n",
            "portpicker==1.5.2\n",
            "prefetch-generator==1.0.3\n",
            "preshed==3.0.9\n",
            "prettytable==3.9.0\n",
            "proglog==0.1.10\n",
            "progressbar2==4.2.0\n",
            "prometheus-client==0.19.0\n",
            "promise==2.3\n",
            "prompt-toolkit==3.0.41\n",
            "prophet==1.1.5\n",
            "proto-plus==1.22.3\n",
            "protobuf==3.20.3\n",
            "psutil==5.9.5\n",
            "psycopg2==2.9.9\n",
            "ptyprocess==0.7.0\n",
            "py-cpuinfo==9.0.0\n",
            "py4j==0.10.9.7\n",
            "pyarrow==9.0.0\n",
            "pyasn1==0.5.1\n",
            "pyasn1-modules==0.3.0\n",
            "pycocotools==2.0.7\n",
            "pycparser==2.21\n",
            "pyct==0.5.0\n",
            "pydantic==1.10.13\n",
            "pydata-google-auth==1.8.2\n",
            "pydot==1.4.2\n",
            "pydot-ng==2.0.0\n",
            "pydotplus==2.0.2\n",
            "PyDrive==1.3.1\n",
            "PyDrive2==1.6.3\n",
            "pyerfa==2.0.1.1\n",
            "pygame==2.5.2\n",
            "Pygments==2.16.1\n",
            "PyGObject==3.42.1\n",
            "PyJWT==2.3.0\n",
            "pymc==5.7.2\n",
            "pymystem3==0.2.0\n",
            "PyOpenGL==3.1.7\n",
            "pyOpenSSL==23.3.0\n",
            "pyparsing==3.1.1\n",
            "pyperclip==1.8.2\n",
            "pyproj==3.6.1\n",
            "pyproject_hooks==1.0.0\n",
            "pyshp==2.3.1\n",
            "PySocks==1.7.1\n",
            "pytensor==2.14.2\n",
            "pytest==7.4.3\n",
            "python-apt==0.0.0\n",
            "python-box==7.1.1\n",
            "python-dateutil==2.8.2\n",
            "python-louvain==0.16\n",
            "python-slugify==8.0.1\n",
            "python-utils==3.8.1\n",
            "pytz==2023.3.post1\n",
            "pyviz_comms==3.0.0\n",
            "PyWavelets==1.5.0\n",
            "PyYAML==6.0.1\n",
            "pyzmq==23.2.1\n",
            "qdldl==0.1.7.post0\n",
            "qudida==0.0.4\n",
            "ratelim==0.1.6\n",
            "referencing==0.31.1\n",
            "regex==2023.6.3\n",
            "requests==2.31.0\n",
            "requests-oauthlib==1.3.1\n",
            "requirements-parser==0.5.0\n",
            "rich==13.7.0\n",
            "rpds-py==0.13.2\n",
            "rpy2==3.4.2\n",
            "rsa==4.9\n",
            "safetensors==0.4.1\n",
            "scikit-image==0.19.3\n",
            "scikit-learn==1.2.2\n",
            "scipy==1.11.4\n",
            "scooby==0.9.2\n",
            "scs==3.2.4.post1\n",
            "seaborn==0.12.2\n",
            "SecretStorage==3.3.1\n",
            "Send2Trash==1.8.2\n",
            "shapely==2.0.2\n",
            "six==1.16.0\n",
            "sklearn-pandas==2.2.0\n",
            "smart-open==6.4.0\n",
            "sniffio==1.3.0\n",
            "snowballstemmer==2.2.0\n",
            "sortedcontainers==2.4.0\n",
            "soundfile==0.12.1\n",
            "soupsieve==2.5\n",
            "soxr==0.3.7\n",
            "spacy==3.6.1\n",
            "spacy-legacy==3.0.12\n",
            "spacy-loggers==1.0.5\n",
            "Sphinx==5.0.2\n",
            "sphinxcontrib-applehelp==1.0.7\n",
            "sphinxcontrib-devhelp==1.0.5\n",
            "sphinxcontrib-htmlhelp==2.0.4\n",
            "sphinxcontrib-jsmath==1.0.1\n",
            "sphinxcontrib-qthelp==1.0.6\n",
            "sphinxcontrib-serializinghtml==1.1.9\n",
            "SQLAlchemy==2.0.23\n",
            "sqlglot==17.16.2\n",
            "sqlparse==0.4.4\n",
            "srsly==2.4.8\n",
            "stanio==0.3.0\n",
            "statsmodels==0.14.0\n",
            "sympy==1.12\n",
            "tables==3.8.0\n",
            "tabulate==0.9.0\n",
            "tbb==2021.11.0\n",
            "tblib==3.0.0\n",
            "tenacity==8.2.3\n",
            "tensorboard==2.14.1\n",
            "tensorboard-data-server==0.7.2\n",
            "tensorflow==2.14.0\n",
            "tensorflow-datasets==4.9.3\n",
            "tensorflow-estimator==2.14.0\n",
            "tensorflow-gcs-config==2.14.0\n",
            "tensorflow-hub==0.15.0\n",
            "tensorflow-io-gcs-filesystem==0.34.0\n",
            "tensorflow-metadata==1.14.0\n",
            "tensorflow-probability==0.22.0\n",
            "tensorstore==0.1.45\n",
            "termcolor==2.3.0\n",
            "terminado==0.18.0\n",
            "text-unidecode==1.3\n",
            "textblob==0.17.1\n",
            "tf-slim==1.1.0\n",
            "thinc==8.1.12\n",
            "threadpoolctl==3.2.0\n",
            "tifffile==2023.9.26\n",
            "tinycss2==1.2.1\n",
            "tokenizers==0.15.0\n",
            "toml==0.10.2\n",
            "tomli==2.0.1\n",
            "toolz==0.12.0\n",
            "torch @ https://download.pytorch.org/whl/cu118/torch-2.1.0%2Bcu118-cp310-cp310-linux_x86_64.whl#sha256=a81b554184492005543ddc32e96469f9369d778dedd195d73bda9bed407d6589\n",
            "torchaudio @ https://download.pytorch.org/whl/cu118/torchaudio-2.1.0%2Bcu118-cp310-cp310-linux_x86_64.whl#sha256=cdfd0a129406155eee595f408cafbb92589652da4090d1d2040f5453d4cae71f\n",
            "torchdata==0.7.0\n",
            "torchsummary==1.5.1\n",
            "torchtext==0.16.0\n",
            "torchvision @ https://download.pytorch.org/whl/cu118/torchvision-0.16.0%2Bcu118-cp310-cp310-linux_x86_64.whl#sha256=033712f65d45afe806676c4129dfe601ad1321d9e092df62b15847c02d4061dc\n",
            "tornado==6.3.2\n",
            "tqdm==4.66.1\n",
            "traitlets==5.7.1\n",
            "traittypes==0.2.1\n",
            "transformers==4.35.2\n",
            "triton==2.1.0\n",
            "tweepy==4.14.0\n",
            "typer==0.9.0\n",
            "types-pytz==2023.3.1.1\n",
            "types-setuptools==69.0.0.0\n",
            "typing_extensions==4.5.0\n",
            "tzlocal==5.2\n",
            "uc-micro-py==1.0.2\n",
            "uritemplate==4.1.1\n",
            "urllib3==2.0.7\n",
            "vega-datasets==0.9.0\n",
            "wadllib==1.3.6\n",
            "wasabi==1.1.2\n",
            "wcwidth==0.2.12\n",
            "webcolors==1.13\n",
            "webencodings==0.5.1\n",
            "websocket-client==1.6.4\n",
            "Werkzeug==3.0.1\n",
            "widgetsnbextension==3.6.6\n",
            "wordcloud==1.9.2\n",
            "wrapt==1.14.1\n",
            "xarray==2023.7.0\n",
            "xarray-einstats==0.6.0\n",
            "xgboost==2.0.2\n",
            "xlrd==2.0.1\n",
            "xxhash==3.4.1\n",
            "xyzservices==2023.10.1\n",
            "yarl==1.9.3\n",
            "yellowbrick==1.5\n",
            "yfinance==0.2.32\n",
            "zict==3.0.0\n",
            "zipp==3.17.0\n"
          ]
        }
      ],
      "source": [
        "!pip freeze"
      ]
    },
    {
      "cell_type": "code",
      "source": [
        "import nltk   #자연어처리를 해주는 패키지 # 한글미지원"
      ],
      "metadata": {
        "id": "vvkHGY8RE3DZ"
      },
      "execution_count": 3,
      "outputs": []
    },
    {
      "cell_type": "code",
      "source": [
        "print(dir(nltk))\n",
        "nltk.download('treebank')"
      ],
      "metadata": {
        "colab": {
          "base_uri": "https://localhost:8080/"
        },
        "id": "Yvt6f6iUE8gd",
        "outputId": "8cf5c7ad-30a0-47fb-f355-0d4428ea6719"
      },
      "execution_count": 4,
      "outputs": [
        {
          "output_type": "stream",
          "name": "stdout",
          "text": [
            "['ARLSTem', 'ARLSTem2', 'AbstractLazySequence', 'AffixTagger', 'AlignedSent', 'Alignment', 'AnnotationTask', 'ApplicationExpression', 'Assignment', 'BigramAssocMeasures', 'BigramCollocationFinder', 'BigramTagger', 'BinaryMaxentFeatureEncoding', 'BlanklineTokenizer', 'BllipParser', 'BottomUpChartParser', 'BottomUpLeftCornerChartParser', 'BottomUpProbabilisticChartParser', 'Boxer', 'BrillTagger', 'BrillTaggerTrainer', 'CFG', 'CRFTagger', 'CfgReadingCommand', 'ChartParser', 'ChunkParserI', 'ChunkScore', 'Cistem', 'ClassifierBasedPOSTagger', 'ClassifierBasedTagger', 'ClassifierI', 'ConcordanceIndex', 'ConditionalExponentialClassifier', 'ConditionalFreqDist', 'ConditionalProbDist', 'ConditionalProbDistI', 'ConfusionMatrix', 'ContextIndex', 'ContextTagger', 'ContingencyMeasures', 'CoreNLPDependencyParser', 'CoreNLPParser', 'Counter', 'CrossValidationProbDist', 'DRS', 'DecisionTreeClassifier', 'DefaultTagger', 'DependencyEvaluator', 'DependencyGrammar', 'DependencyGraph', 'DependencyProduction', 'DictionaryConditionalProbDist', 'DictionaryProbDist', 'DiscourseTester', 'DrtExpression', 'DrtGlueReadingCommand', 'ELEProbDist', 'EarleyChartParser', 'Expression', 'FStructure', 'FeatDict', 'FeatList', 'FeatStruct', 'FeatStructReader', 'Feature', 'FeatureBottomUpChartParser', 'FeatureBottomUpLeftCornerChartParser', 'FeatureChartParser', 'FeatureEarleyChartParser', 'FeatureIncrementalBottomUpChartParser', 'FeatureIncrementalBottomUpLeftCornerChartParser', 'FeatureIncrementalChartParser', 'FeatureIncrementalTopDownChartParser', 'FeatureTopDownChartParser', 'FreqDist', 'HTTPPasswordMgrWithDefaultRealm', 'HeldoutProbDist', 'HiddenMarkovModelTagger', 'HiddenMarkovModelTrainer', 'HunposTagger', 'IBMModel', 'IBMModel1', 'IBMModel2', 'IBMModel3', 'IBMModel4', 'IBMModel5', 'ISRIStemmer', 'ImmutableMultiParentedTree', 'ImmutableParentedTree', 'ImmutableProbabilisticMixIn', 'ImmutableProbabilisticTree', 'ImmutableTree', 'IncrementalBottomUpChartParser', 'IncrementalBottomUpLeftCornerChartParser', 'IncrementalChartParser', 'IncrementalLeftCornerChartParser', 'IncrementalTopDownChartParser', 'Index', 'InsideChartParser', 'JSONTaggedDecoder', 'JSONTaggedEncoder', 'KneserNeyProbDist', 'LancasterStemmer', 'LaplaceProbDist', 'LazyConcatenation', 'LazyEnumerate', 'LazyIteratorList', 'LazyMap', 'LazySubsequence', 'LazyZip', 'LeftCornerChartParser', 'LegalitySyllableTokenizer', 'LidstoneProbDist', 'LineTokenizer', 'LogicalExpressionException', 'LongestChartParser', 'MLEProbDist', 'MWETokenizer', 'Mace', 'MaceCommand', 'MaltParser', 'MaxentClassifier', 'Model', 'MultiClassifierI', 'MultiParentedTree', 'MutableProbDist', 'NLTKWordTokenizer', 'NaiveBayesClassifier', 'NaiveBayesDependencyScorer', 'NgramAssocMeasures', 'NgramTagger', 'NonprojectiveDependencyParser', 'Nonterminal', 'OrderedDict', 'PCFG', 'Paice', 'ParallelProverBuilder', 'ParallelProverBuilderCommand', 'ParentedTree', 'ParserI', 'PerceptronTagger', 'PhraseTable', 'PorterStemmer', 'PositiveNaiveBayesClassifier', 'ProbDistI', 'ProbabilisticDependencyGrammar', 'ProbabilisticMixIn', 'ProbabilisticNonprojectiveParser', 'ProbabilisticProduction', 'ProbabilisticProjectiveDependencyParser', 'ProbabilisticTree', 'Production', 'ProjectiveDependencyParser', 'Prover9', 'Prover9Command', 'ProxyBasicAuthHandler', 'ProxyDigestAuthHandler', 'ProxyHandler', 'PunktSentenceTokenizer', 'QuadgramAssocMeasures', 'QuadgramCollocationFinder', 'RSLPStemmer', 'RTEFeatureExtractor', 'RUS_PICKLE', 'RandomChartParser', 'RangeFeature', 'ReadingCommand', 'RecursiveDescentParser', 'RegexpChunkParser', 'RegexpParser', 'RegexpStemmer', 'RegexpTagger', 'RegexpTokenizer', 'ReppTokenizer', 'ResolutionProver', 'ResolutionProverCommand', 'SExprTokenizer', 'SLASH', 'Senna', 'SennaChunkTagger', 'SennaNERTagger', 'SennaTagger', 'SequentialBackoffTagger', 'ShiftReduceParser', 'SimpleGoodTuringProbDist', 'SklearnClassifier', 'SlashFeature', 'SnowballStemmer', 'SpaceTokenizer', 'StackDecoder', 'StanfordNERTagger', 'StanfordPOSTagger', 'StanfordSegmenter', 'StanfordTagger', 'StemmerI', 'SteppingChartParser', 'SteppingRecursiveDescentParser', 'SteppingShiftReduceParser', 'SyllableTokenizer', 'TYPE', 'TabTokenizer', 'TableauProver', 'TableauProverCommand', 'TaggerI', 'TestGrammar', 'Text', 'TextCat', 'TextCollection', 'TextTilingTokenizer', 'TnT', 'TokenSearcher', 'ToktokTokenizer', 'TopDownChartParser', 'TransitionParser', 'Tree', 'TreePrettyPrinter', 'TreebankWordDetokenizer', 'TreebankWordTokenizer', 'Trie', 'TrigramAssocMeasures', 'TrigramCollocationFinder', 'TrigramTagger', 'TweetTokenizer', 'TypedMaxentFeatureEncoding', 'Undefined', 'UniformProbDist', 'UnigramTagger', 'UnsortedChartParser', 'Valuation', 'Variable', 'ViterbiParser', 'WekaClassifier', 'WhitespaceTokenizer', 'WittenBellProbDist', 'WordNetLemmatizer', 'WordPunctTokenizer', '__author__', '__author_email__', '__builtins__', '__cached__', '__classifiers__', '__copyright__', '__doc__', '__file__', '__keywords__', '__license__', '__loader__', '__longdescr__', '__maintainer__', '__maintainer_email__', '__name__', '__package__', '__path__', '__spec__', '__url__', '__version__', 'accuracy', 'acyclic_branches_depth_first', 'acyclic_breadth_first', 'acyclic_depth_first', 'acyclic_dic2tree', 'add_logs', 'agreement', 'align', 'alignment_error_rate', 'aline', 'api', 'app', 'apply_features', 'approxrand', 'arity', 'arlstem', 'arlstem2', 'association', 'bigrams', 'binary_distance', 'binary_search_file', 'binding_ops', 'bisect', 'blankline_tokenize', 'bleu', 'bleu_score', 'bllip', 'boolean_ops', 'boxer', 'bracket_parse', 'breadth_first', 'brill', 'brill_trainer', 'build_opener', 'call_megam', 'casual', 'casual_tokenize', 'ccg', 'chain', 'chart', 'chat', 'chomsky_normal_form', 'choose', 'chrf', 'chrf_score', 'chunk', 'cistem', 'classify', 'clause', 'clean_html', 'clean_url', 'cluster', 'collapse_unary', 'collections', 'collocations', 'combinations', 'compat', 'config_java', 'config_megam', 'config_weka', 'conflicts', 'confusionmatrix', 'conllstr2tree', 'conlltags2tree', 'corenlp', 'corpus', 'crf', 'custom_distance', 'data', 'decisiontree', 'decorator', 'decorators', 'defaultdict', 'demo', 'dependencygraph', 'deprecated', 'deque', 'destructive', 'discourse', 'distance', 'download', 'download_gui', 'download_shell', 'downloader', 'draw', 'drt', 'earleychart', 'edge_closure', 'edges2dot', 'edit_distance', 'edit_distance_align', 'elementtree_indent', 'entropy', 'equality_preds', 'evaluate', 'evaluate_sents', 'everygrams', 'extract', 'extract_rels', 'extract_test_sentences', 'f_measure', 'featstruct', 'featurechart', 'filestring', 'find', 'flatten', 'fractional_presence', 'gale_church', 'gdfa', 'getproxies', 'ghd', 'gleu', 'gleu_score', 'glue', 'grammar', 'grow_diag_final_and', 'guess_encoding', 'help', 'hmm', 'hunpos', 'ibm1', 'ibm2', 'ibm3', 'ibm4', 'ibm5', 'ibm_model', 'ieerstr2tree', 'in_idle', 'induce_pcfg', 'inference', 'infile', 'inspect', 'install_opener', 'internals', 'interpret_sents', 'interval_distance', 'invert_dict', 'invert_graph', 'is_rel', 'islice', 'isri', 'jaccard_distance', 'json_tags', 'jsontags', 'lancaster', 'lazyimport', 'legality_principle', 'lfg', 'line_tokenize', 'linearlogic', 'lm', 'load', 'load_parser', 'locale', 'log_likelihood', 'logic', 'mace', 'malt', 'map_tag', 'mapping', 'masi_distance', 'maxent', 'megam', 'memoize', 'meteor', 'meteor_score', 'metrics', 'misc', 'mwe', 'naivebayes', 'ne_chunk', 'ne_chunk_sents', 'ngrams', 'nist', 'nist_score', 'nonprojectivedependencyparser', 'nonterminals', 'numpy', 'os', 'pad_sequence', 'paice', 'pairwise', 'parallelize_preprocess', 'parse', 'parse_sents', 'pchart', 'perceptron', 'phrase_based', 'pk', 'porter', 'pos_tag', 'pos_tag_sents', 'positivenaivebayes', 'pprint', 'pr', 'precision', 'presence', 'print_string', 'probability', 'projectivedependencyparser', 'prover9', 'punkt', 'pydoc', 'raise_unorderable_types', 'ranks_from_scores', 'ranks_from_sequence', 're', 're_show', 'read_grammar', 'read_logic', 'read_valuation', 'recall', 'recursivedescent', 'regexp', 'regexp_span_tokenize', 'regexp_tokenize', 'register_tag', 'relextract', 'repp', 'resolution', 'ribes', 'ribes_score', 'root_semrep', 'rslp', 'rte_classifier', 'rte_classify', 'rte_features', 'rtuple', 'scikitlearn', 'scores', 'segmentation', 'sem', 'senna', 'sent_tokenize', 'sequential', 'set2rel', 'set_proxy', 'sexpr', 'sexpr_tokenize', 'shiftreduce', 'simple', 'sinica_parse', 'skipgrams', 'skolemize', 'slice_bounds', 'snowball', 'sonority_sequencing', 'spearman', 'spearman_correlation', 'stack_decoder', 'stanford', 'stanford_segmenter', 'stem', 'str2tuple', 'string_span_tokenize', 'subprocess', 'subsumes', 'sum_logs', 'tableau', 'tadm', 'tag', 'tagset_mapping', 'tagstr2tree', 'tbl', 'tee', 'text', 'textcat', 'texttiling', 'textwrap', 'tkinter', 'tnt', 'tokenize', 'tokenwrap', 'toktok', 'toolbox', 'total_ordering', 'trace', 'transitionparser', 'transitive_closure', 'translate', 'tree', 'tree2conllstr', 'tree2conlltags', 'treebank', 'trigrams', 'tuple2str', 'un_chomsky_normal_form', 'unify', 'unique_list', 'untag', 'unweighted_minimum_spanning_dict', 'unweighted_minimum_spanning_digraph', 'unweighted_minimum_spanning_tree', 'usage', 'util', 'version_file', 'viterbi', 'warnings', 'weka', 'windowdiff', 'word_tokenize', 'wordnet', 'wordpunct_tokenize', 'wsd']\n"
          ]
        },
        {
          "output_type": "stream",
          "name": "stderr",
          "text": [
            "[nltk_data] Downloading package treebank to /root/nltk_data...\n",
            "[nltk_data]   Package treebank is already up-to-date!\n"
          ]
        },
        {
          "output_type": "execute_result",
          "data": {
            "text/plain": [
              "True"
            ]
          },
          "metadata": {},
          "execution_count": 4
        }
      ]
    },
    {
      "cell_type": "code",
      "source": [
        "!pip install konlpy         # konlpy 한국어 자연어처리를 위한 파이썬 패키지\n",
        "!pip install wordcloud"
      ],
      "metadata": {
        "colab": {
          "base_uri": "https://localhost:8080/"
        },
        "id": "D3NlHShfAgsk",
        "outputId": "e0bfcfd5-1756-4e60-e32d-6aa91ee73137"
      },
      "execution_count": 5,
      "outputs": [
        {
          "output_type": "stream",
          "name": "stdout",
          "text": [
            "Requirement already satisfied: konlpy in /usr/local/lib/python3.10/dist-packages (0.6.0)\n",
            "Requirement already satisfied: JPype1>=0.7.0 in /usr/local/lib/python3.10/dist-packages (from konlpy) (1.4.1)\n",
            "Requirement already satisfied: lxml>=4.1.0 in /usr/local/lib/python3.10/dist-packages (from konlpy) (4.9.3)\n",
            "Requirement already satisfied: numpy>=1.6 in /usr/local/lib/python3.10/dist-packages (from konlpy) (1.23.5)\n",
            "Requirement already satisfied: packaging in /usr/local/lib/python3.10/dist-packages (from JPype1>=0.7.0->konlpy) (23.2)\n",
            "Requirement already satisfied: wordcloud in /usr/local/lib/python3.10/dist-packages (1.9.2)\n",
            "Requirement already satisfied: numpy>=1.6.1 in /usr/local/lib/python3.10/dist-packages (from wordcloud) (1.23.5)\n",
            "Requirement already satisfied: pillow in /usr/local/lib/python3.10/dist-packages (from wordcloud) (9.4.0)\n",
            "Requirement already satisfied: matplotlib in /usr/local/lib/python3.10/dist-packages (from wordcloud) (3.7.1)\n",
            "Requirement already satisfied: contourpy>=1.0.1 in /usr/local/lib/python3.10/dist-packages (from matplotlib->wordcloud) (1.2.0)\n",
            "Requirement already satisfied: cycler>=0.10 in /usr/local/lib/python3.10/dist-packages (from matplotlib->wordcloud) (0.12.1)\n",
            "Requirement already satisfied: fonttools>=4.22.0 in /usr/local/lib/python3.10/dist-packages (from matplotlib->wordcloud) (4.45.1)\n",
            "Requirement already satisfied: kiwisolver>=1.0.1 in /usr/local/lib/python3.10/dist-packages (from matplotlib->wordcloud) (1.4.5)\n",
            "Requirement already satisfied: packaging>=20.0 in /usr/local/lib/python3.10/dist-packages (from matplotlib->wordcloud) (23.2)\n",
            "Requirement already satisfied: pyparsing>=2.3.1 in /usr/local/lib/python3.10/dist-packages (from matplotlib->wordcloud) (3.1.1)\n",
            "Requirement already satisfied: python-dateutil>=2.7 in /usr/local/lib/python3.10/dist-packages (from matplotlib->wordcloud) (2.8.2)\n",
            "Requirement already satisfied: six>=1.5 in /usr/local/lib/python3.10/dist-packages (from python-dateutil>=2.7->matplotlib->wordcloud) (1.16.0)\n"
          ]
        }
      ]
    },
    {
      "cell_type": "code",
      "source": [
        "from google.colab import drive\n",
        "drive.mount('/content/drive')\n",
        "\n",
        "%cd '/content/drive/MyDrive/001'"
      ],
      "metadata": {
        "colab": {
          "base_uri": "https://localhost:8080/"
        },
        "id": "lCA77UKaFuBj",
        "outputId": "9838512e-3c14-44a7-fb48-70ed8ea69117"
      },
      "execution_count": 6,
      "outputs": [
        {
          "output_type": "stream",
          "name": "stdout",
          "text": [
            "Drive already mounted at /content/drive; to attempt to forcibly remount, call drive.mount(\"/content/drive\", force_remount=True).\n",
            "/content/drive/MyDrive/001\n"
          ]
        }
      ]
    },
    {
      "cell_type": "code",
      "source": [
        "# 기본\n",
        "import numpy as np\n",
        "import pandas as pd\n",
        "import matplotlib as mp\n",
        "import matplotlib.pyplot as plt\n",
        "import seaborn as sns\n",
        "\n",
        "\n",
        "#데이터 전처리\n",
        "from konlpy.tag import Okt\n",
        "from collections import Counter\n",
        "from wordcloud import WordCloud"
      ],
      "metadata": {
        "id": "Ly-66nKfElsa"
      },
      "execution_count": 7,
      "outputs": []
    },
    {
      "cell_type": "markdown",
      "source": [
        "KoNLPY (코엔엘파이)   \n",
        "KoNLPY에서는 대한민국 헌법 말뭉치인 kolow와 국회법안말뭉치인 kobill을 제공한다."
      ],
      "metadata": {
        "id": "CeFz4OvT_nLS"
      }
    },
    {
      "cell_type": "code",
      "source": [
        "df = pd.read_csv('001_1/review.csv',encoding='cp949')\n",
        "df.head()"
      ],
      "metadata": {
        "colab": {
          "base_uri": "https://localhost:8080/",
          "height": 310
        },
        "id": "O3hgIb6JHBmw",
        "outputId": "e7f83dac-be64-472e-9820-0bc39dfee185"
      },
      "execution_count": 8,
      "outputs": [
        {
          "output_type": "execute_result",
          "data": {
            "text/plain": [
              "    번호 재학생구분  학년/학기    학과 성별  \\\n",
              "0   65    대학      1  인문계열  여   \n",
              "1   78    대학      3  사회계열  여   \n",
              "2  100    대학      1  사회계열  여   \n",
              "3  129    대학      4  인문계열  여   \n",
              "4   37    대학      2  인문계열  남   \n",
              "\n",
              "                                                text  \n",
              "0  1학기 때 책 읽으려고 갔는데 먼지가 있었어요. 그래서 책상에 먼지가 없었으면 좋겠어요.  \n",
              "1                                   KC대학교도서관 재건축해주세요  \n",
              "2                                       개인스터디할공간이 필요  \n",
              "3                               건물 재건축 및 교체, 내부 리모델링  \n",
              "4                        공부를 할 수 있는 시설이 개선되었으면 좋겠습니다  "
            ],
            "text/html": [
              "\n",
              "  <div id=\"df-4f891eb8-84c2-4cd5-b6cc-cc945285e17f\" class=\"colab-df-container\">\n",
              "    <div>\n",
              "<style scoped>\n",
              "    .dataframe tbody tr th:only-of-type {\n",
              "        vertical-align: middle;\n",
              "    }\n",
              "\n",
              "    .dataframe tbody tr th {\n",
              "        vertical-align: top;\n",
              "    }\n",
              "\n",
              "    .dataframe thead th {\n",
              "        text-align: right;\n",
              "    }\n",
              "</style>\n",
              "<table border=\"1\" class=\"dataframe\">\n",
              "  <thead>\n",
              "    <tr style=\"text-align: right;\">\n",
              "      <th></th>\n",
              "      <th>번호</th>\n",
              "      <th>재학생구분</th>\n",
              "      <th>학년/학기</th>\n",
              "      <th>학과</th>\n",
              "      <th>성별</th>\n",
              "      <th>text</th>\n",
              "    </tr>\n",
              "  </thead>\n",
              "  <tbody>\n",
              "    <tr>\n",
              "      <th>0</th>\n",
              "      <td>65</td>\n",
              "      <td>대학</td>\n",
              "      <td>1</td>\n",
              "      <td>인문계열</td>\n",
              "      <td>여</td>\n",
              "      <td>1학기 때 책 읽으려고 갔는데 먼지가 있었어요. 그래서 책상에 먼지가 없었으면 좋겠어요.</td>\n",
              "    </tr>\n",
              "    <tr>\n",
              "      <th>1</th>\n",
              "      <td>78</td>\n",
              "      <td>대학</td>\n",
              "      <td>3</td>\n",
              "      <td>사회계열</td>\n",
              "      <td>여</td>\n",
              "      <td>KC대학교도서관 재건축해주세요</td>\n",
              "    </tr>\n",
              "    <tr>\n",
              "      <th>2</th>\n",
              "      <td>100</td>\n",
              "      <td>대학</td>\n",
              "      <td>1</td>\n",
              "      <td>사회계열</td>\n",
              "      <td>여</td>\n",
              "      <td>개인스터디할공간이 필요</td>\n",
              "    </tr>\n",
              "    <tr>\n",
              "      <th>3</th>\n",
              "      <td>129</td>\n",
              "      <td>대학</td>\n",
              "      <td>4</td>\n",
              "      <td>인문계열</td>\n",
              "      <td>여</td>\n",
              "      <td>건물 재건축 및 교체, 내부 리모델링</td>\n",
              "    </tr>\n",
              "    <tr>\n",
              "      <th>4</th>\n",
              "      <td>37</td>\n",
              "      <td>대학</td>\n",
              "      <td>2</td>\n",
              "      <td>인문계열</td>\n",
              "      <td>남</td>\n",
              "      <td>공부를 할 수 있는 시설이 개선되었으면 좋겠습니다</td>\n",
              "    </tr>\n",
              "  </tbody>\n",
              "</table>\n",
              "</div>\n",
              "    <div class=\"colab-df-buttons\">\n",
              "\n",
              "  <div class=\"colab-df-container\">\n",
              "    <button class=\"colab-df-convert\" onclick=\"convertToInteractive('df-4f891eb8-84c2-4cd5-b6cc-cc945285e17f')\"\n",
              "            title=\"Convert this dataframe to an interactive table.\"\n",
              "            style=\"display:none;\">\n",
              "\n",
              "  <svg xmlns=\"http://www.w3.org/2000/svg\" height=\"24px\" viewBox=\"0 -960 960 960\">\n",
              "    <path d=\"M120-120v-720h720v720H120Zm60-500h600v-160H180v160Zm220 220h160v-160H400v160Zm0 220h160v-160H400v160ZM180-400h160v-160H180v160Zm440 0h160v-160H620v160ZM180-180h160v-160H180v160Zm440 0h160v-160H620v160Z\"/>\n",
              "  </svg>\n",
              "    </button>\n",
              "\n",
              "  <style>\n",
              "    .colab-df-container {\n",
              "      display:flex;\n",
              "      gap: 12px;\n",
              "    }\n",
              "\n",
              "    .colab-df-convert {\n",
              "      background-color: #E8F0FE;\n",
              "      border: none;\n",
              "      border-radius: 50%;\n",
              "      cursor: pointer;\n",
              "      display: none;\n",
              "      fill: #1967D2;\n",
              "      height: 32px;\n",
              "      padding: 0 0 0 0;\n",
              "      width: 32px;\n",
              "    }\n",
              "\n",
              "    .colab-df-convert:hover {\n",
              "      background-color: #E2EBFA;\n",
              "      box-shadow: 0px 1px 2px rgba(60, 64, 67, 0.3), 0px 1px 3px 1px rgba(60, 64, 67, 0.15);\n",
              "      fill: #174EA6;\n",
              "    }\n",
              "\n",
              "    .colab-df-buttons div {\n",
              "      margin-bottom: 4px;\n",
              "    }\n",
              "\n",
              "    [theme=dark] .colab-df-convert {\n",
              "      background-color: #3B4455;\n",
              "      fill: #D2E3FC;\n",
              "    }\n",
              "\n",
              "    [theme=dark] .colab-df-convert:hover {\n",
              "      background-color: #434B5C;\n",
              "      box-shadow: 0px 1px 3px 1px rgba(0, 0, 0, 0.15);\n",
              "      filter: drop-shadow(0px 1px 2px rgba(0, 0, 0, 0.3));\n",
              "      fill: #FFFFFF;\n",
              "    }\n",
              "  </style>\n",
              "\n",
              "    <script>\n",
              "      const buttonEl =\n",
              "        document.querySelector('#df-4f891eb8-84c2-4cd5-b6cc-cc945285e17f button.colab-df-convert');\n",
              "      buttonEl.style.display =\n",
              "        google.colab.kernel.accessAllowed ? 'block' : 'none';\n",
              "\n",
              "      async function convertToInteractive(key) {\n",
              "        const element = document.querySelector('#df-4f891eb8-84c2-4cd5-b6cc-cc945285e17f');\n",
              "        const dataTable =\n",
              "          await google.colab.kernel.invokeFunction('convertToInteractive',\n",
              "                                                    [key], {});\n",
              "        if (!dataTable) return;\n",
              "\n",
              "        const docLinkHtml = 'Like what you see? Visit the ' +\n",
              "          '<a target=\"_blank\" href=https://colab.research.google.com/notebooks/data_table.ipynb>data table notebook</a>'\n",
              "          + ' to learn more about interactive tables.';\n",
              "        element.innerHTML = '';\n",
              "        dataTable['output_type'] = 'display_data';\n",
              "        await google.colab.output.renderOutput(dataTable, element);\n",
              "        const docLink = document.createElement('div');\n",
              "        docLink.innerHTML = docLinkHtml;\n",
              "        element.appendChild(docLink);\n",
              "      }\n",
              "    </script>\n",
              "  </div>\n",
              "\n",
              "\n",
              "<div id=\"df-0a147a0e-e308-4d0f-b105-d58fc924ebe9\">\n",
              "  <button class=\"colab-df-quickchart\" onclick=\"quickchart('df-0a147a0e-e308-4d0f-b105-d58fc924ebe9')\"\n",
              "            title=\"Suggest charts\"\n",
              "            style=\"display:none;\">\n",
              "\n",
              "<svg xmlns=\"http://www.w3.org/2000/svg\" height=\"24px\"viewBox=\"0 0 24 24\"\n",
              "     width=\"24px\">\n",
              "    <g>\n",
              "        <path d=\"M19 3H5c-1.1 0-2 .9-2 2v14c0 1.1.9 2 2 2h14c1.1 0 2-.9 2-2V5c0-1.1-.9-2-2-2zM9 17H7v-7h2v7zm4 0h-2V7h2v10zm4 0h-2v-4h2v4z\"/>\n",
              "    </g>\n",
              "</svg>\n",
              "  </button>\n",
              "\n",
              "<style>\n",
              "  .colab-df-quickchart {\n",
              "      --bg-color: #E8F0FE;\n",
              "      --fill-color: #1967D2;\n",
              "      --hover-bg-color: #E2EBFA;\n",
              "      --hover-fill-color: #174EA6;\n",
              "      --disabled-fill-color: #AAA;\n",
              "      --disabled-bg-color: #DDD;\n",
              "  }\n",
              "\n",
              "  [theme=dark] .colab-df-quickchart {\n",
              "      --bg-color: #3B4455;\n",
              "      --fill-color: #D2E3FC;\n",
              "      --hover-bg-color: #434B5C;\n",
              "      --hover-fill-color: #FFFFFF;\n",
              "      --disabled-bg-color: #3B4455;\n",
              "      --disabled-fill-color: #666;\n",
              "  }\n",
              "\n",
              "  .colab-df-quickchart {\n",
              "    background-color: var(--bg-color);\n",
              "    border: none;\n",
              "    border-radius: 50%;\n",
              "    cursor: pointer;\n",
              "    display: none;\n",
              "    fill: var(--fill-color);\n",
              "    height: 32px;\n",
              "    padding: 0;\n",
              "    width: 32px;\n",
              "  }\n",
              "\n",
              "  .colab-df-quickchart:hover {\n",
              "    background-color: var(--hover-bg-color);\n",
              "    box-shadow: 0 1px 2px rgba(60, 64, 67, 0.3), 0 1px 3px 1px rgba(60, 64, 67, 0.15);\n",
              "    fill: var(--button-hover-fill-color);\n",
              "  }\n",
              "\n",
              "  .colab-df-quickchart-complete:disabled,\n",
              "  .colab-df-quickchart-complete:disabled:hover {\n",
              "    background-color: var(--disabled-bg-color);\n",
              "    fill: var(--disabled-fill-color);\n",
              "    box-shadow: none;\n",
              "  }\n",
              "\n",
              "  .colab-df-spinner {\n",
              "    border: 2px solid var(--fill-color);\n",
              "    border-color: transparent;\n",
              "    border-bottom-color: var(--fill-color);\n",
              "    animation:\n",
              "      spin 1s steps(1) infinite;\n",
              "  }\n",
              "\n",
              "  @keyframes spin {\n",
              "    0% {\n",
              "      border-color: transparent;\n",
              "      border-bottom-color: var(--fill-color);\n",
              "      border-left-color: var(--fill-color);\n",
              "    }\n",
              "    20% {\n",
              "      border-color: transparent;\n",
              "      border-left-color: var(--fill-color);\n",
              "      border-top-color: var(--fill-color);\n",
              "    }\n",
              "    30% {\n",
              "      border-color: transparent;\n",
              "      border-left-color: var(--fill-color);\n",
              "      border-top-color: var(--fill-color);\n",
              "      border-right-color: var(--fill-color);\n",
              "    }\n",
              "    40% {\n",
              "      border-color: transparent;\n",
              "      border-right-color: var(--fill-color);\n",
              "      border-top-color: var(--fill-color);\n",
              "    }\n",
              "    60% {\n",
              "      border-color: transparent;\n",
              "      border-right-color: var(--fill-color);\n",
              "    }\n",
              "    80% {\n",
              "      border-color: transparent;\n",
              "      border-right-color: var(--fill-color);\n",
              "      border-bottom-color: var(--fill-color);\n",
              "    }\n",
              "    90% {\n",
              "      border-color: transparent;\n",
              "      border-bottom-color: var(--fill-color);\n",
              "    }\n",
              "  }\n",
              "</style>\n",
              "\n",
              "  <script>\n",
              "    async function quickchart(key) {\n",
              "      const quickchartButtonEl =\n",
              "        document.querySelector('#' + key + ' button');\n",
              "      quickchartButtonEl.disabled = true;  // To prevent multiple clicks.\n",
              "      quickchartButtonEl.classList.add('colab-df-spinner');\n",
              "      try {\n",
              "        const charts = await google.colab.kernel.invokeFunction(\n",
              "            'suggestCharts', [key], {});\n",
              "      } catch (error) {\n",
              "        console.error('Error during call to suggestCharts:', error);\n",
              "      }\n",
              "      quickchartButtonEl.classList.remove('colab-df-spinner');\n",
              "      quickchartButtonEl.classList.add('colab-df-quickchart-complete');\n",
              "    }\n",
              "    (() => {\n",
              "      let quickchartButtonEl =\n",
              "        document.querySelector('#df-0a147a0e-e308-4d0f-b105-d58fc924ebe9 button');\n",
              "      quickchartButtonEl.style.display =\n",
              "        google.colab.kernel.accessAllowed ? 'block' : 'none';\n",
              "    })();\n",
              "  </script>\n",
              "</div>\n",
              "\n",
              "    </div>\n",
              "  </div>\n"
            ]
          },
          "metadata": {},
          "execution_count": 8
        }
      ]
    },
    {
      "cell_type": "code",
      "source": [
        "df.shape"
      ],
      "metadata": {
        "colab": {
          "base_uri": "https://localhost:8080/"
        },
        "id": "b_5YG1eTHe-o",
        "outputId": "3e4a0679-541f-4dbf-8750-7afc0e5f2fe8"
      },
      "execution_count": 9,
      "outputs": [
        {
          "output_type": "execute_result",
          "data": {
            "text/plain": [
              "(59, 6)"
            ]
          },
          "metadata": {},
          "execution_count": 9
        }
      ]
    },
    {
      "cell_type": "code",
      "source": [
        "df.info()"
      ],
      "metadata": {
        "colab": {
          "base_uri": "https://localhost:8080/"
        },
        "id": "8NsxK0l2Htyn",
        "outputId": "d3117d29-e578-4209-801a-de1ee3746da6"
      },
      "execution_count": 10,
      "outputs": [
        {
          "output_type": "stream",
          "name": "stdout",
          "text": [
            "<class 'pandas.core.frame.DataFrame'>\n",
            "RangeIndex: 59 entries, 0 to 58\n",
            "Data columns (total 6 columns):\n",
            " #   Column  Non-Null Count  Dtype \n",
            "---  ------  --------------  ----- \n",
            " 0   번호      59 non-null     int64 \n",
            " 1   재학생구분   59 non-null     object\n",
            " 2   학년/학기   59 non-null     int64 \n",
            " 3   학과      59 non-null     object\n",
            " 4   성별      59 non-null     object\n",
            " 5   text    59 non-null     object\n",
            "dtypes: int64(2), object(4)\n",
            "memory usage: 2.9+ KB\n"
          ]
        }
      ]
    },
    {
      "cell_type": "markdown",
      "source": [
        "## 명사 단어 추출"
      ],
      "metadata": {
        "id": "g6EKh5UgH0H7"
      }
    },
    {
      "cell_type": "markdown",
      "source": [
        "1. 세종사전 실행"
      ],
      "metadata": {
        "id": "qlSFMQ9aH24w"
      }
    },
    {
      "cell_type": "markdown",
      "source": [],
      "metadata": {
        "id": "0Bjf5t5pH8y-"
      }
    },
    {
      "cell_type": "code",
      "source": [
        "from konlpy.tag import Okt\n",
        "twitter = Okt()"
      ],
      "metadata": {
        "id": "HR4AIVGKHpfY"
      },
      "execution_count": 11,
      "outputs": []
    },
    {
      "cell_type": "markdown",
      "source": [
        "2. 단어리스트만들기"
      ],
      "metadata": {
        "id": "_8sQTMv7IGGe"
      }
    },
    {
      "cell_type": "code",
      "source": [
        "word_list =[]\n",
        "word_list =df['text']"
      ],
      "metadata": {
        "id": "4TJPIOQJIHjO"
      },
      "execution_count": 12,
      "outputs": []
    },
    {
      "cell_type": "code",
      "source": [
        "word_list"
      ],
      "metadata": {
        "colab": {
          "base_uri": "https://localhost:8080/"
        },
        "id": "CE8WbqeLIOwm",
        "outputId": "61030377-57e6-4b29-f4f8-70fd476a2ca0"
      },
      "execution_count": 13,
      "outputs": [
        {
          "output_type": "execute_result",
          "data": {
            "text/plain": [
              "0     1학기 때 책 읽으려고 갔는데 먼지가 있었어요. 그래서 책상에 먼지가 없었으면 좋겠어요.\n",
              "1                                      KC대학교도서관 재건축해주세요\n",
              "2                                          개인스터디할공간이 필요\n",
              "3                                  건물 재건축 및 교체, 내부 리모델링\n",
              "4                           공부를 할 수 있는 시설이 개선되었으면 좋겠습니다\n",
              "5     공부할수있는쾌적한 공간을 마련해주세요. 그저 좁은 공간에 책만 꽉 차서 책이 믾은 ...\n",
              "6     논문 열람 가능한 사이트 riss를 학교와 연계해서 학생들이 이용할 수 있게 해주세...\n",
              "7     대출불가도서를 대여해주던지 복사기를 고쳐주세요.. 대여도 안되고 복사도 잘안되서 돈...\n",
              "8                  대학원 전공과 관련된 국내외 참고도서도 많이 구비하였으면 합니다.\n",
              "9                                       더 나아진 도서관을 기대해요\n",
              "10    도서관 2층 들어서자마자 있는 컴퓨터 공간 외 다른 공간들의 공기가 너무 탁합니다....\n",
              "11                                         도서관 건물 시설 개설\n",
              "12                        도서관 리모델링을 했으면 좋겠다. 너무 낙후되어있다.\n",
              "13                                     도서관 책장이 너무 부실합니다\n",
              "14    도서관같은 공간의 경우에는 사람을 끌어들이는 힘이 굉장히 중요하다고 생각하는데, 그...\n",
              "15         도서관규모에비해직원수가많아서 직원1명이면충분함. 근로생들이 대출반납정리다하니..\n",
              "16                                           도서관리모델링필요!\n",
              "17    도서관에 간호학 전공 공부를 할 수 있는 다양한 자료가 있었으면 좋겠습니다. 뿐만 ...\n",
              "18    도서관에 대한 홍보를 조금더 하고 프로그램을 개발하여 학생들이 많이 찾아갈 수 있게...\n",
              "19    도서관의 위치와 내부 중간에 자유롭게 앉아서 책을 읽을 환경이 필요하고, 지금 이상...\n",
              "20    도서관이 너무 어지럽게 되어 있기도 하고 저번에 갔을때는 책이 아무렇게나 꽂혀 있는...\n",
              "21    도서관이 너무 오래되어서 겨울에는 너무 추워요. 1층 같은 경우는 밖에서 담배피우는...\n",
              "22    도서관이 너무 작아요ㅠ 학교 내에 열람실이 있긴 하지만 도서관 안에서도 공부하고 싶...\n",
              "23    도서관이 대학 자료의 보고로서 최신 자료 수집과 학문 연구를 위한 지원에 최선을 다...\n",
              "24                              도서관이 좀 더 시설이 좋았으면 좋겠습니다\n",
              "25    독서를 왜 해야하는지, 독서의 필요성에 대한 특강을 들으면 독서실이용이 조금 더 활...\n",
              "26            새로운 건물로 다시 지었으면 좋겠다 시설이 초갓집도 아니고 시설이 미비하다\n",
              "27                                                   설비\n",
              "28                                                시설 보수\n",
              "29                                               시설개선..\n",
              "30                                     시설이 개선되었으면 좋겠습니다\n",
              "31            시설이 너무 낙후되어있고, 스터디모임이나 공부하는 공간이 턱없이 부족하다.\n",
              "32                                 신간도서 자주 구비해주시기 바랍니다.\n",
              "33              신학기마다 새로운 책들을 학과별로 체크해서 구입해주시면 좋을듯 합니다.\n",
              "34    신학으로 설립되었기에 그와 관련된 서적은 타관보다 장서보유는 많아 유익한데 최신 양...\n",
              "35                                    앞으로도 많은 발전을 기원합니다\n",
              "36                                                  없다.\n",
              "37                          열람실부분 타 대학들처럼 개선되었으면 좋겠습니다.\n",
              "38    열람실에서 주로 공부하기 보단 도서관에서도 공부를 하러 갈 수 있는 환경조성과 홍보...\n",
              "39                                  열람실이랑 도서관을 새로 지어주세요\n",
              "40    열람실처럼 개인학습 공간이 따로 마련되었으면 좋겠고 종교 서적이 아닌 베스트 셀러나...\n",
              "41                          오래된 자료보다 최신자료를 보다 이용하고싶습니다.\n",
              "42    자격증 취득을 위한 최신도서들이 부족하다 특히나 세법같은 매년 개정되는 내용을 확인...\n",
              "43    자료를 조금 더 보충해 주셨으면 합니다. 예로 신학 자료 같은 것들을 검색할 때 적...\n",
              "44                                         잘 이용하고 있습니다.\n",
              "45                                           전반적으로 만족함.\n",
              "46                                 전체적인 개혁이 필요하다고 생각합니다\n",
              "47                                  조금 더 공간이 넓었으면 좋겠습니다\n",
              "48                                 조금 더 공간이 넓었으면 좋겠습니다.\n",
              "49                          좀더 넓고 좋은 시설과 학습공간이 있었으면 좋겠다\n",
              "50    책 읽을 공간, 학습공간, 스터디룸 책을 좋아하는 학생들과 도서관 분위기에서 공부하...\n",
              "51    책도 많아지고 책이 분류 별로 확실하게 정리되었으면 좋겠습니다 그리고 공부할수있는 ...\n",
              "52                                      최신 자료가 많이 부족합니다\n",
              "53                                      최신도서 배치 및 건물 신축\n",
              "54                         출입구의인식기가사용이어렵습니다(인식이잘안되는것같음)\n",
              "55                                           충분히 만족스러워요\n",
              "56                                  학교 전공이나 교양 관련 서적 증가\n",
              "57                 학생들이 공부하기 편한 환경 / 제대로 된 도서들 제공했으면좋겠다\n",
              "58       해당 학기에 쓰는 전공책 등을 구비하고, 그 외에도 최신 도서들이 들어왔으면 좋겠다\n",
              "Name: text, dtype: object"
            ]
          },
          "metadata": {},
          "execution_count": 13
        }
      ]
    },
    {
      "cell_type": "markdown",
      "source": [
        "3) 형태소 분리 및 품사태깅"
      ],
      "metadata": {
        "id": "aayO7t9dI442"
      }
    },
    {
      "cell_type": "code",
      "source": [
        "sentences_tag =[]\n",
        "\n",
        "for sentence in word_list:\n",
        "    print(sentence)\n",
        "    morph = twitter.pos(sentence)\n",
        "    print(morph)\n",
        "    sentences_tag.append(morph)\n",
        "    #print(sentences_tag)\n",
        "    #break"
      ],
      "metadata": {
        "colab": {
          "base_uri": "https://localhost:8080/"
        },
        "id": "N6F9UzchIOvo",
        "outputId": "5e9e5cbd-1672-486f-e4a5-6252fc7c2eaf"
      },
      "execution_count": 14,
      "outputs": [
        {
          "output_type": "stream",
          "name": "stdout",
          "text": [
            "1학기 때 책 읽으려고 갔는데 먼지가 있었어요. 그래서 책상에 먼지가 없었으면 좋겠어요.\n",
            "[('1', 'Number'), ('학기', 'Noun'), ('때', 'Noun'), ('책', 'Noun'), ('읽으려고', 'Verb'), ('갔는데', 'Verb'), ('먼지', 'Noun'), ('가', 'Josa'), ('있었어요', 'Adjective'), ('.', 'Punctuation'), ('그래서', 'Adverb'), ('책상', 'Noun'), ('에', 'Josa'), ('먼지', 'Noun'), ('가', 'Josa'), ('없었으면', 'Adjective'), ('좋겠어요', 'Adjective'), ('.', 'Punctuation')]\n",
            "KC대학교도서관 재건축해주세요\n",
            "[('KC', 'Alpha'), ('대학교', 'Noun'), ('도서관', 'Noun'), ('재건축', 'Noun'), ('해주세요', 'Verb')]\n",
            "개인스터디할공간이 필요\n",
            "[('개인', 'Noun'), ('스터디', 'Noun'), ('할', 'Verb'), ('공간', 'Noun'), ('이', 'Josa'), ('필요', 'Noun')]\n",
            "건물 재건축 및 교체, 내부 리모델링\n",
            "[('건물', 'Noun'), ('재건축', 'Noun'), ('및', 'Noun'), ('교체', 'Noun'), (',', 'Punctuation'), ('내부', 'Noun'), ('리', 'Noun'), ('모델링', 'Noun')]\n",
            "공부를 할 수 있는 시설이 개선되었으면 좋겠습니다\n",
            "[('공부', 'Noun'), ('를', 'Josa'), ('할', 'Verb'), ('수', 'Noun'), ('있는', 'Adjective'), ('시설', 'Noun'), ('이', 'Josa'), ('개선', 'Noun'), ('되었으면', 'Verb'), ('좋겠습니다', 'Adjective')]\n",
            "공부할수있는쾌적한 공간을 마련해주세요. 그저 좁은 공간에 책만 꽉 차서 책이 믾은 건 좋지만 읽을 수 있눈 공간도 급하게 찔끔 만들어놓은듯 느껴지고 보통 다른 대학은 모든 학생들이 공부할 수 있을만큼 크고 쾌적하고 좋은데 저희는 고등학교보다 나쁜거같아 속상합니다...저희 학교에 자부심갖기가 힘듭니다..\n",
            "[('공부', 'Noun'), ('할수있는', 'Verb'), ('쾌적한', 'Adjective'), ('공간', 'Noun'), ('을', 'Josa'), ('마련', 'Noun'), ('해주세요', 'Verb'), ('.', 'Punctuation'), ('그저', 'Adverb'), ('좁은', 'Adjective'), ('공간', 'Noun'), ('에', 'Josa'), ('책', 'Noun'), ('만', 'Josa'), ('꽉', 'Noun'), ('차서', 'Noun'), ('책', 'Noun'), ('이', 'Josa'), ('믾', 'Noun'), ('은', 'Josa'), ('건', 'Noun'), ('좋지만', 'Adjective'), ('읽을', 'Verb'), ('수', 'Noun'), ('있', 'Adjective'), ('눈', 'Noun'), ('공간', 'Noun'), ('도', 'Josa'), ('급하게', 'Adjective'), ('찔끔', 'Adverb'), ('만들어놓은', 'Verb'), ('듯', 'Noun'), ('느껴지고', 'Verb'), ('보통', 'Noun'), ('다른', 'Noun'), ('대학', 'Noun'), ('은', 'Josa'), ('모든', 'Noun'), ('학생', 'Noun'), ('들', 'Suffix'), ('이', 'Josa'), ('공부', 'Noun'), ('할', 'Verb'), ('수', 'Noun'), ('있을만큼', 'Adjective'), ('크고', 'Verb'), ('쾌적하고', 'Adjective'), ('좋은데', 'Adjective'), ('저희', 'Noun'), ('는', 'Josa'), ('고등학교', 'Noun'), ('보다', 'Josa'), ('나쁜거', 'Adjective'), ('같아', 'Adjective'), ('속상합니다', 'Adjective'), ('...', 'Punctuation'), ('저희', 'Noun'), ('학교', 'Noun'), ('에', 'Josa'), ('자부심', 'Noun'), ('갖기가', 'Verb'), ('힘듭니다', 'Adjective'), ('..', 'Punctuation')]\n",
            "논문 열람 가능한 사이트 riss를 학교와 연계해서 학생들이 이용할 수 있게 해주세요. 또한 도서관, 독서실 등 시설도 더 깔끔하게 변경해주세요 제발..\n",
            "[('논문', 'Noun'), ('열람', 'Noun'), ('가능한', 'Adjective'), ('사이트', 'Noun'), ('riss', 'Alpha'), ('를', 'Noun'), ('학교', 'Noun'), ('와', 'Josa'), ('연', 'Modifier'), ('계해', 'Noun'), ('서', 'Josa'), ('학생', 'Noun'), ('들', 'Suffix'), ('이', 'Josa'), ('이용', 'Noun'), ('할', 'Verb'), ('수', 'Noun'), ('있게', 'Adjective'), ('해주세요', 'Verb'), ('.', 'Punctuation'), ('또한', 'Noun'), ('도서관', 'Noun'), (',', 'Punctuation'), ('독서실', 'Noun'), ('등', 'Noun'), ('시설', 'Noun'), ('도', 'Josa'), ('더', 'Noun'), ('깔끔하게', 'Adjective'), ('변경', 'Noun'), ('해주세요', 'Verb'), ('제발', 'Noun'), ('..', 'Punctuation')]\n",
            "대출불가도서를 대여해주던지 복사기를 고쳐주세요.. 대여도 안되고 복사도 잘안되서 돈만 엄청 나가고 깔끔하게 복사도 잘 안됩니다\n",
            "[('대출', 'Noun'), ('불가', 'Noun'), ('도서', 'Noun'), ('를', 'Josa'), ('대여', 'Noun'), ('해주던지', 'Verb'), ('복사기', 'Noun'), ('를', 'Josa'), ('고쳐주세요', 'Verb'), ('..', 'Punctuation'), ('대여', 'Noun'), ('도', 'Josa'), ('안되고', 'Adjective'), ('복사', 'Noun'), ('도', 'Josa'), ('잘', 'VerbPrefix'), ('안되서', 'Adjective'), ('돈', 'Noun'), ('만', 'Josa'), ('엄청', 'Adverb'), ('나가고', 'Verb'), ('깔끔하게', 'Adjective'), ('복사', 'Noun'), ('도', 'Josa'), ('잘', 'Verb'), ('안됩니다', 'Adjective')]\n",
            "대학원 전공과 관련된 국내외 참고도서도 많이 구비하였으면 합니다.\n",
            "[('대학원', 'Noun'), ('전공', 'Noun'), ('과', 'Josa'), ('관련', 'Noun'), ('된', 'Verb'), ('국내외', 'Noun'), ('참고도서', 'Noun'), ('도', 'Josa'), ('많이', 'Adverb'), ('구비', 'Noun'), ('하였으면', 'Verb'), ('합니다', 'Verb'), ('.', 'Punctuation')]\n",
            "더 나아진 도서관을 기대해요\n",
            "[('더', 'Noun'), ('나아진', 'Verb'), ('도서관', 'Noun'), ('을', 'Josa'), ('기대해요', 'Adjective')]\n",
            "도서관 2층 들어서자마자 있는 컴퓨터 공간 외 다른 공간들의 공기가 너무 탁합니다. 들어가서 조금 있다가 기침이 나올 정도입니다. 먼지털이와 걸레로 한번 대청소를 하고 공기청정기를 설치했으면 합니다.\n",
            "[('도서관', 'Noun'), ('2', 'Number'), ('층', 'Noun'), ('들어서자마자', 'Verb'), ('있는', 'Adjective'), ('컴퓨터', 'Noun'), ('공간', 'Noun'), ('외', 'Noun'), ('다른', 'Noun'), ('공간', 'Noun'), ('들', 'Suffix'), ('의', 'Josa'), ('공기', 'Noun'), ('가', 'Josa'), ('너무', 'Adverb'), ('탁합니다', 'Adjective'), ('.', 'Punctuation'), ('들어가서', 'Verb'), ('조금', 'Noun'), ('있다가', 'Adjective'), ('기침', 'Noun'), ('이', 'Josa'), ('나올', 'Verb'), ('정도', 'Noun'), ('입니다', 'Adjective'), ('.', 'Punctuation'), ('먼지털이', 'Noun'), ('와', 'Josa'), ('걸레', 'Noun'), ('로', 'Josa'), ('한번', 'Noun'), ('대', 'Modifier'), ('청소', 'Noun'), ('를', 'Josa'), ('하고', 'Verb'), ('공기청정기', 'Noun'), ('를', 'Josa'), ('설치', 'Noun'), ('했으면', 'Verb'), ('합니다', 'Verb'), ('.', 'Punctuation')]\n",
            "도서관 건물 시설 개설\n",
            "[('도서관', 'Noun'), ('건물', 'Noun'), ('시설', 'Noun'), ('개설', 'Noun')]\n",
            "도서관 리모델링을 했으면 좋겠다. 너무 낙후되어있다.\n",
            "[('도서관', 'Noun'), ('리', 'Noun'), ('모델링', 'Noun'), ('을', 'Josa'), ('했으면', 'Verb'), ('좋겠다', 'Adjective'), ('.', 'Punctuation'), ('너무', 'Adverb'), ('낙후', 'Noun'), ('되어있다', 'Verb'), ('.', 'Punctuation')]\n",
            "도서관 책장이 너무 부실합니다\n",
            "[('도서관', 'Noun'), ('책장', 'Noun'), ('이', 'Josa'), ('너무', 'Adverb'), ('부실합니다', 'Adjective')]\n",
            "도서관같은 공간의 경우에는 사람을 끌어들이는 힘이 굉장히 중요하다고 생각하는데, 그런 점이 우리 학교 도서관에는 매우 부족합니다. 우리 학교 도서관의 좋은 점은, 신청 도서는 전부 다 주문해 준다는 점에서 개인적으로 좋습니다. 하지만 이런 부분을 알지 못하는 학생들이 많은 것 같이 보입니다. 위에 개인학습 공간이나 그룹학습 공간의 제공을 묻는 항목이 있는데, 정확히 말하자면 그러한 공간이 있기는 있습니다. 하지만 책 먼지 냄새가 심하게 나고, 여름철에 굉장히 더운데 에어컨이 (컴퓨터 사용 공간에 있는 한대를 제외한)아주 오래된 것들 뿐이라서 여름에 정말 덥습니다. 책 읽을 환경이 아예 안됩니다. 겨울도 마찬가지로 난방이 안됩니다. 되긴 하나 공부를 하면 발이 시려워서 오래 있을 수가 없어요. 우리학교 도서관의 가장 큰 문제점은 사실 서비스가 아니라 시설입니다.... 여름, 겨울철 냉난방이 터무니 없는 수준이고, 학습 공간은 있긴 하나 공간이 답답합니다. 또한 오래된 먼지 냄새같은 것이 나고요. 이런 부분을 해결하는 것이 관건이라고 생각합니다. 저는 도서관 이용을 많이 하는 편인데, 솔직하게 말해서 이용을 많이 해도 애정이 안생기는 환경입니다. 아무리 홍보를 하더라도 이런 부분이 바뀌지 않는다면 도서관 이용률은 평생 저조할 것이라고 아주 확신합니다. 이용 하려고 해도 할 수가 없어요.\n",
            "[('도서관', 'Noun'), ('같은', 'Adjective'), ('공간', 'Noun'), ('의', 'Josa'), ('경우', 'Noun'), ('에는', 'Josa'), ('사람', 'Noun'), ('을', 'Josa'), ('끌어', 'Verb'), ('들이는', 'Verb'), ('힘', 'Noun'), ('이', 'Josa'), ('굉장히', 'Adjective'), ('중요하다고', 'Adjective'), ('생각', 'Noun'), ('하는데', 'Verb'), (',', 'Punctuation'), ('그런', 'Adjective'), ('점', 'Noun'), ('이', 'Josa'), ('우리', 'Noun'), ('학교', 'Noun'), ('도서관', 'Noun'), ('에는', 'Josa'), ('매우', 'Noun'), ('부족합니다', 'Adjective'), ('.', 'Punctuation'), ('우리', 'Noun'), ('학교', 'Noun'), ('도서관', 'Noun'), ('의', 'Josa'), ('좋은', 'Adjective'), ('점', 'Noun'), ('은', 'Josa'), (',', 'Punctuation'), ('신청', 'Noun'), ('도서', 'Noun'), ('는', 'Josa'), ('전부', 'Noun'), ('다', 'Adverb'), ('주문', 'Noun'), ('해', 'Verb'), ('준다는', 'Verb'), ('점', 'Noun'), ('에서', 'Josa'), ('개인', 'Noun'), ('적', 'Suffix'), ('으로', 'Josa'), ('좋습니다', 'Adjective'), ('.', 'Punctuation'), ('하지만', 'Conjunction'), ('이런', 'Adjective'), ('부분', 'Noun'), ('을', 'Josa'), ('알', 'Noun'), ('지', 'Josa'), ('못', 'VerbPrefix'), ('하는', 'Verb'), ('학생', 'Noun'), ('들', 'Suffix'), ('이', 'Josa'), ('많은', 'Adjective'), ('것', 'Noun'), ('같이', 'Adverb'), ('보입니다', 'Verb'), ('.', 'Punctuation'), ('위', 'Noun'), ('에', 'Josa'), ('개인', 'Noun'), ('학습', 'Noun'), ('공간', 'Noun'), ('이나', 'Josa'), ('그룹', 'Noun'), ('학습', 'Noun'), ('공간', 'Noun'), ('의', 'Josa'), ('제공', 'Noun'), ('을', 'Josa'), ('묻는', 'Verb'), ('항목', 'Noun'), ('이', 'Josa'), ('있는데', 'Adjective'), (',', 'Punctuation'), ('정확히', 'Adjective'), ('말', 'Noun'), ('하자면', 'Verb'), ('그러한', 'Adjective'), ('공간', 'Noun'), ('이', 'Josa'), ('있기는', 'Adjective'), ('있습니다', 'Adjective'), ('.', 'Punctuation'), ('하지만', 'Conjunction'), ('책', 'Noun'), ('먼지', 'Noun'), ('냄새', 'Noun'), ('가', 'Josa'), ('심하게', 'Adjective'), ('나고', 'Verb'), (',', 'Punctuation'), ('여름철', 'Noun'), ('에', 'Josa'), ('굉장히', 'Adjective'), ('더운데', 'Adjective'), ('에어컨', 'Noun'), ('이', 'Josa'), ('(', 'Punctuation'), ('컴퓨터', 'Noun'), ('사용', 'Noun'), ('공간', 'Noun'), ('에', 'Josa'), ('있는', 'Adjective'), ('한', 'Determiner'), ('대', 'Modifier'), ('를', 'Noun'), ('제외', 'Noun'), ('한', 'Josa'), (')', 'Punctuation'), ('아주', 'Noun'), ('오래된', 'Adjective'), ('것', 'Noun'), ('들', 'Suffix'), ('뿐', 'Noun'), ('이라서', 'Josa'), ('여름', 'Noun'), ('에', 'Josa'), ('정말', 'Noun'), ('덥습니다', 'Adjective'), ('.', 'Punctuation'), ('책', 'Noun'), ('읽을', 'Verb'), ('환경', 'Noun'), ('이', 'Josa'), ('아예', 'Noun'), ('안됩니다', 'Adjective'), ('.', 'Punctuation'), ('겨울', 'Noun'), ('도', 'Josa'), ('마찬가지', 'Noun'), ('로', 'Josa'), ('난방', 'Noun'), ('이', 'Josa'), ('안됩니다', 'Adjective'), ('.', 'Punctuation'), ('되긴', 'Verb'), ('하나', 'Noun'), ('공부', 'Noun'), ('를', 'Josa'), ('하면', 'Verb'), ('발', 'Noun'), ('이', 'Josa'), ('시려', 'Adjective'), ('워', 'Noun'), ('서', 'Josa'), ('오래', 'Adverb'), ('있을', 'Adjective'), ('수가', 'Noun'), ('없어요', 'Adjective'), ('.', 'Punctuation'), ('우리', 'Noun'), ('학교', 'Noun'), ('도서관', 'Noun'), ('의', 'Josa'), ('가장', 'Noun'), ('큰', 'Verb'), ('문제점', 'Noun'), ('은', 'Josa'), ('사실', 'Noun'), ('서비스', 'Noun'), ('가', 'Josa'), ('아니라', 'Adjective'), ('시설', 'Noun'), ('입니다', 'Adjective'), ('....', 'Punctuation'), ('여름', 'Noun'), (',', 'Punctuation'), ('겨울철', 'Noun'), ('냉', 'Noun'), ('난방', 'Noun'), ('이', 'Josa'), ('터', 'Noun'), ('무니', 'Noun'), ('없는', 'Adjective'), ('수준', 'Noun'), ('이고', 'Josa'), (',', 'Punctuation'), ('학습', 'Noun'), ('공간', 'Noun'), ('은', 'Josa'), ('있긴', 'Adjective'), ('하나', 'Noun'), ('공간', 'Noun'), ('이', 'Josa'), ('답답합니다', 'Adjective'), ('.', 'Punctuation'), ('또한', 'Noun'), ('오래된', 'Adjective'), ('먼지', 'Noun'), ('냄새', 'Noun'), ('같은', 'Adjective'), ('것', 'Noun'), ('이', 'Josa'), ('나고요', 'Verb'), ('.', 'Punctuation'), ('이런', 'Adjective'), ('부분', 'Noun'), ('을', 'Josa'), ('해결', 'Noun'), ('하는', 'Verb'), ('것', 'Noun'), ('이', 'Josa'), ('관건', 'Noun'), ('이라고', 'Josa'), ('생각', 'Noun'), ('합니다', 'Verb'), ('.', 'Punctuation'), ('저', 'Noun'), ('는', 'Josa'), ('도서관', 'Noun'), ('이용', 'Noun'), ('을', 'Josa'), ('많이', 'Adverb'), ('하는', 'Verb'), ('편', 'Noun'), ('인데', 'Josa'), (',', 'Punctuation'), ('솔직하게', 'Adjective'), ('말', 'Noun'), ('해서', 'Verb'), ('이용', 'Noun'), ('을', 'Josa'), ('많이', 'Adverb'), ('해도', 'Noun'), ('애정', 'Noun'), ('이', 'Josa'), ('안', 'VerbPrefix'), ('생기는', 'Verb'), ('환경', 'Noun'), ('입니다', 'Adjective'), ('.', 'Punctuation'), ('아무리', 'Adverb'), ('홍보', 'Noun'), ('를', 'Josa'), ('하더라도', 'Verb'), ('이런', 'Adjective'), ('부분', 'Noun'), ('이', 'Josa'), ('바뀌지', 'Verb'), ('않는다면', 'Verb'), ('도서관', 'Noun'), ('이용', 'Noun'), ('률', 'Noun'), ('은', 'Josa'), ('평생', 'Noun'), ('저조할', 'Adjective'), ('것', 'Noun'), ('이라고', 'Josa'), ('아주', 'Noun'), ('확신', 'Noun'), ('합니다', 'Verb'), ('.', 'Punctuation'), ('이용', 'Noun'), ('하려고', 'Verb'), ('해도', 'Noun'), ('할', 'Verb'), ('수가', 'Noun'), ('없어요', 'Adjective'), ('.', 'Punctuation')]\n",
            "도서관규모에비해직원수가많아서 직원1명이면충분함. 근로생들이 대출반납정리다하니..\n",
            "[('도서관', 'Noun'), ('규모', 'Noun'), ('에', 'Josa'), ('비', 'Noun'), ('해직', 'Noun'), ('원수', 'Noun'), ('가', 'Josa'), ('많아서', 'Adjective'), ('직원', 'Noun'), ('1', 'Number'), ('명', 'Noun'), ('이', 'Suffix'), ('면', 'Josa'), ('충분함', 'Adjective'), ('.', 'Punctuation'), ('근로', 'Noun'), ('생', 'Noun'), ('들', 'Suffix'), ('이', 'Josa'), ('대출', 'Noun'), ('반', 'Modifier'), ('납정', 'Noun'), ('리다', 'Noun'), ('하', 'Suffix'), ('니', 'Josa'), ('..', 'Punctuation')]\n",
            "도서관리모델링필요!\n",
            "[('도서', 'Noun'), ('관리', 'Noun'), ('모델링', 'Noun'), ('필요', 'Noun'), ('!', 'Punctuation')]\n",
            "도서관에 간호학 전공 공부를 할 수 있는 다양한 자료가 있었으면 좋겠습니다. 뿐만 아니라 공부를 할 수 있는 공간이 많았으면 좋겠습니다.\n",
            "[('도서관', 'Noun'), ('에', 'Josa'), ('간호학', 'Noun'), ('전공', 'Noun'), ('공부', 'Noun'), ('를', 'Josa'), ('할', 'Verb'), ('수', 'Noun'), ('있는', 'Adjective'), ('다양한', 'Adjective'), ('자료', 'Noun'), ('가', 'Josa'), ('있었으면', 'Adjective'), ('좋겠습니다', 'Adjective'), ('.', 'Punctuation'), ('뿐', 'Noun'), ('만', 'Josa'), ('아니라', 'Adjective'), ('공부', 'Noun'), ('를', 'Josa'), ('할', 'Verb'), ('수', 'Noun'), ('있는', 'Adjective'), ('공간', 'Noun'), ('이', 'Josa'), ('많았으면', 'Adjective'), ('좋겠습니다', 'Adjective'), ('.', 'Punctuation')]\n",
            "도서관에 대한 홍보를 조금더 하고 프로그램을 개발하여 학생들이 많이 찾아갈 수 있게 하면 좋을 거 같습니다,\n",
            "[('도서관', 'Noun'), ('에', 'Josa'), ('대한', 'Noun'), ('홍보', 'Noun'), ('를', 'Josa'), ('조금', 'Noun'), ('더', 'Noun'), ('하고', 'Verb'), ('프로그램', 'Noun'), ('을', 'Josa'), ('개발', 'Noun'), ('하여', 'Verb'), ('학생', 'Noun'), ('들', 'Suffix'), ('이', 'Josa'), ('많이', 'Adverb'), ('찾아갈', 'Verb'), ('수', 'Noun'), ('있게', 'Adjective'), ('하면', 'Verb'), ('좋을', 'Adjective'), ('거', 'Noun'), ('같습니다', 'Adjective'), (',', 'Punctuation')]\n",
            "도서관의 위치와 내부 중간에 자유롭게 앉아서 책을 읽을 환경이 필요하고, 지금 이상으로 자유롭게 열람하고 공부할 수 있는 테이블과 같은 환경이 필요하다.\n",
            "[('도서관', 'Noun'), ('의', 'Josa'), ('위치', 'Noun'), ('와', 'Josa'), ('내부', 'Noun'), ('중간', 'Noun'), ('에', 'Josa'), ('자유롭게', 'Adjective'), ('앉아서', 'Verb'), ('책', 'Noun'), ('을', 'Josa'), ('읽을', 'Verb'), ('환경', 'Noun'), ('이', 'Josa'), ('필요하고', 'Adjective'), (',', 'Punctuation'), ('지금', 'Noun'), ('이상', 'Noun'), ('으로', 'Josa'), ('자유롭게', 'Adjective'), ('열람', 'Noun'), ('하고', 'Josa'), ('공부', 'Noun'), ('할', 'Verb'), ('수', 'Noun'), ('있는', 'Adjective'), ('테이블', 'Noun'), ('과', 'Josa'), ('같은', 'Adjective'), ('환경', 'Noun'), ('이', 'Josa'), ('필요하다', 'Adjective'), ('.', 'Punctuation')]\n",
            "도서관이 너무 어지럽게 되어 있기도 하고 저번에 갔을때는 책이 아무렇게나 꽂혀 있는 것도 본적이 있습니다. 저희 학교 도서관에 가는것보다는 가까운 다른 도서관을 가는게 더 낫다고 생각합니다.\n",
            "[('도서관', 'Noun'), ('이', 'Josa'), ('너무', 'Adverb'), ('어지럽게', 'Adjective'), ('되어', 'Verb'), ('있기도', 'Adjective'), ('하고', 'Verb'), ('저번', 'Noun'), ('에', 'Josa'), ('갔을', 'Verb'), ('때', 'Noun'), ('는', 'Josa'), ('책', 'Noun'), ('이', 'Josa'), ('아무렇게나', 'Adjective'), ('꽂혀', 'Verb'), ('있는', 'Adjective'), ('것', 'Noun'), ('도', 'Josa'), ('본적', 'Noun'), ('이', 'Josa'), ('있습니다', 'Adjective'), ('.', 'Punctuation'), ('저희', 'Noun'), ('학교', 'Noun'), ('도서관', 'Noun'), ('에', 'Josa'), ('가는것보다는', 'Verb'), ('가까운', 'Adjective'), ('다른', 'Noun'), ('도서관', 'Noun'), ('을', 'Josa'), ('가는게', 'Verb'), ('더', 'Noun'), ('낫다', 'Noun'), ('고', 'Josa'), ('생각', 'Noun'), ('합니다', 'Verb'), ('.', 'Punctuation')]\n",
            "도서관이 너무 오래되어서 겨울에는 너무 추워요. 1층 같은 경우는 밖에서 담배피우는 애들때문에 너무 시끄럽구요. 전반적으로 새로운 환경개선이 필요합니다. 교재나 과제에 필요한 도서인 경우 조금더 비치하면 좋을듯합니다. 프린트는 자주 종이가 걸리네요.\n",
            "[('도서관', 'Noun'), ('이', 'Josa'), ('너무', 'Adverb'), ('오래되어서', 'Adjective'), ('겨울', 'Noun'), ('에는', 'Josa'), ('너무', 'Adverb'), ('추워요', 'Adjective'), ('.', 'Punctuation'), ('1', 'Number'), ('층', 'Noun'), ('같은', 'Adjective'), ('경우', 'Noun'), ('는', 'Josa'), ('밖', 'Noun'), ('에서', 'Josa'), ('담배', 'Noun'), ('피우는', 'Verb'), ('애', 'Noun'), ('들', 'Suffix'), ('때문', 'Noun'), ('에', 'Josa'), ('너무', 'Adverb'), ('시끄럽구요', 'Adjective'), ('.', 'Punctuation'), ('전반', 'Noun'), ('적', 'Suffix'), ('으로', 'Josa'), ('새로운', 'Adjective'), ('환경', 'Noun'), ('개선', 'Noun'), ('이', 'Josa'), ('필요합니다', 'Adjective'), ('.', 'Punctuation'), ('교재', 'Noun'), ('나', 'Josa'), ('과제', 'Noun'), ('에', 'Josa'), ('필요한', 'Adjective'), ('도서', 'Noun'), ('인', 'Josa'), ('경우', 'Noun'), ('조금', 'Noun'), ('더', 'Noun'), ('비치', 'Noun'), ('하면', 'Verb'), ('좋을듯', 'Adjective'), ('합니다', 'Verb'), ('.', 'Punctuation'), ('프린트', 'Noun'), ('는', 'Josa'), ('자주', 'Noun'), ('종이', 'Noun'), ('가', 'Josa'), ('걸리네요', 'Verb'), ('.', 'Punctuation')]\n",
            "도서관이 너무 작아요ㅠ 학교 내에 열람실이 있긴 하지만 도서관 안에서도 공부하고 싶은데 공간이 거의 없어서 불편해요...\n",
            "[('도서관', 'Noun'), ('이', 'Josa'), ('너무', 'Adverb'), ('작아요', 'Adjective'), ('ㅠ', 'KoreanParticle'), ('학교', 'Noun'), ('내', 'Noun'), ('에', 'Josa'), ('열람', 'Noun'), ('실', 'Noun'), ('이', 'Josa'), ('있긴', 'Adjective'), ('하지만', 'Conjunction'), ('도서관', 'Noun'), ('안', 'Noun'), ('에서도', 'Josa'), ('공부', 'Noun'), ('하고', 'Josa'), ('싶은데', 'Verb'), ('공간', 'Noun'), ('이', 'Josa'), ('거의', 'Noun'), ('없어서', 'Adjective'), ('불편해요', 'Adjective'), ('...', 'Punctuation')]\n",
            "도서관이 대학 자료의 보고로서 최신 자료 수집과 학문 연구를 위한 지원에 최선을 다해 주시길 부탁드립니다.\n",
            "[('도서관', 'Noun'), ('이', 'Josa'), ('대학', 'Noun'), ('자료', 'Noun'), ('의', 'Josa'), ('보고', 'Noun'), ('로서', 'Noun'), ('최신', 'Noun'), ('자료', 'Noun'), ('수집', 'Noun'), ('과', 'Josa'), ('학문', 'Noun'), ('연구', 'Noun'), ('를', 'Josa'), ('위', 'Noun'), ('한', 'Josa'), ('지원', 'Noun'), ('에', 'Josa'), ('최선', 'Noun'), ('을', 'Josa'), ('다해', 'Noun'), ('주시길', 'Verb'), ('부탁드립니다', 'Adjective'), ('.', 'Punctuation')]\n",
            "도서관이 좀 더 시설이 좋았으면 좋겠습니다\n",
            "[('도서관', 'Noun'), ('이', 'Josa'), ('좀', 'Noun'), ('더', 'Noun'), ('시설', 'Noun'), ('이', 'Josa'), ('좋았으면', 'Adjective'), ('좋겠습니다', 'Adjective')]\n",
            "독서를 왜 해야하는지, 독서의 필요성에 대한 특강을 들으면 독서실이용이 조금 더 활발해질 것 같다는 생각이 들어요~ 항상 수고해주셔서 감사합니다\n",
            "[('독서', 'Noun'), ('를', 'Josa'), ('왜', 'Noun'), ('해야하는지', 'Verb'), (',', 'Punctuation'), ('독서', 'Noun'), ('의', 'Josa'), ('필요성', 'Noun'), ('에', 'Josa'), ('대한', 'Noun'), ('특강', 'Noun'), ('을', 'Josa'), ('들으면', 'Verb'), ('독서실', 'Noun'), ('이', 'Determiner'), ('용이', 'Noun'), ('조금', 'Noun'), ('더', 'Noun'), ('활발해질', 'Verb'), ('것', 'Noun'), ('같다는', 'Adjective'), ('생각', 'Noun'), ('이', 'Josa'), ('들어요', 'Verb'), ('~', 'Punctuation'), ('항상', 'Noun'), ('수고', 'Noun'), ('해주셔서', 'Verb'), ('감사합니다', 'Verb')]\n",
            "새로운 건물로 다시 지었으면 좋겠다 시설이 초갓집도 아니고 시설이 미비하다\n",
            "[('새로운', 'Adjective'), ('건물', 'Noun'), ('로', 'Josa'), ('다시', 'Noun'), ('지었으면', 'Verb'), ('좋겠다', 'Adjective'), ('시설', 'Noun'), ('이', 'Josa'), ('초', 'Noun'), ('갓', 'Modifier'), ('집도', 'Noun'), ('아니고', 'Adjective'), ('시설', 'Noun'), ('이', 'Josa'), ('미비하다', 'Adjective')]\n",
            "설비\n",
            "[('설비', 'Noun')]\n",
            "시설 보수\n",
            "[('시설', 'Noun'), ('보수', 'Noun')]\n",
            "시설개선..\n",
            "[('시설', 'Noun'), ('개선', 'Noun'), ('..', 'Punctuation')]\n",
            "시설이 개선되었으면 좋겠습니다\n",
            "[('시설', 'Noun'), ('이', 'Josa'), ('개선', 'Noun'), ('되었으면', 'Verb'), ('좋겠습니다', 'Adjective')]\n",
            "시설이 너무 낙후되어있고, 스터디모임이나 공부하는 공간이 턱없이 부족하다.\n",
            "[('시설', 'Noun'), ('이', 'Josa'), ('너무', 'Adverb'), ('낙후', 'Noun'), ('되어있고', 'Verb'), (',', 'Punctuation'), ('스터디', 'Noun'), ('모임', 'Noun'), ('이나', 'Josa'), ('공부', 'Noun'), ('하는', 'Verb'), ('공간', 'Noun'), ('이', 'Josa'), ('턱', 'Noun'), ('없이', 'Adverb'), ('부족하다', 'Adjective'), ('.', 'Punctuation')]\n",
            "신간도서 자주 구비해주시기 바랍니다.\n",
            "[('신간', 'Noun'), ('도서', 'Noun'), ('자주', 'Noun'), ('구비', 'Noun'), ('해주시기', 'Verb'), ('바랍니다', 'Verb'), ('.', 'Punctuation')]\n",
            "신학기마다 새로운 책들을 학과별로 체크해서 구입해주시면 좋을듯 합니다.\n",
            "[('신', 'Modifier'), ('학기', 'Noun'), ('마다', 'Josa'), ('새로운', 'Adjective'), ('책', 'Noun'), ('들', 'Suffix'), ('을', 'Josa'), ('학과', 'Noun'), ('별로', 'Noun'), ('체크', 'Noun'), ('해서', 'Verb'), ('구입', 'Noun'), ('해주시면', 'Verb'), ('좋을듯', 'Adjective'), ('합니다', 'Verb'), ('.', 'Punctuation')]\n",
            "신학으로 설립되었기에 그와 관련된 서적은 타관보다 장서보유는 많아 유익한데 최신 양서가 부족한감이 든다.이에 대하여 참고해주시면 감사하겠고 우리 학생들 이용뿐만 아니라 동네 주민들에게도 계절따라. 시낭송들을 개최하여 독서공간으로 활짝 열린공간이 되었으면 하는 바랍입니다.\n",
            "[('신학', 'Noun'), ('으로', 'Josa'), ('설립', 'Noun'), ('되었기에', 'Verb'), ('그', 'Noun'), ('와', 'Josa'), ('관련', 'Noun'), ('된', 'Verb'), ('서적', 'Noun'), ('은', 'Josa'), ('타관', 'Noun'), ('보다', 'Josa'), ('장서', 'Noun'), ('보유', 'Noun'), ('는', 'Josa'), ('많아', 'Adjective'), ('유익한데', 'Adjective'), ('최신', 'Noun'), ('양서', 'Noun'), ('가', 'Josa'), ('부족한', 'Adjective'), ('감', 'Noun'), ('이', 'Josa'), ('든다', 'Verb'), ('.', 'Punctuation'), ('이', 'Noun'), ('에', 'Josa'), ('대하', 'Noun'), ('여', 'Josa'), ('참고', 'Noun'), ('해주시면', 'Verb'), ('감사하겠고', 'Verb'), ('우리', 'Noun'), ('학생', 'Noun'), ('들', 'Suffix'), ('이용', 'Noun'), ('뿐', 'Suffix'), ('만', 'Josa'), ('아니라', 'Adjective'), ('동네', 'Noun'), ('주민', 'Noun'), ('들', 'Suffix'), ('에게도', 'Josa'), ('계절', 'Noun'), ('따라', 'Verb'), ('.', 'Punctuation'), ('시', 'Modifier'), ('낭송', 'Noun'), ('들', 'Suffix'), ('을', 'Josa'), ('개최', 'Noun'), ('하여', 'Verb'), ('독서', 'Noun'), ('공간', 'Noun'), ('으로', 'Josa'), ('활짝', 'Noun'), ('열린', 'Verb'), ('공간', 'Noun'), ('이', 'Josa'), ('되었으면', 'Verb'), ('하는', 'Verb'), ('바랍', 'Verb'), ('입니다', 'Adjective'), ('.', 'Punctuation')]\n",
            "앞으로도 많은 발전을 기원합니다\n",
            "[('앞', 'Noun'), ('으로도', 'Josa'), ('많은', 'Adjective'), ('발전', 'Noun'), ('을', 'Josa'), ('기원', 'Noun'), ('합니다', 'Verb')]\n",
            "없다.\n",
            "[('없다', 'Adjective'), ('.', 'Punctuation')]\n",
            "열람실부분 타 대학들처럼 개선되었으면 좋겠습니다.\n",
            "[('열람', 'Noun'), ('실', 'Noun'), ('부분', 'Noun'), ('타', 'Noun'), ('대학', 'Noun'), ('들', 'Suffix'), ('처럼', 'Josa'), ('개선', 'Noun'), ('되었으면', 'Verb'), ('좋겠습니다', 'Adjective'), ('.', 'Punctuation')]\n",
            "열람실에서 주로 공부하기 보단 도서관에서도 공부를 하러 갈 수 있는 환경조성과 홍보가 필요한 것 같다.\n",
            "[('열람', 'Noun'), ('실', 'Noun'), ('에서', 'Josa'), ('주로', 'Noun'), ('공부', 'Noun'), ('하기', 'Verb'), ('보단', 'Josa'), ('도서관', 'Noun'), ('에서도', 'Josa'), ('공부', 'Noun'), ('를', 'Josa'), ('하러', 'Verb'), ('갈', 'Verb'), ('수', 'Noun'), ('있는', 'Adjective'), ('환경', 'Noun'), ('조', 'Modifier'), ('성과', 'Noun'), ('홍보', 'Noun'), ('가', 'Josa'), ('필요한', 'Adjective'), ('것', 'Noun'), ('같다', 'Adjective'), ('.', 'Punctuation')]\n",
            "열람실이랑 도서관을 새로 지어주세요\n",
            "[('열람', 'Noun'), ('실', 'Noun'), ('이랑', 'Josa'), ('도서관', 'Noun'), ('을', 'Josa'), ('새로', 'Adjective'), ('지어주세요', 'Verb')]\n",
            "열람실처럼 개인학습 공간이 따로 마련되었으면 좋겠고 종교 서적이 아닌 베스트 셀러나 다른 분야의 도서도 마련되었으면 좋겠습니다\n",
            "[('열람', 'Noun'), ('실', 'Noun'), ('처럼', 'Josa'), ('개인', 'Noun'), ('학습', 'Noun'), ('공간', 'Noun'), ('이', 'Josa'), ('따로', 'Adverb'), ('마련', 'Noun'), ('되었으면', 'Verb'), ('좋겠고', 'Adjective'), ('종교', 'Noun'), ('서적', 'Noun'), ('이', 'Josa'), ('아닌', 'Adjective'), ('베스트', 'Noun'), ('셀러', 'Noun'), ('나', 'Josa'), ('다른', 'Noun'), ('분야', 'Noun'), ('의', 'Josa'), ('도서', 'Noun'), ('도', 'Josa'), ('마련', 'Noun'), ('되었으면', 'Verb'), ('좋겠습니다', 'Adjective')]\n",
            "오래된 자료보다 최신자료를 보다 이용하고싶습니다.\n",
            "[('오래된', 'Adjective'), ('자료', 'Noun'), ('보다', 'Josa'), ('최신', 'Noun'), ('자료', 'Noun'), ('를', 'Josa'), ('보다', 'Verb'), ('이용', 'Noun'), ('하고싶습니다', 'Verb'), ('.', 'Punctuation')]\n",
            "자격증 취득을 위한 최신도서들이 부족하다 특히나 세법같은 매년 개정되는 내용을 확인하고 찾아 공부해야하는데 최신개정이아닌 2005~2013 사이의 도서들만 있어 법관련책은 매년 최신개정으로 채웠으면 좋겠습니다\n",
            "[('자격증', 'Noun'), ('취득', 'Noun'), ('을', 'Josa'), ('위', 'Noun'), ('한', 'Josa'), ('최신', 'Noun'), ('도서', 'Noun'), ('들', 'Suffix'), ('이', 'Josa'), ('부족하다', 'Adjective'), ('특히', 'Adverb'), ('나', 'Noun'), ('세법', 'Noun'), ('같은', 'Adjective'), ('매년', 'Noun'), ('개정', 'Noun'), ('되는', 'Verb'), ('내용', 'Noun'), ('을', 'Josa'), ('확인', 'Noun'), ('하고', 'Josa'), ('찾아', 'Verb'), ('공부', 'Noun'), ('해야하는데', 'Verb'), ('최신', 'Noun'), ('개', 'Suffix'), ('정이', 'Noun'), ('아닌', 'Adjective'), ('2005~2013', 'Number'), ('사이', 'Noun'), ('의', 'Josa'), ('도서', 'Noun'), ('들', 'Suffix'), ('만', 'Josa'), ('있어', 'Adjective'), ('법', 'Noun'), ('관련', 'Noun'), ('책', 'Noun'), ('은', 'Josa'), ('매년', 'Noun'), ('최신', 'Noun'), ('개정', 'Noun'), ('으로', 'Josa'), ('채웠으면', 'Verb'), ('좋겠습니다', 'Adjective')]\n",
            "자료를 조금 더 보충해 주셨으면 합니다. 예로 신학 자료 같은 것들을 검색할 때 적잖게 고생을 했습니다.\n",
            "[('자료', 'Noun'), ('를', 'Josa'), ('조금', 'Noun'), ('더', 'Noun'), ('보충', 'Noun'), ('해', 'Verb'), ('주셨으면', 'Verb'), ('합니다', 'Verb'), ('.', 'Punctuation'), ('예', 'Noun'), ('로', 'Josa'), ('신학', 'Noun'), ('자료', 'Noun'), ('같은', 'Adjective'), ('것', 'Noun'), ('들', 'Suffix'), ('을', 'Josa'), ('검색', 'Noun'), ('할', 'Verb'), ('때', 'Noun'), ('적잖게', 'Verb'), ('고생', 'Noun'), ('을', 'Josa'), ('했습니다', 'Verb'), ('.', 'Punctuation')]\n",
            "잘 이용하고 있습니다.\n",
            "[('잘', 'Verb'), ('이용', 'Noun'), ('하고', 'Josa'), ('있습니다', 'Adjective'), ('.', 'Punctuation')]\n",
            "전반적으로 만족함.\n",
            "[('전반', 'Noun'), ('적', 'Suffix'), ('으로', 'Josa'), ('만족함', 'Adjective'), ('.', 'Punctuation')]\n",
            "전체적인 개혁이 필요하다고 생각합니다\n",
            "[('전체', 'Noun'), ('적', 'Suffix'), ('인', 'Josa'), ('개혁', 'Noun'), ('이', 'Josa'), ('필요하다고', 'Adjective'), ('생각', 'Noun'), ('합니다', 'Verb')]\n",
            "조금 더 공간이 넓었으면 좋겠습니다\n",
            "[('조금', 'Noun'), ('더', 'Noun'), ('공간', 'Noun'), ('이', 'Josa'), ('넓었으면', 'Adjective'), ('좋겠습니다', 'Adjective')]\n",
            "조금 더 공간이 넓었으면 좋겠습니다.\n",
            "[('조금', 'Noun'), ('더', 'Noun'), ('공간', 'Noun'), ('이', 'Josa'), ('넓었으면', 'Adjective'), ('좋겠습니다', 'Adjective'), ('.', 'Punctuation')]\n",
            "좀더 넓고 좋은 시설과 학습공간이 있었으면 좋겠다\n",
            "[('좀더', 'Noun'), ('넓고', 'Adjective'), ('좋은', 'Adjective'), ('시설', 'Noun'), ('과', 'Josa'), ('학습', 'Noun'), ('공간', 'Noun'), ('이', 'Josa'), ('있었으면', 'Adjective'), ('좋겠다', 'Adjective')]\n",
            "책 읽을 공간, 학습공간, 스터디룸 책을 좋아하는 학생들과 도서관 분위기에서 공부하려는 학생들이 생각보다 많습니다만 도서관에 그럴 만한 자리가 없다고 입소문으로 전해 듣고 흥미를 잃고는 합니다. 아늑한 아지트 같은 공간을 조성해 주신다면 시간 제한 없는 편안하고 안락한 무료 카페처럼 여겨 많이 이용할 것입니다. 쇼파 몇 개 가져다 두신다면 학생들이 끼리끼리 모여 푹신하게 책을 읽을 것이고 공간이 좁지만 테이블을 둔다면 공부도 할 것입니다. 사람은 환경이 만든다고 하니 도서관이 달라지면 학구적이고 교양 있는 학생들도 늘어날 것은 물론이고 도서관 이용률도 높아져 학교의 인지도에도 도움이 될 것이라고 생각합니다. 다른 학교들에 견학했을 때 가장부러웠던 것이 도서관이었습니다. 도서관은 흔히 말하 듯이 학교의 얼굴이자 제 2의 학교라고 생각합니다. 도서관을 많은 학생들이 찾는 공간으로 만들어 주세요. 감사합니다.\n",
            "[('책', 'Noun'), ('읽을', 'Verb'), ('공간', 'Noun'), (',', 'Punctuation'), ('학습', 'Noun'), ('공간', 'Noun'), (',', 'Punctuation'), ('스터디', 'Noun'), ('룸', 'Noun'), ('책', 'Noun'), ('을', 'Josa'), ('좋아하는', 'Adjective'), ('학생', 'Noun'), ('들', 'Suffix'), ('과', 'Josa'), ('도서관', 'Noun'), ('분위기', 'Noun'), ('에서', 'Josa'), ('공부', 'Noun'), ('하려는', 'Verb'), ('학생', 'Noun'), ('들', 'Suffix'), ('이', 'Josa'), ('생각', 'Noun'), ('보다', 'Josa'), ('많습니다만', 'Adjective'), ('도서관', 'Noun'), ('에', 'Josa'), ('그럴', 'Adjective'), ('만', 'Noun'), ('한', 'Josa'), ('자리', 'Noun'), ('가', 'Josa'), ('없다고', 'Adjective'), ('입', 'Noun'), ('소문', 'Noun'), ('으로', 'Josa'), ('전해', 'Noun'), ('듣고', 'Verb'), ('흥미', 'Noun'), ('를', 'Josa'), ('잃고는', 'Verb'), ('합니다', 'Verb'), ('.', 'Punctuation'), ('아늑한', 'Adjective'), ('아지트', 'Noun'), ('같은', 'Adjective'), ('공간', 'Noun'), ('을', 'Josa'), ('조성', 'Noun'), ('해', 'Verb'), ('주신다면', 'Verb'), ('시간', 'Noun'), ('제한', 'Noun'), ('없는', 'Adjective'), ('편안하고', 'Adjective'), ('안락한', 'Adjective'), ('무료', 'Noun'), ('카페', 'Noun'), ('처럼', 'Josa'), ('여겨', 'Verb'), ('많이', 'Adverb'), ('이용', 'Noun'), ('할', 'Verb'), ('것', 'Noun'), ('입니다', 'Adjective'), ('.', 'Punctuation'), ('쇼파', 'Noun'), ('몇', 'Noun'), ('개', 'Noun'), ('가져다', 'Verb'), ('두신다면', 'Verb'), ('학생', 'Noun'), ('들', 'Suffix'), ('이', 'Josa'), ('끼리끼리', 'Noun'), ('모여', 'Verb'), ('푹신하게', 'Adjective'), ('책', 'Noun'), ('을', 'Josa'), ('읽을', 'Verb'), ('것', 'Noun'), ('이고', 'Josa'), ('공간', 'Noun'), ('이', 'Josa'), ('좁지만', 'Adjective'), ('테이블', 'Noun'), ('을', 'Josa'), ('둔다면', 'Verb'), ('공부', 'Noun'), ('도', 'Josa'), ('할', 'Verb'), ('것', 'Noun'), ('입니다', 'Adjective'), ('.', 'Punctuation'), ('사람', 'Noun'), ('은', 'Josa'), ('환경', 'Noun'), ('이', 'Josa'), ('만든다고', 'Verb'), ('하니', 'Noun'), ('도서관', 'Noun'), ('이', 'Josa'), ('달라지면', 'Verb'), ('학구', 'Noun'), ('적', 'Suffix'), ('이고', 'Josa'), ('교양', 'Noun'), ('있는', 'Adjective'), ('학생', 'Noun'), ('들', 'Suffix'), ('도', 'Josa'), ('늘어날', 'Verb'), ('것', 'Noun'), ('은', 'Josa'), ('물론', 'Adverb'), ('이고', 'Josa'), ('도서관', 'Noun'), ('이용', 'Noun'), ('률', 'Noun'), ('도', 'Josa'), ('높아져', 'Verb'), ('학교', 'Noun'), ('의', 'Josa'), ('인지도', 'Noun'), ('에도', 'Josa'), ('도움', 'Noun'), ('이', 'Josa'), ('될', 'Verb'), ('것', 'Noun'), ('이라고', 'Josa'), ('생각', 'Noun'), ('합니다', 'Verb'), ('.', 'Punctuation'), ('다른', 'Noun'), ('학교', 'Noun'), ('들', 'Suffix'), ('에', 'Josa'), ('견학', 'Noun'), ('했을', 'Verb'), ('때', 'Noun'), ('가장', 'Noun'), ('부러웠던', 'Adjective'), ('것', 'Noun'), ('이', 'Josa'), ('도서관', 'Noun'), ('이었습니다', 'Verb'), ('.', 'Punctuation'), ('도서관', 'Noun'), ('은', 'Josa'), ('흔히', 'Adjective'), ('말', 'Noun'), ('하', 'Suffix'), ('듯이', 'Noun'), ('학교', 'Noun'), ('의', 'Josa'), ('얼굴', 'Noun'), ('이자', 'Noun'), ('제', 'Noun'), ('2', 'Number'), ('의', 'Noun'), ('학교', 'Noun'), ('라고', 'Josa'), ('생각', 'Noun'), ('합니다', 'Verb'), ('.', 'Punctuation'), ('도서관', 'Noun'), ('을', 'Josa'), ('많은', 'Adjective'), ('학생', 'Noun'), ('들', 'Suffix'), ('이', 'Josa'), ('찾는', 'Verb'), ('공간', 'Noun'), ('으로', 'Josa'), ('만들어', 'Verb'), ('주세요', 'Verb'), ('.', 'Punctuation'), ('감사합니다', 'Verb'), ('.', 'Punctuation')]\n",
            "책도 많아지고 책이 분류 별로 확실하게 정리되었으면 좋겠습니다 그리고 공부할수있는 공간도 따로 만들어서 책상과 의자도 많아 졌으면 좋겠습니다 정말 좋은 도서관 환경에서 공부하고 싶습니다 다른대학교처럼 도서관이 커졌으면 좋겠습니다\n",
            "[('책', 'Noun'), ('도', 'Josa'), ('많아지고', 'Verb'), ('책', 'Noun'), ('이', 'Josa'), ('분류', 'Noun'), ('별로', 'Noun'), ('확실하게', 'Adjective'), ('정리', 'Noun'), ('되었으면', 'Verb'), ('좋겠습니다', 'Adjective'), ('그리고', 'Conjunction'), ('공부', 'Noun'), ('할수있는', 'Verb'), ('공간', 'Noun'), ('도', 'Josa'), ('따로', 'Adverb'), ('만들어서', 'Verb'), ('책상', 'Noun'), ('과', 'Josa'), ('의자', 'Noun'), ('도', 'Josa'), ('많아', 'Adjective'), ('졌으면', 'Verb'), ('좋겠습니다', 'Adjective'), ('정말', 'Noun'), ('좋은', 'Adjective'), ('도서관', 'Noun'), ('환경', 'Noun'), ('에서', 'Josa'), ('공부', 'Noun'), ('하고', 'Josa'), ('싶습니다', 'Verb'), ('다른', 'Modifier'), ('대학교', 'Noun'), ('처럼', 'Josa'), ('도서관', 'Noun'), ('이', 'Josa'), ('커졌으면', 'Verb'), ('좋겠습니다', 'Adjective')]\n",
            "최신 자료가 많이 부족합니다\n",
            "[('최신', 'Noun'), ('자료', 'Noun'), ('가', 'Josa'), ('많이', 'Adverb'), ('부족합니다', 'Adjective')]\n",
            "최신도서 배치 및 건물 신축\n",
            "[('최신', 'Noun'), ('도서', 'Noun'), ('배치', 'Noun'), ('및', 'Noun'), ('건물', 'Noun'), ('신축', 'Noun')]\n",
            "출입구의인식기가사용이어렵습니다(인식이잘안되는것같음)\n",
            "[('출입구', 'Noun'), ('의인', 'Noun'), ('식기', 'Noun'), ('가', 'Josa'), ('사용', 'Noun'), ('이', 'Josa'), ('어렵습니다', 'Adjective'), ('(', 'Punctuation'), ('인식', 'Noun'), ('이', 'Josa'), ('잘', 'VerbPrefix'), ('안되는것', 'Adjective'), ('같음', 'Adjective'), (')', 'Punctuation')]\n",
            "충분히 만족스러워요\n",
            "[('충분히', 'Adjective'), ('만족스러워요', 'Adjective')]\n",
            "학교 전공이나 교양 관련 서적 증가\n",
            "[('학교', 'Noun'), ('전공', 'Noun'), ('이나', 'Josa'), ('교양', 'Noun'), ('관련', 'Noun'), ('서적', 'Noun'), ('증가', 'Noun')]\n",
            "학생들이 공부하기 편한 환경 / 제대로 된 도서들 제공했으면좋겠다\n",
            "[('학생', 'Noun'), ('들', 'Suffix'), ('이', 'Josa'), ('공부', 'Noun'), ('하기', 'Verb'), ('편한', 'Adjective'), ('환경', 'Noun'), ('/', 'Punctuation'), ('제대로', 'Noun'), ('된', 'Verb'), ('도서', 'Noun'), ('들', 'Suffix'), ('제공', 'Noun'), ('했으면', 'Verb'), ('좋겠다', 'Adjective')]\n",
            "해당 학기에 쓰는 전공책 등을 구비하고, 그 외에도 최신 도서들이 들어왔으면 좋겠다\n",
            "[('해당', 'Noun'), ('학기', 'Noun'), ('에', 'Josa'), ('쓰는', 'Verb'), ('전', 'Modifier'), ('공책', 'Noun'), ('등', 'Noun'), ('을', 'Josa'), ('구비', 'Noun'), ('하고', 'Josa'), (',', 'Punctuation'), ('그', 'Noun'), ('외', 'Noun'), ('에도', 'Josa'), ('최신', 'Noun'), ('도서', 'Noun'), ('들', 'Suffix'), ('이', 'Josa'), ('들어왔으면', 'Verb'), ('좋겠다', 'Adjective')]\n"
          ]
        }
      ]
    },
    {
      "cell_type": "markdown",
      "source": [
        "4. 명사만 추출"
      ],
      "metadata": {
        "id": "8s3lMAZNKFYX"
      }
    },
    {
      "cell_type": "code",
      "source": [
        "noun_list = []\n",
        "\n",
        "for sentence in sentences_tag:\n",
        "  #print(sentence)\n",
        "  for word, tag in sentence:\n",
        "    #print(word ,tag)\n",
        "    if tag =='Noun':\n",
        "      noun_list.append(word)\n",
        "      #break\n",
        "  #print(noun_list)\n",
        "  #break\n",
        "\n",
        "\n",
        "\n"
      ],
      "metadata": {
        "id": "LRVjjQhKKEtv"
      },
      "execution_count": 15,
      "outputs": []
    },
    {
      "cell_type": "code",
      "source": [
        "print(noun_list)"
      ],
      "metadata": {
        "colab": {
          "base_uri": "https://localhost:8080/"
        },
        "id": "F1rQogS4LTV2",
        "outputId": "f14a5389-0515-494d-8528-f479eed06c56"
      },
      "execution_count": 16,
      "outputs": [
        {
          "output_type": "stream",
          "name": "stdout",
          "text": [
            "['학기', '때', '책', '먼지', '책상', '먼지', '대학교', '도서관', '재건축', '개인', '스터디', '공간', '필요', '건물', '재건축', '및', '교체', '내부', '리', '모델링', '공부', '수', '시설', '개선', '공부', '공간', '마련', '공간', '책', '꽉', '차서', '책', '믾', '건', '수', '눈', '공간', '듯', '보통', '다른', '대학', '모든', '학생', '공부', '수', '저희', '고등학교', '저희', '학교', '자부심', '논문', '열람', '사이트', '를', '학교', '계해', '학생', '이용', '수', '또한', '도서관', '독서실', '등', '시설', '더', '변경', '제발', '대출', '불가', '도서', '대여', '복사기', '대여', '복사', '돈', '복사', '대학원', '전공', '관련', '국내외', '참고도서', '구비', '더', '도서관', '도서관', '층', '컴퓨터', '공간', '외', '다른', '공간', '공기', '조금', '기침', '정도', '먼지털이', '걸레', '한번', '청소', '공기청정기', '설치', '도서관', '건물', '시설', '개설', '도서관', '리', '모델링', '낙후', '도서관', '책장', '도서관', '공간', '경우', '사람', '힘', '생각', '점', '우리', '학교', '도서관', '매우', '우리', '학교', '도서관', '점', '신청', '도서', '전부', '주문', '점', '개인', '부분', '알', '학생', '것', '위', '개인', '학습', '공간', '그룹', '학습', '공간', '제공', '항목', '말', '공간', '책', '먼지', '냄새', '여름철', '에어컨', '컴퓨터', '사용', '공간', '를', '제외', '아주', '것', '뿐', '여름', '정말', '책', '환경', '아예', '겨울', '마찬가지', '난방', '하나', '공부', '발', '워', '수가', '우리', '학교', '도서관', '가장', '문제점', '사실', '서비스', '시설', '여름', '겨울철', '냉', '난방', '터', '무니', '수준', '학습', '공간', '하나', '공간', '또한', '먼지', '냄새', '것', '부분', '해결', '것', '관건', '생각', '저', '도서관', '이용', '편', '말', '이용', '해도', '애정', '환경', '홍보', '부분', '도서관', '이용', '률', '평생', '것', '아주', '확신', '이용', '해도', '수가', '도서관', '규모', '비', '해직', '원수', '직원', '명', '근로', '생', '대출', '납정', '리다', '도서', '관리', '모델링', '필요', '도서관', '간호학', '전공', '공부', '수', '자료', '뿐', '공부', '수', '공간', '도서관', '대한', '홍보', '조금', '더', '프로그램', '개발', '학생', '수', '거', '도서관', '위치', '내부', '중간', '책', '환경', '지금', '이상', '열람', '공부', '수', '테이블', '환경', '도서관', '저번', '때', '책', '것', '본적', '저희', '학교', '도서관', '다른', '도서관', '더', '낫다', '생각', '도서관', '겨울', '층', '경우', '밖', '담배', '애', '때문', '전반', '환경', '개선', '교재', '과제', '도서', '경우', '조금', '더', '비치', '프린트', '자주', '종이', '도서관', '학교', '내', '열람', '실', '도서관', '안', '공부', '공간', '거의', '도서관', '대학', '자료', '보고', '로서', '최신', '자료', '수집', '학문', '연구', '위', '지원', '최선', '다해', '도서관', '좀', '더', '시설', '독서', '왜', '독서', '필요성', '대한', '특강', '독서실', '용이', '조금', '더', '것', '생각', '항상', '수고', '건물', '다시', '시설', '초', '집도', '시설', '설비', '시설', '보수', '시설', '개선', '시설', '개선', '시설', '낙후', '스터디', '모임', '공부', '공간', '턱', '신간', '도서', '자주', '구비', '학기', '책', '학과', '별로', '체크', '구입', '신학', '설립', '그', '관련', '서적', '타관', '장서', '보유', '최신', '양서', '감', '이', '대하', '참고', '우리', '학생', '이용', '동네', '주민', '계절', '낭송', '개최', '독서', '공간', '활짝', '공간', '앞', '발전', '기원', '열람', '실', '부분', '타', '대학', '개선', '열람', '실', '주로', '공부', '도서관', '공부', '수', '환경', '성과', '홍보', '것', '열람', '실', '도서관', '열람', '실', '개인', '학습', '공간', '마련', '종교', '서적', '베스트', '셀러', '다른', '분야', '도서', '마련', '자료', '최신', '자료', '이용', '자격증', '취득', '위', '최신', '도서', '나', '세법', '매년', '개정', '내용', '확인', '공부', '최신', '정이', '사이', '도서', '법', '관련', '책', '매년', '최신', '개정', '자료', '조금', '더', '보충', '예', '신학', '자료', '것', '검색', '때', '고생', '이용', '전반', '전체', '개혁', '생각', '조금', '더', '공간', '조금', '더', '공간', '좀더', '시설', '학습', '공간', '책', '공간', '학습', '공간', '스터디', '룸', '책', '학생', '도서관', '분위기', '공부', '학생', '생각', '도서관', '만', '자리', '입', '소문', '전해', '흥미', '아지트', '공간', '조성', '시간', '제한', '무료', '카페', '이용', '것', '쇼파', '몇', '개', '학생', '끼리끼리', '책', '것', '공간', '테이블', '공부', '것', '사람', '환경', '하니', '도서관', '학구', '교양', '학생', '것', '도서관', '이용', '률', '학교', '인지도', '도움', '것', '생각', '다른', '학교', '견학', '때', '가장', '것', '도서관', '도서관', '말', '듯이', '학교', '얼굴', '이자', '제', '의', '학교', '생각', '도서관', '학생', '공간', '책', '책', '분류', '별로', '정리', '공부', '공간', '책상', '의자', '정말', '도서관', '환경', '공부', '대학교', '도서관', '최신', '자료', '최신', '도서', '배치', '및', '건물', '신축', '출입구', '의인', '식기', '사용', '인식', '학교', '전공', '교양', '관련', '서적', '증가', '학생', '공부', '환경', '제대로', '도서', '제공', '해당', '학기', '공책', '등', '구비', '그', '외', '최신', '도서']\n"
          ]
        }
      ]
    },
    {
      "cell_type": "markdown",
      "source": [
        "5) 명사가 두 문자 이상만 추출"
      ],
      "metadata": {
        "id": "GdZDwCItLfC-"
      }
    },
    {
      "cell_type": "code",
      "source": [
        "len(noun_list)\n",
        "\n",
        "noun_list=[n for n in noun_list if len(n)>1]\n",
        "print(len(noun_list))\n",
        "print(noun_list[:10])"
      ],
      "metadata": {
        "colab": {
          "base_uri": "https://localhost:8080/"
        },
        "id": "QXMSHgbcLjtu",
        "outputId": "276223c0-d405-4d78-e8ea-110ed3f52892"
      },
      "execution_count": 17,
      "outputs": [
        {
          "output_type": "stream",
          "name": "stdout",
          "text": [
            "494\n",
            "['학기', '먼지', '책상', '먼지', '대학교', '도서관', '재건축', '개인', '스터디', '공간']\n"
          ]
        }
      ]
    },
    {
      "cell_type": "markdown",
      "source": [
        "6. 단어카운트"
      ],
      "metadata": {
        "id": "AHnRnzgcMI0U"
      }
    },
    {
      "cell_type": "code",
      "source": [
        "counts = Counter(noun_list)\n",
        "tags = counts.most_common(30)  # 30개만 가져옴\n",
        "print(len(tags))\n",
        "print(tags)"
      ],
      "metadata": {
        "colab": {
          "base_uri": "https://localhost:8080/"
        },
        "id": "-04e-X-ZMIQ9",
        "outputId": "d6693b14-4eec-4c0c-856a-ecb3c7511882"
      },
      "execution_count": 18,
      "outputs": [
        {
          "output_type": "stream",
          "name": "stdout",
          "text": [
            "30\n",
            "[('도서관', 36), ('공간', 28), ('공부', 17), ('시설', 12), ('학교', 12), ('학생', 11), ('도서', 11), ('이용', 10), ('환경', 9), ('최신', 9), ('생각', 8), ('자료', 8), ('열람', 7), ('조금', 7), ('학습', 6), ('개선', 5), ('다른', 5), ('먼지', 4), ('개인', 4), ('건물', 4), ('관련', 4), ('우리', 4), ('부분', 4), ('학기', 3), ('스터디', 3), ('모델링', 3), ('마련', 3), ('대학', 3), ('저희', 3), ('전공', 3)]\n"
          ]
        }
      ]
    },
    {
      "cell_type": "markdown",
      "source": [
        "7. wordcloud 생성"
      ],
      "metadata": {
        "id": "QpQKuFTCMp3W"
      }
    },
    {
      "cell_type": "code",
      "source": [
        "wordcloud = WordCloud(font_path='NanumBarunGothic',background_color='white',width=800,height=600)\n",
        "cloud = wordcloud.generate_from_frequencies(dict(tags))\n",
        "plt.figure(figsize=(10,8))\n",
        "plt.axis('off')\n",
        "plt.imshow(cloud)\n",
        "plt.show()"
      ],
      "metadata": {
        "colab": {
          "base_uri": "https://localhost:8080/",
          "height": 618
        },
        "id": "rs1zMnwQLccW",
        "outputId": "e94c8f89-14fa-40c8-a086-1ff21b87c517"
      },
      "execution_count": 21,
      "outputs": [
        {
          "output_type": "display_data",
          "data": {
            "text/plain": [
              "<Figure size 1000x800 with 1 Axes>"
            ],
            "image/png": "[encoded data removed]"
          },
          "metadata": {}
        }
      ]
    }
  ]
}