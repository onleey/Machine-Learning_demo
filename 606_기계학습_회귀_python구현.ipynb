{
  "nbformat": 4,
  "nbformat_minor": 0,
  "metadata": {
    "colab": {
      "provenance": [],
      "authorship_tag": "ABX9TyMAgAZv/sztqM+7wPawE2SD",
      "include_colab_link": true
    },
    "kernelspec": {
      "name": "python3",
      "display_name": "Python 3"
    },
    "language_info": {
      "name": "python"
    }
  },
  "cells": [
    {
      "cell_type": "markdown",
      "metadata": {
        "id": "view-in-github",
        "colab_type": "text"
      },
      "source": [
        "<a href=\"https://colab.research.google.com/github/onleey/Machine-Learning_demo/blob/master/606_%EA%B8%B0%EA%B3%84%ED%95%99%EC%8A%B5_%ED%9A%8C%EA%B7%80_python%EA%B5%AC%ED%98%84.ipynb\" target=\"_parent\"><img src=\"https://colab.research.google.com/assets/colab-badge.svg\" alt=\"Open In Colab\"/></a>"
      ]
    },
    {
      "cell_type": "code",
      "execution_count": 3,
      "metadata": {
        "colab": {
          "base_uri": "https://localhost:8080/"
        },
        "id": "I8BogzDZrOAI",
        "outputId": "fcf26a1b-fdcf-48fb-dcf0-33bac9dce40f"
      },
      "outputs": [
        {
          "output_type": "stream",
          "name": "stdout",
          "text": [
            "Mounted at /content/drive\n",
            "/content/drive/MyDrive/001\n"
          ]
        }
      ],
      "source": [
        "from google.colab import drive\n",
        "drive.mount('/content/drive')\n",
        "\n",
        "%cd '/content/drive/MyDrive/001'"
      ]
    },
    {
      "cell_type": "markdown",
      "source": [
        "### 회귀(Regression)\n",
        " - 데이터 값이 평균과 같은 일정한 값으로 돌아가려는 경향을 이용한 통계학 기법이다.\n",
        " - 독립변수와 종속변수 간의 상관관계를 모델링하는 기법이다.\n",
        " - 1개의 독립변수 : 단일회귀(선형 단위회귀), 여러개의 독립변수 : 다중회귀 (비선형 회귀)\n",
        "\n",
        "### 회귀의 어원###\n",
        " 유전학자 프란시스 골턴은 유전의 법칙에 연구하다 회귀의 법칙을 발견하였다. 그는 아들의 키를 아버지의 키와 비교할 경우, 아버지의 키가 아무리 크다고 할지라도 아들의 키는 모집단(아들세대)의 평균으로 접근하려는 경향을 발견했다. 즉, 키가 큰 아버지는 자신보다 키가 좀 더 작은 아들을 가지며, 키가 작은 아버지는 자신보다 키가 좀 거 큰 아들을 갖는 경향을 발견했다. 골턴은 이러한 현상을 평균으로 회귀(regression toward mean)라고 했다.\n",
        "이처럼 회귀분석의 회귀란 평균으로 되돌아 간다는 의미이다."
      ],
      "metadata": {
        "id": "am7gJ9_mr0Nd"
      }
    },
    {
      "cell_type": "markdown",
      "source": [
        "1. 데이터 정의"
      ],
      "metadata": {
        "id": "q0VrO0A0sXjB"
      }
    },
    {
      "cell_type": "code",
      "source": [
        "import numpy as np\n",
        "import matplotlib.pyplot as plt\n",
        "import pandas as pd\n",
        "import seaborn as sns"
      ],
      "metadata": {
        "id": "s4RrnGXKr2WF"
      },
      "execution_count": 10,
      "outputs": []
    },
    {
      "cell_type": "code",
      "source": [
        "X = np.array ([1,2,3,4,5]) .reshape(-1,1)\n",
        "y = np.array ([3,5,7,9,11]). reshape(-1,1)\n",
        "\n",
        "print(X.shape)\n",
        "print(y.shape)\n",
        "\n",
        "plt.scatter(X,y)\n",
        "\n",
        "pd_X = pd.DataFrame(X, columns=['X'])\n",
        "pd_y = pd.DataFrame (y,columns=['y'])\n",
        "pd_df = pd.concat([pd_X, pd_y ], axis = 1)\n",
        "\n",
        "sns.regplot(data = pd_df, x='X', y='y',line_kws= {'color':'red'}, scatter_kws={'color':'blue'})\n",
        "\n",
        "plt.show()"
      ],
      "metadata": {
        "colab": {
          "base_uri": "https://localhost:8080/",
          "height": 486
        },
        "id": "4dNYzhy-sm8q",
        "outputId": "93b3cc94-8635-4d1e-91a2-e36051ba98e6"
      },
      "execution_count": 18,
      "outputs": [
        {
          "output_type": "stream",
          "name": "stdout",
          "text": [
            "(5, 1)\n",
            "(5, 1)\n"
          ]
        },
        {
          "output_type": "display_data",
          "data": {
            "text/plain": [
              "<Figure size 640x480 with 1 Axes>"
            ],
            "image/png": "[encoded data removed]"
          },
          "metadata": {}
        }
      ]
    },
    {
      "cell_type": "markdown",
      "source": [
        "- 가설함수(Hypothesis)  \n",
        "  H(x)=  Wx + b\n",
        "\n",
        "\n",
        "- 오차함수  loss(W,B) 의 정의  \n",
        "$loss(W,B) = L(g(W,B)) = MSE = \\frac{1}{n}\\sum_{i=1}^{n} (Y_i-\\hat{Y_i})^2$\n",
        "\n",
        "- 오차 함수의 W, b에 대한 도함수 (편미분)\n",
        "  - 제곱오차(SE)   \n",
        "$f = (y - \\hat{y})^2$\n",
        "  - 가중치:weight(기계학습) = 회귀계수:coefficient(통계)       \n",
        "$\\frac{df}{dW} =  \\frac{d}{dW}  \\frac{1}{2}(y - \\hat{y})^2 =   -X * (y - \\hat{y})$    \n",
        "  - 편향:bias(기계학습) = 절편:intercept(통계)       \n",
        "$\\frac{df}{db} = \\frac{d}{db}  \\frac{1}{2}(y - \\hat{y})^2 =   - (y - \\hat{y})$\n",
        "\n",
        "- 경사하강법(gradient descent) 적용  \n",
        "  - 가중치 업데이트  \n",
        "$W = W - \\alpha(\\frac{df}{dW})$\n",
        "  - 절편 업데이트   \n",
        "$b = b - \\alpha(\\frac{df}{db})$)\n"
      ],
      "metadata": {
        "id": "C5E-dA-4uelp"
      }
    },
    {
      "cell_type": "markdown",
      "source": [
        "단순 선형회귀"
      ],
      "metadata": {
        "id": "2alXsPv7vPY1"
      }
    },
    {
      "cell_type": "code",
      "source": [
        "# 학습율\n",
        "\n",
        "learning_rate = 0.01\n",
        "\n",
        "X = np.array ([1,2,3,4,5]).reshape (-1,1)\n",
        "y = np.array ([3,5,7,9,11]).reshape (-1,1)\n",
        "\n",
        "print(X.shape)\n",
        "print(y.shape)\n",
        "\n",
        "W= np.zeros((1,1))\n",
        "b = np.zeros ((1,1))\n",
        "print(W.shape)\n",
        "print(b.shape)\n",
        "\n",
        "def liner_forward(X,y,W,b):\n",
        "  y_pred = np.dot(X,W.T) + b   #(5,1)(1)\n",
        "  cost = np.sum(np.square(y - y_pred))/len(y)\n",
        "  return y_pred, cost\n",
        "\n",
        "\n",
        "y_pred, cost = liner_forward (X,y,W,b)\n",
        "print('======학습전(before)======')\n",
        "print('W:{}, b:{},cost:{}'.format(W, b, cost))\n",
        "\n",
        "\n",
        "def loss_gradient(X,y,W,b):\n",
        "\n",
        "    #가설함수 (hypersis function) : y예측값을 구하는 식\n",
        "    #y_pred = WX+b\n",
        "\n",
        "    y_pred = np.dot(X,W) + b\n",
        "    #print(y_pred)\n",
        "    #print('W.shape:{} b.shape:{}'.format(W.shape, b.shape))\n",
        "\n",
        "    # W : -x(y = y_pred), b:-1(y-y_pred)\n",
        "\n",
        "    # 오차 (Error)\n",
        "    #error = y -y_pred\n",
        "\n",
        "\n",
        "    b_factors = np.ones((len(y),1))\n",
        "    #편미분\n",
        "    de_W = -1 * np.dot(X.T, y - y_pred)\n",
        "\n",
        "    #de_b = -1 * np.dot (b_factors.T, y - y_pred)\n",
        "    de_b = np.sum(y - y_pred, axis = 0)\n",
        "\n",
        "    de_W = (1/len(y)) * de_W\n",
        "    de_b = (1/len(y)) * de_b\n",
        "\n",
        "    return de_W, de_b\n",
        "\n",
        "for i in range(1000):\n",
        "    de_W, de_b = loss_gradient (X,y,W,b)\n",
        "\n",
        "    #경사하강법 적용\n",
        "\n",
        "    W = W - learning_rate * de_W\n",
        "    b = b - learning_rate * de_b\n",
        "\n",
        "y_pred, cost = liner_forward (X,y,W,b)\n",
        "print('=====학습 후 =====')\n",
        "print('W:{}, b:{},cost:{}'.format(W, b, cost))\n",
        "\n",
        "\n",
        "\n",
        "\n",
        "\n",
        "\n"
      ],
      "metadata": {
        "colab": {
          "base_uri": "https://localhost:8080/"
        },
        "id": "huIXCo2wueUj",
        "outputId": "dcf34c4f-238b-41b9-9285-301424ad941f"
      },
      "execution_count": 65,
      "outputs": [
        {
          "output_type": "stream",
          "name": "stdout",
          "text": [
            "(5, 1)\n",
            "(5, 1)\n",
            "(1, 1)\n",
            "(1, 1)\n",
            "======학습전(before)======\n",
            "W:[[0.]], b:[[0.]],cost:57.0\n",
            "=====학습 후 =====\n",
            "W:[[5.14641938]], b:[[-10.742597]],cost:25.10527972130425\n"
          ]
        }
      ]
    },
    {
      "cell_type": "code",
      "source": [
        "weights = np.arange(0,5, 0.2)\n",
        "print(weights)\n",
        "\n",
        "loss_array=[]\n",
        "for weight in weights:\n",
        "  _, loss = liner_forward(X, y, weight, b)\n",
        "  loss_array.append(loss)\n",
        "\n",
        "print(loss_array)\n",
        "\n",
        "fig = plt.figure()\n",
        "ax = plt.axes(xlim =(0,5))\n",
        "ax.plot(weights, loss_array)\n",
        "ax.set_xlabel('weight')\n",
        "ax.set_ylabel('loss')\n",
        "plt.show()"
      ],
      "metadata": {
        "colab": {
          "base_uri": "https://localhost:8080/",
          "height": 524
        },
        "id": "GD2-8Qcc69N_",
        "outputId": "45b7628d-cd6b-4c28-8b01-e7d27942f86d"
      },
      "execution_count": 66,
      "outputs": [
        {
          "output_type": "stream",
          "name": "stdout",
          "text": [
            "[0.  0.2 0.4 0.6 0.8 1.  1.2 1.4 1.6 1.8 2.  2.2 2.4 2.6 2.8 3.  3.2 3.4\n",
            " 3.6 3.8 4.  4.2 4.4 4.6 4.8]\n",
            "[322.7997482345469, 300.3486318369093, 278.7775154392719, 258.08639904163437, 238.2752826439969, 219.34416624635946, 201.29304984872198, 184.12193345108446, 167.83081705344702, 152.41970065580952, 137.88858425817205, 124.23746786053457, 111.4663514628971, 99.5752350652596, 88.56411866762214, 78.43300226998467, 69.18188587234718, 60.81076947470971, 53.319653077072246, 46.708536679434765, 40.977420281797286, 36.12630388415981, 32.15518748652234, 29.064071088884862, 26.85295469124739]\n"
          ]
        },
        {
          "output_type": "display_data",
          "data": {
            "text/plain": [
              "<Figure size 640x480 with 1 Axes>"
            ],
            "image/png": "[encoded data removed]"
          },
          "metadata": {}
        }
      ]
    },
    {
      "cell_type": "code",
      "source": [
        "def predict(test):\n",
        "  return W*test+b\n",
        "\n",
        "predict(7)"
      ],
      "metadata": {
        "colab": {
          "base_uri": "https://localhost:8080/"
        },
        "id": "md66lVFX820j",
        "outputId": "78de2375-4a9b-4fae-fbf9-4903fe9c52f3"
      },
      "execution_count": 67,
      "outputs": [
        {
          "output_type": "execute_result",
          "data": {
            "text/plain": [
              "array([[25.28233868]])"
            ]
          },
          "metadata": {},
          "execution_count": 67
        }
      ]
    },
    {
      "cell_type": "markdown",
      "source": [],
      "metadata": {
        "id": "o1eaxlxoBngC"
      }
    },
    {
      "cell_type": "code",
      "source": [
        "import numpy as np\n",
        "import matplotlib.pyplot as plt\n",
        "from matplotlib.animation import FuncAnimation\n",
        "import matplotlib.animation as animation\n",
        "\n",
        "\n",
        "# 학습율\n",
        "learning_rate = 0.01\n",
        "\n",
        "\n",
        "X = np.array([[2,4,6,8,10],[0,4,2,3,4]]).T\n",
        "y = np.array([81,93,91,97,98]).reshape(-1,1)\n",
        "\n",
        "\n",
        "print('X.shape:', X.shape)  # 5행 2열\n",
        "print('y.shape:', y.shape)  # 5행 1열\n",
        "\n",
        "\n",
        "W = np.zeros((2,1)) # 기울기 0으로 초기화\n",
        "b = np.zeros((1,1)) # 절편 0으로 초기화\n",
        "print('W.shape: ', W.shape)\n",
        "print('b.shape: ', b.shape)\n",
        "\n",
        "\n",
        "\n",
        "\n",
        "def linear_forward(X, y, W, b) :\n",
        "   y_pred = sum(np.dot(X, W)) + b\n",
        "   cost = np.sum(np.square(y - y_pred))/len(y)\n",
        "   return y_pred, cost\n",
        "\n",
        "\n",
        "\n",
        "\n",
        "def loss_gradient(X, y, W, b, l1=0.2, l2=0.7):\n",
        "   # 가설함수(hypersis function)  : y예측값을 구하는 식\n",
        "   y_pred = np.dot(X, W) + b\n",
        "   #print('W.shape: ', W.shape, '    b.shape: ', b.shape)\n",
        "\n",
        "   # 오차(Error)\n",
        "   #error = y - y_pred\n",
        "\n",
        "\n",
        "   # 편미분\n",
        "   #de_W = (1/len(y)) *sum((y - y_pred) * X)\n",
        "   #de_b = (1/len(y)) *sum(y - y_pred)\n",
        "\n",
        "\n",
        "   de_W = np.dot(X.T, y - y_pred)     # -X * ( y - y_pred)\n",
        "   de_b = np.sum (y - y_pred, axis=0) # -(y - y_pred)\n",
        "\n",
        "\n",
        "   # l1, l2 (랏소, 릿지) 규제적용\n",
        "   de_W = (1/len(y)) * de_W + l1*np.sign(W) + l2*W\n",
        "   de_b = (1/len(y)) * de_b\n",
        "\n",
        "\n",
        "\n",
        "\n",
        "   return de_W, de_b\n",
        "\n",
        "\n",
        "\n",
        "train_W = []\n",
        "for i in range(1000) :\n",
        "   de_dW, de_db = loss_gradient(X, y, W, b)\n",
        "\n",
        "\n",
        "   #경사하강법 적용\n",
        "   W = W - (-1) * learning_rate * de_dW\n",
        "   b = b - (-1) * learning_rate * de_db\n",
        "\n",
        "\n",
        "   train_W.append(W)\n",
        "\n",
        "\n",
        "\n",
        "\n",
        "# loss_weight그래프\n",
        "weights = np.arange(-2, 5, 0.2)\n",
        "\n",
        "\n",
        "loss_array = []\n",
        "for weight in weights :\n",
        "    _, loss = linear_forward (X, y, weight, b)\n",
        "    loss_array.append(loss)\n",
        "\n",
        "\n",
        "fig = plt.figure()\n",
        "ax = plt.axes(xlim=(-2, 5))\n",
        "ax.plot(weights, loss_array)\n",
        "ax.set_xlabel('weight')\n",
        "ax.set_ylabel('loss')\n",
        "#plt.show()\n",
        "\n",
        "\n",
        "# 애니메이션 설정\n",
        "redDot,  = plt.plot([],[], 'ro')\n",
        "\n",
        "\n",
        "def animate(frame):\n",
        "  _, loss = linear_forward(X, y, frame, b)\n",
        "  redDot.set_data(frame, loss)\n",
        "  return redDot\n",
        "\n",
        "\n",
        "\n",
        "\n",
        "ani = FuncAnimation(fig, animate, frames=np.array(train_W))\n",
        "FFWriter = animation.FFMpegWriter(fps=1)\n",
        "ani.save('animation.mp4', writer = FFWriter)\n",
        "\n",
        "\n",
        "#print(loss_array)\n"
      ],
      "metadata": {
        "colab": {
          "base_uri": "https://localhost:8080/",
          "height": 580
        },
        "id": "nCRu6iSACED6",
        "outputId": "aa5e0968-b183-46e6-b94c-00218408850e"
      },
      "execution_count": 68,
      "outputs": [
        {
          "output_type": "stream",
          "name": "stdout",
          "text": [
            "X.shape: (5, 2)\n",
            "y.shape: (5, 1)\n",
            "W.shape:  (2, 1)\n",
            "b.shape:  (1, 1)\n"
          ]
        },
        {
          "output_type": "stream",
          "name": "stderr",
          "text": [
            "<ipython-input-68-6c85c535b0cb>:103: MatplotlibDeprecationWarning: Setting data with a non sequence type is deprecated since 3.7 and will be remove two minor releases later\n",
            "  redDot.set_data(frame, loss)\n"
          ]
        },
        {
          "output_type": "display_data",
          "data": {
            "text/plain": [
              "<Figure size 640x480 with 1 Axes>"
            ],
            "image/png": "[encoded data removed]"
          },
          "metadata": {}
        }
      ]
    }
  ]
}