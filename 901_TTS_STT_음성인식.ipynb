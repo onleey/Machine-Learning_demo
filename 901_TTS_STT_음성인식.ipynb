{
  "nbformat": 4,
  "nbformat_minor": 0,
  "metadata": {
    "colab": {
      "provenance": [],
      "include_colab_link": true
    },
    "kernelspec": {
      "name": "python3",
      "display_name": "Python 3"
    },
    "language_info": {
      "name": "python"
    }
  },
  "cells": [
    {
      "cell_type": "markdown",
      "metadata": {
        "id": "view-in-github",
        "colab_type": "text"
      },
      "source": [
        "<a href=\"https://colab.research.google.com/github/onleey/Machine-Learning_demo/blob/master/901_TTS_STT_%EC%9D%8C%EC%84%B1%EC%9D%B8%EC%8B%9D.ipynb\" target=\"_parent\"><img src=\"https://colab.research.google.com/assets/colab-badge.svg\" alt=\"Open In Colab\"/></a>"
      ]
    },
    {
      "cell_type": "markdown",
      "source": [
        "\n",
        "TTS(Text to Speech)    \n",
        "STT(Speech To Text)      \n",
        "\n",
        "\n",
        "\n",
        "<<휴대폰 마이크 이용하기>>  \n",
        "휴대폰에서 -> 설정 -> 휴대전화정보 (7번 클릭) -> 개발자 옵션이 보이면 클릭-> USB 디버깅 활성화\n",
        "\n",
        "https://reincubate.com/ko/camo/"
      ],
      "metadata": {
        "id": "btENjpADiDA8"
      }
    },
    {
      "cell_type": "code",
      "source": [
        "from google.colab import drive\n",
        "drive.mount('/content/drive')\n",
        "\n",
        "%cd /content/drive/MyDrive/001"
      ],
      "metadata": {
        "colab": {
          "base_uri": "https://localhost:8080/"
        },
        "id": "TqIyME15j_bL",
        "outputId": "ea5cdf18-afa8-4bd2-cdbb-62647e32e24e"
      },
      "execution_count": 3,
      "outputs": [
        {
          "output_type": "stream",
          "name": "stdout",
          "text": [
            "Mounted at /content/drive\n",
            "/content/drive/MyDrive/001\n"
          ]
        }
      ]
    },
    {
      "cell_type": "code",
      "execution_count": 4,
      "metadata": {
        "colab": {
          "base_uri": "https://localhost:8080/"
        },
        "id": "AfXm2l3_iCBg",
        "outputId": "faf9c955-035b-4f0e-8cbf-79876166f059"
      },
      "outputs": [
        {
          "output_type": "stream",
          "name": "stdout",
          "text": [
            "Collecting gTTS\n",
            "  Downloading gTTS-2.4.0-py3-none-any.whl (29 kB)\n",
            "Requirement already satisfied: requests<3,>=2.27 in /usr/local/lib/python3.10/dist-packages (from gTTS) (2.31.0)\n",
            "Requirement already satisfied: click<8.2,>=7.1 in /usr/local/lib/python3.10/dist-packages (from gTTS) (8.1.7)\n",
            "Requirement already satisfied: charset-normalizer<4,>=2 in /usr/local/lib/python3.10/dist-packages (from requests<3,>=2.27->gTTS) (3.3.2)\n",
            "Requirement already satisfied: idna<4,>=2.5 in /usr/local/lib/python3.10/dist-packages (from requests<3,>=2.27->gTTS) (3.6)\n",
            "Requirement already satisfied: urllib3<3,>=1.21.1 in /usr/local/lib/python3.10/dist-packages (from requests<3,>=2.27->gTTS) (2.0.7)\n",
            "Requirement already satisfied: certifi>=2017.4.17 in /usr/local/lib/python3.10/dist-packages (from requests<3,>=2.27->gTTS) (2023.11.17)\n",
            "Installing collected packages: gTTS\n",
            "Successfully installed gTTS-2.4.0\n"
          ]
        }
      ],
      "source": [
        "!pip install gTTS"
      ]
    },
    {
      "cell_type": "markdown",
      "source": [
        "### 영어문장"
      ],
      "metadata": {
        "id": "lVa9Mtjm-wAm"
      }
    },
    {
      "cell_type": "code",
      "source": [
        "from gtts import gTTS\n",
        "\n",
        "text = 'Can I help you'\n",
        "file_name = 'sample.mp3'\n",
        "tts_en = gTTS(text=text, lang='en')\n",
        "tts_en.save(file_name)\n",
        "\n",
        "\n",
        "#https://luvris2.tistory.com/123\n",
        "from IPython.display import Audio\n",
        "Audio(file_name,autoplay=True)\n"
      ],
      "metadata": {
        "colab": {
          "base_uri": "https://localhost:8080/",
          "height": 74
        },
        "id": "wy9Iws1Wjlmf",
        "outputId": "019836a2-b79b-4e17-e8f4-8b7c00a01e98"
      },
      "execution_count": 16,
      "outputs": [
        {
          "output_type": "execute_result",
          "data": {
            "text/plain": [
              "<IPython.lib.display.Audio object>"
            ],
            "text/html": [
              "\n",
              "                <audio  controls=\"controls\" autoplay=\"autoplay\">\n",
              "                    <source src=\"data:audio/mpeg;base64,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\" type=\"audio/mpeg\" />\n",
              "                    Your browser does not support the audio element.\n",
              "                </audio>\n",
              "              "
            ]
          },
          "metadata": {},
          "execution_count": 16
        }
      ]
    },
    {
      "cell_type": "markdown",
      "source": [
        "### 한글 문장"
      ],
      "metadata": {
        "id": "GBLAjcrG-5cZ"
      }
    },
    {
      "cell_type": "code",
      "source": [
        "from gtts import gTTS\n",
        "\n",
        "text = '안녕하세요. 반갑습니다. korea hello'\n",
        "file_name = 'sample.mp3'\n",
        "tts_en = gTTS(text=text, lang='ko')\n",
        "tts_en.save(file_name)\n",
        "\n",
        "\n",
        "#https://luvris2.tistory.com/123\n",
        "from IPython.display import Audio\n",
        "Audio(file_name,autoplay=True)"
      ],
      "metadata": {
        "id": "0CS4UnNTz-GS"
      },
      "execution_count": null,
      "outputs": []
    },
    {
      "cell_type": "code",
      "source": [
        "from gtts import gTTS\n",
        "\n",
        "with open('./source/sample.txt') as fp:\n",
        "  text = fp.read()\n",
        "\n",
        "file_name = 'sample.mp3'\n",
        "tts_en = gTTS(text=text, lang='ko')\n",
        "tts_en.save(file_name)\n",
        "\n",
        "\n",
        "#https://luvris2.tistory.com/123\n",
        "from IPython.display import Audio\n",
        "Audio(file_name,autoplay=True)"
      ],
      "metadata": {
        "id": "p3PDGpei_5d8"
      },
      "execution_count": null,
      "outputs": []
    },
    {
      "cell_type": "markdown",
      "source": [
        "## STT(Speech To Text)"
      ],
      "metadata": {
        "id": "iPUdaRqVAtPl"
      }
    },
    {
      "cell_type": "code",
      "source": [
        "!pip install SpeechRecognition"
      ],
      "metadata": {
        "colab": {
          "base_uri": "https://localhost:8080/"
        },
        "id": "_9ocERzWAob-",
        "outputId": "ac27962e-62bf-41ac-e56f-1be32f7e39e9"
      },
      "execution_count": 10,
      "outputs": [
        {
          "output_type": "stream",
          "name": "stdout",
          "text": [
            "Collecting SpeechRecognition\n",
            "  Downloading SpeechRecognition-3.10.1-py2.py3-none-any.whl (32.8 MB)\n",
            "\u001b[2K     \u001b[90m━━━━━━━━━━━━━━━━━━━━━━━━━━━━━━━━━━━━━━━━\u001b[0m \u001b[32m32.8/32.8 MB\u001b[0m \u001b[31m38.9 MB/s\u001b[0m eta \u001b[36m0:00:00\u001b[0m\n",
            "\u001b[?25hRequirement already satisfied: requests>=2.26.0 in /usr/local/lib/python3.10/dist-packages (from SpeechRecognition) (2.31.0)\n",
            "Requirement already satisfied: typing-extensions in /usr/local/lib/python3.10/dist-packages (from SpeechRecognition) (4.5.0)\n",
            "Requirement already satisfied: charset-normalizer<4,>=2 in /usr/local/lib/python3.10/dist-packages (from requests>=2.26.0->SpeechRecognition) (3.3.2)\n",
            "Requirement already satisfied: idna<4,>=2.5 in /usr/local/lib/python3.10/dist-packages (from requests>=2.26.0->SpeechRecognition) (3.6)\n",
            "Requirement already satisfied: urllib3<3,>=1.21.1 in /usr/local/lib/python3.10/dist-packages (from requests>=2.26.0->SpeechRecognition) (2.0.7)\n",
            "Requirement already satisfied: certifi>=2017.4.17 in /usr/local/lib/python3.10/dist-packages (from requests>=2.26.0->SpeechRecognition) (2023.11.17)\n",
            "Installing collected packages: SpeechRecognition\n",
            "Successfully installed SpeechRecognition-3.10.1\n"
          ]
        }
      ]
    },
    {
      "cell_type": "code",
      "source": [
        "# !pip install PyAudio 설치할때 아래와 같은 오류가  발생한다.\n",
        "#Could not build wheels for PyAudio, which is required to install pyproject.toml-based projects\n",
        "#https://stackoverflow.com/questions/66412902/cannot-install-pyaudio-in-google-colab\n",
        "\n",
        "!apt install libasound2-dev portaudio19-dev libportaudio2 libportaudiocpp0 ffmpeg"
      ],
      "metadata": {
        "colab": {
          "base_uri": "https://localhost:8080/"
        },
        "id": "DoXxjHj4CK8J",
        "outputId": "71711c41-ac79-455f-9094-7ba2906dad2c"
      },
      "execution_count": 11,
      "outputs": [
        {
          "output_type": "stream",
          "name": "stdout",
          "text": [
            "Reading package lists... Done\n",
            "Building dependency tree... Done\n",
            "Reading state information... Done\n",
            "libasound2-dev is already the newest version (1.2.6.1-1ubuntu1).\n",
            "ffmpeg is already the newest version (7:4.4.2-0ubuntu0.22.04.1).\n",
            "Suggested packages:\n",
            "  portaudio19-doc\n",
            "The following NEW packages will be installed:\n",
            "  libportaudio2 libportaudiocpp0 portaudio19-dev\n",
            "0 upgraded, 3 newly installed, 0 to remove and 16 not upgraded.\n",
            "Need to get 188 kB of archives.\n",
            "After this operation, 927 kB of additional disk space will be used.\n",
            "Get:1 http://archive.ubuntu.com/ubuntu jammy/universe amd64 libportaudio2 amd64 19.6.0-1.1 [65.3 kB]\n",
            "Get:2 http://archive.ubuntu.com/ubuntu jammy/universe amd64 libportaudiocpp0 amd64 19.6.0-1.1 [16.1 kB]\n",
            "Get:3 http://archive.ubuntu.com/ubuntu jammy/universe amd64 portaudio19-dev amd64 19.6.0-1.1 [106 kB]\n",
            "Fetched 188 kB in 2s (109 kB/s)\n",
            "Selecting previously unselected package libportaudio2:amd64.\n",
            "(Reading database ... 120903 files and directories currently installed.)\n",
            "Preparing to unpack .../libportaudio2_19.6.0-1.1_amd64.deb ...\n",
            "Unpacking libportaudio2:amd64 (19.6.0-1.1) ...\n",
            "Selecting previously unselected package libportaudiocpp0:amd64.\n",
            "Preparing to unpack .../libportaudiocpp0_19.6.0-1.1_amd64.deb ...\n",
            "Unpacking libportaudiocpp0:amd64 (19.6.0-1.1) ...\n",
            "Selecting previously unselected package portaudio19-dev:amd64.\n",
            "Preparing to unpack .../portaudio19-dev_19.6.0-1.1_amd64.deb ...\n",
            "Unpacking portaudio19-dev:amd64 (19.6.0-1.1) ...\n",
            "Setting up libportaudio2:amd64 (19.6.0-1.1) ...\n",
            "Setting up libportaudiocpp0:amd64 (19.6.0-1.1) ...\n",
            "Setting up portaudio19-dev:amd64 (19.6.0-1.1) ...\n",
            "Processing triggers for libc-bin (2.35-0ubuntu3.4) ...\n",
            "/sbin/ldconfig.real: /usr/local/lib/libtbbmalloc_proxy.so.2 is not a symbolic link\n",
            "\n",
            "/sbin/ldconfig.real: /usr/local/lib/libtbbbind_2_0.so.3 is not a symbolic link\n",
            "\n",
            "/sbin/ldconfig.real: /usr/local/lib/libtbbbind_2_5.so.3 is not a symbolic link\n",
            "\n",
            "/sbin/ldconfig.real: /usr/local/lib/libtbbbind.so.3 is not a symbolic link\n",
            "\n",
            "/sbin/ldconfig.real: /usr/local/lib/libtbb.so.12 is not a symbolic link\n",
            "\n",
            "/sbin/ldconfig.real: /usr/local/lib/libtbbmalloc.so.2 is not a symbolic link\n",
            "\n"
          ]
        }
      ]
    },
    {
      "cell_type": "code",
      "source": [
        "!pip install ffmpeg-python"
      ],
      "metadata": {
        "colab": {
          "base_uri": "https://localhost:8080/"
        },
        "id": "ZdD0PFRfK9Ar",
        "outputId": "55920bb6-1df4-4ba8-e00a-09fa6d63c51f"
      },
      "execution_count": 12,
      "outputs": [
        {
          "output_type": "stream",
          "name": "stdout",
          "text": [
            "Collecting ffmpeg-python\n",
            "  Downloading ffmpeg_python-0.2.0-py3-none-any.whl (25 kB)\n",
            "Requirement already satisfied: future in /usr/local/lib/python3.10/dist-packages (from ffmpeg-python) (0.18.3)\n",
            "Installing collected packages: ffmpeg-python\n",
            "Successfully installed ffmpeg-python-0.2.0\n"
          ]
        }
      ]
    },
    {
      "cell_type": "code",
      "source": [
        "!pip install PyAudio"
      ],
      "metadata": {
        "colab": {
          "base_uri": "https://localhost:8080/"
        },
        "id": "HaFXWvZiAmKn",
        "outputId": "945d3687-9980-485a-fdba-7921181ae764"
      },
      "execution_count": 13,
      "outputs": [
        {
          "output_type": "stream",
          "name": "stdout",
          "text": [
            "Collecting PyAudio\n",
            "  Downloading PyAudio-0.2.14.tar.gz (47 kB)\n",
            "\u001b[?25l     \u001b[90m━━━━━━━━━━━━━━━━━━━━━━━━━━━━━━━━━━━━━━━━\u001b[0m \u001b[32m0.0/47.1 kB\u001b[0m \u001b[31m?\u001b[0m eta \u001b[36m-:--:--\u001b[0m\r\u001b[2K     \u001b[90m━━━━━━━━━━━━━━━━━━━━━━━━━━━━━━━━━━━━━━━━\u001b[0m \u001b[32m47.1/47.1 kB\u001b[0m \u001b[31m1.4 MB/s\u001b[0m eta \u001b[36m0:00:00\u001b[0m\n",
            "\u001b[?25h  Installing build dependencies ... \u001b[?25l\u001b[?25hdone\n",
            "  Getting requirements to build wheel ... \u001b[?25l\u001b[?25hdone\n",
            "  Preparing metadata (pyproject.toml) ... \u001b[?25l\u001b[?25hdone\n",
            "Building wheels for collected packages: PyAudio\n",
            "  Building wheel for PyAudio (pyproject.toml) ... \u001b[?25l\u001b[?25hdone\n",
            "  Created wheel for PyAudio: filename=PyAudio-0.2.14-cp310-cp310-linux_x86_64.whl size=63861 sha256=798c155448f3e5eb5fc035ad65804ac1c4e252088da8f9c1767c9bd93d8ecc43\n",
            "  Stored in directory: /root/.cache/pip/wheels/d6/21/f4/0b51d41ba79e51b16295cbb096ec49f334792814d545b508c5\n",
            "Successfully built PyAudio\n",
            "Installing collected packages: PyAudio\n",
            "Successfully installed PyAudio-0.2.14\n"
          ]
        }
      ]
    },
    {
      "cell_type": "code",
      "source": [
        "try:\n",
        "  import io\n",
        "  import ffmpeg\n",
        "  import numpy as np\n",
        "\n",
        "  # Only available in Google Colab\n",
        "  from google.colab.output import eval_js\n",
        "\n",
        "  from IPython.display import HTML, Audio\n",
        "  from scipy.io.wavfile import write, read as wav_read\n",
        "  from base64 import b64decode\n",
        "  from os.path import isfile\n",
        "\n",
        "  AUDIO_HTML = \"\"\"\n",
        "  <script>\n",
        "  var my_div = document.createElement(\"DIV\");\n",
        "  var my_p = document.createElement(\"P\");\n",
        "  var my_btn = document.createElement(\"BUTTON\");\n",
        "  var t = document.createTextNode(\"Starting recording...\");\n",
        "\n",
        "  my_btn.appendChild(t);\n",
        "  my_div.appendChild(my_btn);\n",
        "  document.body.appendChild(my_div);\n",
        "\n",
        "  var base64data = 0;\n",
        "  var reader;\n",
        "  var recorder, gumStream;\n",
        "  var recordButton = my_btn;\n",
        "\n",
        "  var handleSuccess = function(stream) {\n",
        "    gumStream = stream;\n",
        "    var options = {\n",
        "      bitsPerSecond: 16000,\n",
        "      mimeType : 'audio/webm;codecs=opus' //codecs=pcm\n",
        "    };\n",
        "    recorder = new MediaRecorder(stream, options);\n",
        "    //recorder = new MediaRecorder(stream);\n",
        "\n",
        "    recorder.ondataavailable = function(e) {\n",
        "      var url = URL.createObjectURL(e.data);\n",
        "      var preview = document.createElement('audio');\n",
        "      preview.controls = true;\n",
        "      preview.src = url;\n",
        "      document.body.appendChild(preview);\n",
        "\n",
        "      reader = new FileReader();\n",
        "      reader.readAsDataURL(e.data);\n",
        "      reader.onloadend = function() {\n",
        "        base64data = reader.result;\n",
        "        //console.log(\"reader.onloadend: \" + base64data);\n",
        "      }\n",
        "    };\n",
        "    recorder.start();\n",
        "    recordButton.innerText = \"🔴 Recording... press to STOP\";\n",
        "  };\n",
        "\n",
        "  navigator.mediaDevices.getUserMedia({audio: true}).then(handleSuccess);\n",
        "\n",
        "  function toggleRecording() {\n",
        "    if (recorder && recorder.state == \"recording\") {\n",
        "        recorder.stop();\n",
        "        gumStream.getAudioTracks()[0].stop();\n",
        "        recordButton.innerText = \"Saving the recording... please wait!\";\n",
        "    }\n",
        "  }\n",
        "\n",
        "  // https://stackoverflow.com/a/951057\n",
        "  function sleep(ms) {\n",
        "    return new Promise(resolve => setTimeout(resolve, ms));\n",
        "  }\n",
        "\n",
        "  var data = new Promise(resolve => {\n",
        "    recordButton.onclick = () => {\n",
        "      toggleRecording();\n",
        "\n",
        "      sleep(2000).then(() => {\n",
        "        // wait 2000ms for the data to be available...\n",
        "        //console.log(\"resolve data: \" + base64data);\n",
        "        resolve(base64data.toString());\n",
        "      });\n",
        "    }\n",
        "  });\n",
        "\n",
        "  function doneRecording(recording_file) {\n",
        "    my_div.removeChild(recordButton);\n",
        "    my_p.innerText = recording_file;\n",
        "    my_div.appendChild(my_p);\n",
        "  }\n",
        "\n",
        "  </script>\n",
        "  \"\"\"\n",
        "\n",
        "  def get_audio():\n",
        "    display(HTML(AUDIO_HTML))\n",
        "    data = eval_js(\"data\")\n",
        "    binary = b64decode(data.split(',')[1])\n",
        "\n",
        "    process = (ffmpeg\n",
        "      .input('pipe:0')\n",
        "      .output('pipe:1', format='wav')\n",
        "      .run_async(pipe_stdin=True, pipe_stdout=True, pipe_stderr=True, quiet=True, overwrite_output=True)\n",
        "    )\n",
        "    output, err = process.communicate(input=binary)\n",
        "\n",
        "    riff_chunk_size = len(output) - 8\n",
        "    # Break up the chunk size into four bytes, held in b.\n",
        "    q = riff_chunk_size\n",
        "    b = []\n",
        "    for i in range(4):\n",
        "      q, r = divmod(q, 256)\n",
        "      b.append(r)\n",
        "\n",
        "    # Replace bytes 4:8 in proc.stdout with the actual size of the RIFF chunk.\n",
        "    riff = output[:4] + bytes(b) + output[8:]\n",
        "\n",
        "    sr, audio = wav_read(io.BytesIO(riff))\n",
        "\n",
        "    return audio, sr\n",
        "\n",
        "  recording_file = \"recording4.wav\" #@param {type:\"string\"}\n",
        "\n",
        "  if isfile(recording_file):\n",
        "    print(f\"{recording_file} already exists, if you want to create another recording with the same name, delete it first\")\n",
        "  else:\n",
        "    # record microphone\n",
        "    print('마이크 대기')\n",
        "    audio, sr = get_audio()\n",
        "\n",
        "    # write recording\n",
        "    write(recording_file, sr, audio)\n",
        "\n",
        "\n",
        "    eval_js(f'doneRecording(\"{recording_file}\")')\n",
        "except ImportError:\n",
        "  print(\"Recording only available in Google Colab\")"
      ],
      "metadata": {
        "colab": {
          "base_uri": "https://localhost:8080/",
          "height": 122
        },
        "id": "XyyeYri_ImR5",
        "outputId": "7356a569-694b-45b3-c4bc-56d26a658c13"
      },
      "execution_count": 18,
      "outputs": [
        {
          "output_type": "stream",
          "name": "stdout",
          "text": [
            "마이크 대기\n"
          ]
        },
        {
          "output_type": "display_data",
          "data": {
            "text/plain": [
              "<IPython.core.display.HTML object>"
            ],
            "text/html": [
              "\n",
              "  <script>\n",
              "  var my_div = document.createElement(\"DIV\");\n",
              "  var my_p = document.createElement(\"P\");\n",
              "  var my_btn = document.createElement(\"BUTTON\");\n",
              "  var t = document.createTextNode(\"Starting recording...\");\n",
              "\n",
              "  my_btn.appendChild(t);\n",
              "  my_div.appendChild(my_btn);\n",
              "  document.body.appendChild(my_div);\n",
              "\n",
              "  var base64data = 0;\n",
              "  var reader;\n",
              "  var recorder, gumStream;\n",
              "  var recordButton = my_btn;\n",
              "\n",
              "  var handleSuccess = function(stream) {\n",
              "    gumStream = stream;\n",
              "    var options = {\n",
              "      bitsPerSecond: 16000,\n",
              "      mimeType : 'audio/webm;codecs=opus' //codecs=pcm\n",
              "    };\n",
              "    recorder = new MediaRecorder(stream, options);\n",
              "    //recorder = new MediaRecorder(stream);\n",
              "\n",
              "    recorder.ondataavailable = function(e) {\n",
              "      var url = URL.createObjectURL(e.data);\n",
              "      var preview = document.createElement('audio');\n",
              "      preview.controls = true;\n",
              "      preview.src = url;\n",
              "      document.body.appendChild(preview);\n",
              "\n",
              "      reader = new FileReader();\n",
              "      reader.readAsDataURL(e.data);\n",
              "      reader.onloadend = function() {\n",
              "        base64data = reader.result;\n",
              "        //console.log(\"reader.onloadend: \" + base64data);\n",
              "      }\n",
              "    };\n",
              "    recorder.start();\n",
              "    recordButton.innerText = \"🔴 Recording... press to STOP\";\n",
              "  };\n",
              "\n",
              "  navigator.mediaDevices.getUserMedia({audio: true}).then(handleSuccess);\n",
              "\n",
              "  function toggleRecording() {\n",
              "    if (recorder && recorder.state == \"recording\") {\n",
              "        recorder.stop();\n",
              "        gumStream.getAudioTracks()[0].stop();\n",
              "        recordButton.innerText = \"Saving the recording... please wait!\";\n",
              "    }\n",
              "  }\n",
              "\n",
              "  // https://stackoverflow.com/a/951057\n",
              "  function sleep(ms) {\n",
              "    return new Promise(resolve => setTimeout(resolve, ms));\n",
              "  }\n",
              "\n",
              "  var data = new Promise(resolve => {\n",
              "    recordButton.onclick = () => {\n",
              "      toggleRecording();\n",
              "\n",
              "      sleep(2000).then(() => {\n",
              "        // wait 2000ms for the data to be available...\n",
              "        //console.log(\"resolve data: \" + base64data);\n",
              "        resolve(base64data.toString());\n",
              "      });\n",
              "    }\n",
              "  });\n",
              "\n",
              "  function doneRecording(recording_file) {\n",
              "    my_div.removeChild(recordButton);\n",
              "    my_p.innerText = recording_file;\n",
              "    my_div.appendChild(my_p);\n",
              "  }\n",
              "\n",
              "  </script>\n",
              "  "
            ]
          },
          "metadata": {}
        }
      ]
    },
    {
      "cell_type": "code",
      "source": [
        "import speech_recognition as sr\n",
        "\n",
        "AUDIO_FILE = 'recording4.wav'\n",
        "r = sr.Recognizer()\n",
        "\n",
        "with sr.AudioFile(AUDIO_FILE) as source:\n",
        "    audio = r.record(source)\n",
        "text = r.recognize_google(audio, language='ko')\n",
        "print(text)"
      ],
      "metadata": {
        "colab": {
          "base_uri": "https://localhost:8080/"
        },
        "id": "igG9WfYiL6gy",
        "outputId": "6b8a3870-0d1c-4c52-9aaa-6ed28afcb18a"
      },
      "execution_count": 19,
      "outputs": [
        {
          "output_type": "stream",
          "name": "stdout",
          "text": [
            "해 볼까요네 안녕하세요\n"
          ]
        }
      ]
    }
  ]
}