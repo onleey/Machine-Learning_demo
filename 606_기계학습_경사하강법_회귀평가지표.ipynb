{
  "nbformat": 4,
  "nbformat_minor": 0,
  "metadata": {
    "colab": {
      "provenance": [],
      "authorship_tag": "ABX9TyPOInzjqb8YJFe64+rB477k",
      "include_colab_link": true
    },
    "kernelspec": {
      "name": "python3",
      "display_name": "Python 3"
    },
    "language_info": {
      "name": "python"
    }
  },
  "cells": [
    {
      "cell_type": "markdown",
      "metadata": {
        "id": "view-in-github",
        "colab_type": "text"
      },
      "source": [
        "<a href=\"https://colab.research.google.com/github/onleey/Machine-Learning_demo/blob/master/606_%EA%B8%B0%EA%B3%84%ED%95%99%EC%8A%B5_%EA%B2%BD%EC%82%AC%ED%95%98%EA%B0%95%EB%B2%95_%ED%9A%8C%EA%B7%80%ED%8F%89%EA%B0%80%EC%A7%80%ED%91%9C.ipynb\" target=\"_parent\"><img src=\"https://colab.research.google.com/assets/colab-badge.svg\" alt=\"Open In Colab\"/></a>"
      ]
    },
    {
      "cell_type": "code",
      "execution_count": 1,
      "metadata": {
        "id": "aTsFBzQGgKyd"
      },
      "outputs": [],
      "source": [
        "import numpy as np\n",
        "import matplotlib.pyplot as plt\n",
        "import pandas as pd\n",
        "import seaborn as sns"
      ]
    },
    {
      "cell_type": "code",
      "source": [
        "####################\n",
        "######난수발생#####\n",
        "###################\n",
        "\n",
        "#0부터 1사이의 균일분포\n",
        "data = np.random.rand(10)\n",
        "print(data)\n",
        "\n",
        "#가우시안 표준 정규분포 (평균: 0, 표준편차 : 1)\n",
        "data = np.random.randn(10)\n",
        "print(data)\n",
        "\n",
        "#균일분포의 정수 난수\n",
        "data = np.random.randint(10)\n",
        "print(data)"
      ],
      "metadata": {
        "colab": {
          "base_uri": "https://localhost:8080/"
        },
        "id": "N9msVVO1gRfm",
        "outputId": "9fef8cdc-8606-454c-e184-2bbf0826fceb"
      },
      "execution_count": 6,
      "outputs": [
        {
          "output_type": "stream",
          "name": "stdout",
          "text": [
            "[0.51629683 0.82817762 0.45534164 0.63881705 0.97684864 0.67887105\n",
            " 0.61105356 0.94885243 0.68267567 0.64516431]\n",
            "[-0.29196095 -0.7450927   0.37226001  0.28655994  0.19421042  1.71091481\n",
            " -0.35035627  0.18615717 -0.65150795  0.61848923]\n",
            "1\n"
          ]
        }
      ]
    },
    {
      "cell_type": "code",
      "source": [
        "########################\n",
        "##데이터 순서 바꾸기 ###\n",
        "\n",
        "print('np.random.shuffle')\n",
        "#np.random.shuffle: 배열의 요소변경\n",
        "data = np.arange(10)\n",
        "print(data)\n",
        "\n",
        "item= np.random.shuffle(data)\n",
        "print(item)\n",
        "print(data)\n",
        "\n",
        "print('np.random.permutaion')\n",
        "data = np.arange(10)\n",
        "print(data)"
      ],
      "metadata": {
        "colab": {
          "base_uri": "https://localhost:8080/"
        },
        "id": "U0SzRBgAgwvM",
        "outputId": "70bc608f-9492-4b15-8ac7-2610a1885608"
      },
      "execution_count": 9,
      "outputs": [
        {
          "output_type": "stream",
          "name": "stdout",
          "text": [
            "np.random.shuffle\n",
            "[0 1 2 3 4 5 6 7 8 9]\n",
            "None\n",
            "[8 5 1 3 2 0 4 6 7 9]\n"
          ]
        }
      ]
    },
    {
      "cell_type": "code",
      "source": [
        "##################\n",
        "##데이터 샘플링###\n",
        "# np.random.choice (a, size=None, replace =True, p=None)\n",
        "# a : 배열이면 배열자체, 정수이면 arange(1) 명령으로 배열생성\n",
        "# size : 정수, 샘플숫자\n",
        "# replace : boolean, True이면 복원추출, False 면 비복원추출\n",
        "# p : 배열, 각 데이터가 선택될 수 있는 확률\n",
        "\n",
        "print(np.random.choice (5,5, replace = False))\n",
        "\n",
        "data = np.arange (10)\n",
        "print(np.random.choice(data,5))"
      ],
      "metadata": {
        "colab": {
          "base_uri": "https://localhost:8080/"
        },
        "id": "NjhpkXs4jbQk",
        "outputId": "3f121b47-9775-4b89-bcba-2363bbd61b95"
      },
      "execution_count": 13,
      "outputs": [
        {
          "output_type": "stream",
          "name": "stdout",
          "text": [
            "[2 1 3 0 4]\n",
            "[3 0 6 2 1]\n"
          ]
        }
      ]
    },
    {
      "cell_type": "markdown",
      "source": [
        "#### 추세선(Trend Line)\n",
        "- 추세선(Trend Line)은 데이터의 추세를 그래픽으로 표시하고 예측 문제를 분석하는데 사용된다.\n",
        "- 이러한 분석을 회귀분석(예측을 위해 사용하는 통계분석의 한가지)이라고 하며,\n",
        "회귀분석을 사용하여 실제 데이터가 존재하지 않는 범위의 값을 예측할 수 있다.\n",
        "- 추세선을 사용할 수 있는 차트 : 누적형이 아닌 2차원 영역형, 가로 막대형, 세로 막대형, 꺾은선형, 주식형,분산형, 거품형\n",
        "- 추세선을 사용할 수 없는 차트 : 3차원, 누적형, 방사형, 원형, 표면형, 도넛형"
      ],
      "metadata": {
        "id": "bYQJwtb7kobD"
      }
    },
    {
      "cell_type": "code",
      "source": [
        "#y = 4X + 6\n",
        "\n",
        "X = 2 * np.random.rand(100,1)\n",
        "#print(X)\n",
        "\n",
        "y= 6 + 4*X + np.random.randn(100,1)\n",
        "print(y.shape)\n",
        "#print(y)\n",
        "\n",
        "plt.scatter(X,y)\n",
        "\n",
        "pd_X = pd.DataFrame(X,columns=['X'])\n",
        "pd_y = pd.DataFrame(y,columns=['y'])\n",
        "pd_df = pd.concat([pd_X, pd_y], axis = 1)\n",
        "\n",
        "pd_df.head(2)\n",
        "\n",
        "#sns.regplot(x='X', y='y', data = pd_df, color='g', ci=None)\n",
        "sns.regplot(x='X', y='y', data = pd_df, line_kws={'color':'red'},scatter_kws={'color':'green'}, ci=None)"
      ],
      "metadata": {
        "colab": {
          "base_uri": "https://localhost:8080/",
          "height": 486
        },
        "id": "V6k86wjbkPbm",
        "outputId": "0a21463b-27ed-4947-8850-789d009a3a2e"
      },
      "execution_count": 28,
      "outputs": [
        {
          "output_type": "stream",
          "name": "stdout",
          "text": [
            "(100, 1)\n"
          ]
        },
        {
          "output_type": "execute_result",
          "data": {
            "text/plain": [
              "<Axes: xlabel='X', ylabel='y'>"
            ]
          },
          "metadata": {},
          "execution_count": 28
        },
        {
          "output_type": "display_data",
          "data": {
            "text/plain": [
              "<Figure size 640x480 with 1 Axes>"
            ],
            "image/png": "[encoded data removed]"
          },
          "metadata": {}
        }
      ]
    },
    {
      "cell_type": "markdown",
      "source": [
        "경사 하강법 (gradiendt_descent_steps)_MSE(평균제곱오차계산식)"
      ],
      "metadata": {
        "id": "UY94K40o1S6r"
      }
    },
    {
      "cell_type": "code",
      "source": [
        "def get_weight_updates(w, b, X, y, learning_rate = 0.01, l1=0.2, l2=0.7):\n",
        "  N= len(y)\n",
        "\n",
        "# W,b와 동일한 크기를 가진 0값으로 초기화\n",
        "  w_update = np.zeros_like(w)\n",
        "  b_update = np.zeros_like(b)\n",
        "\n",
        "\n",
        "  #예측배열 계산하고 에측과 실제값의 차이 계산\n",
        " #y_pred =wX +b\n",
        "  y_pred = np.dot(X, w.T) +b    # (4,1) (1,1) =(4,1)\n",
        "  diff = y - y_pred\n",
        "\n",
        "  #b_update를 dot 행렬 연산으로 구하기 위해 모두 1값을 가진 행렬 생성\n",
        "\n",
        "  b_factors = np.ones((N,1))\n",
        "\n",
        "\n",
        "  # w와 b를 업데이트 할 w_update와 b_update를 계산\n",
        "  w_update = -(2/N) *learning_rate *(np.dot(X.T,diff)) #(1,4 ) (4,1)\n",
        "  b_update = -(2/N) *learning_rate *(np.dot(b_factors.T,diff))\n",
        "  return w_update, b_update\n",
        "\n",
        "\n"
      ],
      "metadata": {
        "id": "_ZHCHwIXmOH7"
      },
      "execution_count": 64,
      "outputs": []
    },
    {
      "cell_type": "code",
      "source": [
        "# 입력인자 epochs로 주어진 횟수만큼 반복적으로 w와 b를 업데이트 함\n",
        "def gradient_descent_steps(X, y, epochs =2):\n",
        "\n",
        " # w와 b를 모두 0으로 초기화\n",
        " w = np.zeros((1,1))\n",
        " b = np.zeros((1,1))\n",
        "\n",
        "\n",
        " for ind in range(epochs):\n",
        "  w_update, b_update = get_weight_updates(w,b,X,y, learning_rate = 0.1)\n",
        "  w= w - w_update\n",
        "  b= b - b_update\n",
        "  return w,b\n",
        "\n"
      ],
      "metadata": {
        "id": "bW6Lr-qy8t5Z"
      },
      "execution_count": 75,
      "outputs": []
    },
    {
      "cell_type": "code",
      "source": [
        "# 실제 y값과 예측된 y값을 인자로 받아서 mse (평균제곱오차계산식)구현\n",
        "# 이를 이용해 경사 하강법의 예측 오류도 계산\n",
        "def get_cost (y, y_pred):\n",
        "  N= len(y)\n",
        "  cost = np.sum(np.square(y-y_pred)) /N\n",
        "  return cost\n",
        "\n",
        "X = 2* np.random.rand(100,1)\n",
        "#print(X)\n",
        "\n",
        "y= 6 + 4*X +np.random.randn(100,1)  #y=xX +b\n",
        "#print(y)\n",
        "\n",
        "print (X.shape)\n",
        "print (y.shape)\n",
        "\n",
        "w,b = gradient_descent_steps(X,y, epochs=1000)\n",
        "print('w:{0:.3f} b{1:.3f}'.format(w[0,0], b[0,0]))\n",
        "\n",
        "y_pred = w[0,0] * X +b\n",
        "\n",
        "print('Grident Descent Total Cost: {0:.4f}'.format (get_cost(y, y_pred)))"
      ],
      "metadata": {
        "colab": {
          "base_uri": "https://localhost:8080/"
        },
        "id": "2XlK12Mdo-le",
        "outputId": "c937447e-5c59-48fa-f665-602ed90c2d53"
      },
      "execution_count": 78,
      "outputs": [
        {
          "output_type": "stream",
          "name": "stdout",
          "text": [
            "(100, 1)\n",
            "(100, 1)\n",
            "w:2.755 b2.146\n",
            "Grident Descent Total Cost: 30.7378\n"
          ]
        }
      ]
    },
    {
      "cell_type": "code",
      "source": [
        "\n",
        "plt.scatter(X,y)"
      ],
      "metadata": {
        "colab": {
          "base_uri": "https://localhost:8080/",
          "height": 453
        },
        "id": "JJxDWB4WqbAe",
        "outputId": "eae8d7cf-a52f-4fee-cf73-234e653b95e8"
      },
      "execution_count": 79,
      "outputs": [
        {
          "output_type": "execute_result",
          "data": {
            "text/plain": [
              "<matplotlib.collections.PathCollection at 0x7b23d8cbca00>"
            ]
          },
          "metadata": {},
          "execution_count": 79
        },
        {
          "output_type": "display_data",
          "data": {
            "text/plain": [
              "<Figure size 640x480 with 1 Axes>"
            ],
            "image/png": "[encoded data removed]"
          },
          "metadata": {}
        }
      ]
    },
    {
      "cell_type": "code",
      "source": [
        "X = 2 * np.random.rand(4, 1)\n",
        "#print(X)\n",
        "y = 6 + 4*X + np.random.randn(4,1)\n",
        "\n",
        "print(X.shape)\n",
        "print(y.shape)\n",
        "\n",
        "\n",
        "w, b= gradient_descent_steps(X, y)\n",
        "print('w:{0:.3f} b:{1:.3f}'.format(w[0,0], b[0,0]))\n"
      ],
      "metadata": {
        "colab": {
          "base_uri": "https://localhost:8080/"
        },
        "id": "iD2CIx50-HXi",
        "outputId": "2cd2c7f6-57e5-4220-b1b3-167d1303aa3a"
      },
      "execution_count": 76,
      "outputs": [
        {
          "output_type": "stream",
          "name": "stdout",
          "text": [
            "(4, 1)\n",
            "(4, 1)\n",
            "w:1.733 b:1.961\n"
          ]
        }
      ]
    },
    {
      "cell_type": "code",
      "source": [
        "y= np.array ([1,3,5,6])\n",
        "N= len(y)\n",
        "b_factors = np.ones((N,1))\n",
        "b_factors"
      ],
      "metadata": {
        "colab": {
          "base_uri": "https://localhost:8080/"
        },
        "id": "X_9SwyKg4vIh",
        "outputId": "5504a5c4-c804-40ee-c75c-ae857e5c35b2"
      },
      "execution_count": 35,
      "outputs": [
        {
          "output_type": "execute_result",
          "data": {
            "text/plain": [
              "array([[1.],\n",
              "       [1.],\n",
              "       [1.],\n",
              "       [1.]])"
            ]
          },
          "metadata": {},
          "execution_count": 35
        }
      ]
    }
  ]
}